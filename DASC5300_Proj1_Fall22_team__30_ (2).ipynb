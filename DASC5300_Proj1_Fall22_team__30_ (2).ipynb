{
  "nbformat": 4,
  "nbformat_minor": 0,
  "metadata": {
    "colab": {
      "provenance": [],
      "collapsed_sections": []
    },
    "kernelspec": {
      "name": "python3",
      "display_name": "Python 3"
    },
    "language_info": {
      "name": "python"
    }
  },
  "cells": [
    {
      "cell_type": "markdown",
      "source": [
        "# **Data Analysis of Motor Vechile Collisions in USA**\n",
        "\n"
      ],
      "metadata": {
        "id": "XCCfwKFSPA9q"
      }
    },
    {
      "cell_type": "markdown",
      "source": [
        "# **Loading the Data and necessary libraries**"
      ],
      "metadata": {
        "id": "ilbNF58KIUwb"
      }
    },
    {
      "cell_type": "code",
      "source": [
        "#importing the necessary libraries for the Analysis\n",
        "import pandas as pd\n",
        "import numpy as np\n",
        "import seaborn as sns\n",
        "import matplotlib.pyplot as plt\n",
        "%matplotlib inline\n"
      ],
      "metadata": {
        "id": "kjIEEGM-FW4P"
      },
      "execution_count": 3,
      "outputs": []
    },
    {
      "cell_type": "code",
      "execution_count": 4,
      "metadata": {
        "id": "LZkq2WBYFJOG"
      },
      "outputs": [],
      "source": [
        "#Path of the file from which the data is taken\n",
        "file = '/content/drive/MyDrive/Motor_Vehicle_Collisions_-_Vehicles.csv'"
      ]
    },
    {
      "cell_type": "code",
      "source": [
        "#Read the csv file and converted it into a dataframe.\n",
        "df = pd.read_csv(file)"
      ],
      "metadata": {
        "colab": {
          "base_uri": "https://localhost:8080/"
        },
        "id": "Wd68OZh9FQz4",
        "outputId": "68963e3f-4b78-49dd-bfad-f9bdc2f99c38"
      },
      "execution_count": 5,
      "outputs": [
        {
          "output_type": "stream",
          "name": "stderr",
          "text": [
            "/usr/local/lib/python3.7/dist-packages/IPython/core/interactiveshell.py:3326: DtypeWarning: Columns (8) have mixed types.Specify dtype option on import or set low_memory=False.\n",
            "  exec(code_obj, self.user_global_ns, self.user_ns)\n"
          ]
        }
      ]
    },
    {
      "cell_type": "markdown",
      "source": [
        "# **Data Pre-Processing**"
      ],
      "metadata": {
        "id": "WnPeSyjZIvJC"
      }
    },
    {
      "cell_type": "code",
      "source": [
        "#Checked the shape to identify the total no of rows and columns\n",
        "df.shape"
      ],
      "metadata": {
        "colab": {
          "base_uri": "https://localhost:8080/"
        },
        "id": "iGcZ46pbPbFe",
        "outputId": "353533f1-c0b6-4ee6-900f-8f8944334a70"
      },
      "execution_count": 6,
      "outputs": [
        {
          "output_type": "execute_result",
          "data": {
            "text/plain": [
              "(3704406, 25)"
            ]
          },
          "metadata": {},
          "execution_count": 6
        }
      ]
    },
    {
      "cell_type": "code",
      "source": [
        "#To see the representation of CRASH DATE column to make appropriate patterns for extraction of data.\n",
        "df['CRASH_DATE']"
      ],
      "metadata": {
        "colab": {
          "base_uri": "https://localhost:8080/"
        },
        "id": "0OsRC3tNV1Ed",
        "outputId": "c8da1d8b-850d-46fc-bb67-ee4e0a09b662"
      },
      "execution_count": 7,
      "outputs": [
        {
          "output_type": "execute_result",
          "data": {
            "text/plain": [
              "0          09/07/2012\n",
              "1          09/23/2019\n",
              "2          10/02/2015\n",
              "3          10/04/2015\n",
              "4          04/25/2013\n",
              "              ...    \n",
              "3704401    11/15/2021\n",
              "3704402    11/24/2021\n",
              "3704403    11/11/2021\n",
              "3704404    11/06/2021\n",
              "3704405    12/02/2021\n",
              "Name: CRASH_DATE, Length: 3704406, dtype: object"
            ]
          },
          "metadata": {},
          "execution_count": 7
        }
      ]
    },
    {
      "cell_type": "code",
      "source": [
        "\n",
        "df['CRASH_DATE'] = pd.to_datetime(df['CRASH_DATE'])"
      ],
      "metadata": {
        "id": "ug-vNkKcWTEl"
      },
      "execution_count": 8,
      "outputs": []
    },
    {
      "cell_type": "code",
      "source": [
        "df.head(5)"
      ],
      "metadata": {
        "colab": {
          "base_uri": "https://localhost:8080/",
          "height": 438
        },
        "id": "2Vc8pUXsFp0x",
        "outputId": "a3efb526-35c0-4afe-8b92-3597e05725c5"
      },
      "execution_count": 9,
      "outputs": [
        {
          "output_type": "execute_result",
          "data": {
            "text/plain": [
              "   UNIQUE_ID  COLLISION_ID CRASH_DATE CRASH_TIME  \\\n",
              "0   10385780        100201 2012-09-07       9:03   \n",
              "1   19140702       4213082 2019-09-23       8:15   \n",
              "2   14887647       3307608 2015-10-02      17:18   \n",
              "3   14889754       3308693 2015-10-04      20:34   \n",
              "4   14400270        297666 2013-04-25      21:15   \n",
              "\n",
              "                             VEHICLE_ID STATE_REGISTRATION  \\\n",
              "0                                     1                 NY   \n",
              "1  0553ab4d-9500-4cba-8d98-f4d7f89d5856                 NY   \n",
              "2                                     2                 NY   \n",
              "3                                     1                 NY   \n",
              "4                                     1                 NY   \n",
              "\n",
              "                          VEHICLE_TYPE   VEHICLE_MAKE VEHICLE_MODEL  \\\n",
              "0                    PASSENGER VEHICLE            NaN           NaN   \n",
              "1  Station Wagon/Sport Utility Vehicle  TOYT -CAR/SUV           NaN   \n",
              "2                                 TAXI            NaN           NaN   \n",
              "3                    PASSENGER VEHICLE            NaN           NaN   \n",
              "4                    PASSENGER VEHICLE            NaN           NaN   \n",
              "\n",
              "   VEHICLE_YEAR  ...             PRE_CRASH    POINT_OF_IMPACT  \\\n",
              "0           NaN  ...                   NaN                NaN   \n",
              "1        2002.0  ...  Going Straight Ahead  Left Front Bumper   \n",
              "2           NaN  ...  Going Straight Ahead                NaN   \n",
              "3           NaN  ...                Parked                NaN   \n",
              "4           NaN  ...                   NaN                NaN   \n",
              "\n",
              "             VEHICLE_DAMAGE VEHICLE_DAMAGE_1 VEHICLE_DAMAGE_2  \\\n",
              "0                       NaN              NaN              NaN   \n",
              "1  Left Front Quarter Panel              NaN              NaN   \n",
              "2                       NaN              NaN              NaN   \n",
              "3                       NaN              NaN              NaN   \n",
              "4                       NaN              NaN              NaN   \n",
              "\n",
              "  VEHICLE_DAMAGE_3 PUBLIC_PROPERTY_DAMAGE PUBLIC_PROPERTY_DAMAGE_TYPE  \\\n",
              "0              NaN                    NaN                         NaN   \n",
              "1              NaN                      N                         NaN   \n",
              "2              NaN                    NaN                         NaN   \n",
              "3              NaN                    NaN                         NaN   \n",
              "4              NaN                    NaN                         NaN   \n",
              "\n",
              "            CONTRIBUTING_FACTOR_1 CONTRIBUTING_FACTOR_2  \n",
              "0                     Unspecified                   NaN  \n",
              "1  Driver Inattention/Distraction           Unspecified  \n",
              "2  Driver Inattention/Distraction                   NaN  \n",
              "3                     Unspecified                   NaN  \n",
              "4                 Other Vehicular                   NaN  \n",
              "\n",
              "[5 rows x 25 columns]"
            ],
            "text/html": [
              "\n",
              "  <div id=\"df-c89970f6-0ced-4e0c-a74f-3d06ff694ae5\">\n",
              "    <div class=\"colab-df-container\">\n",
              "      <div>\n",
              "<style scoped>\n",
              "    .dataframe tbody tr th:only-of-type {\n",
              "        vertical-align: middle;\n",
              "    }\n",
              "\n",
              "    .dataframe tbody tr th {\n",
              "        vertical-align: top;\n",
              "    }\n",
              "\n",
              "    .dataframe thead th {\n",
              "        text-align: right;\n",
              "    }\n",
              "</style>\n",
              "<table border=\"1\" class=\"dataframe\">\n",
              "  <thead>\n",
              "    <tr style=\"text-align: right;\">\n",
              "      <th></th>\n",
              "      <th>UNIQUE_ID</th>\n",
              "      <th>COLLISION_ID</th>\n",
              "      <th>CRASH_DATE</th>\n",
              "      <th>CRASH_TIME</th>\n",
              "      <th>VEHICLE_ID</th>\n",
              "      <th>STATE_REGISTRATION</th>\n",
              "      <th>VEHICLE_TYPE</th>\n",
              "      <th>VEHICLE_MAKE</th>\n",
              "      <th>VEHICLE_MODEL</th>\n",
              "      <th>VEHICLE_YEAR</th>\n",
              "      <th>...</th>\n",
              "      <th>PRE_CRASH</th>\n",
              "      <th>POINT_OF_IMPACT</th>\n",
              "      <th>VEHICLE_DAMAGE</th>\n",
              "      <th>VEHICLE_DAMAGE_1</th>\n",
              "      <th>VEHICLE_DAMAGE_2</th>\n",
              "      <th>VEHICLE_DAMAGE_3</th>\n",
              "      <th>PUBLIC_PROPERTY_DAMAGE</th>\n",
              "      <th>PUBLIC_PROPERTY_DAMAGE_TYPE</th>\n",
              "      <th>CONTRIBUTING_FACTOR_1</th>\n",
              "      <th>CONTRIBUTING_FACTOR_2</th>\n",
              "    </tr>\n",
              "  </thead>\n",
              "  <tbody>\n",
              "    <tr>\n",
              "      <th>0</th>\n",
              "      <td>10385780</td>\n",
              "      <td>100201</td>\n",
              "      <td>2012-09-07</td>\n",
              "      <td>9:03</td>\n",
              "      <td>1</td>\n",
              "      <td>NY</td>\n",
              "      <td>PASSENGER VEHICLE</td>\n",
              "      <td>NaN</td>\n",
              "      <td>NaN</td>\n",
              "      <td>NaN</td>\n",
              "      <td>...</td>\n",
              "      <td>NaN</td>\n",
              "      <td>NaN</td>\n",
              "      <td>NaN</td>\n",
              "      <td>NaN</td>\n",
              "      <td>NaN</td>\n",
              "      <td>NaN</td>\n",
              "      <td>NaN</td>\n",
              "      <td>NaN</td>\n",
              "      <td>Unspecified</td>\n",
              "      <td>NaN</td>\n",
              "    </tr>\n",
              "    <tr>\n",
              "      <th>1</th>\n",
              "      <td>19140702</td>\n",
              "      <td>4213082</td>\n",
              "      <td>2019-09-23</td>\n",
              "      <td>8:15</td>\n",
              "      <td>0553ab4d-9500-4cba-8d98-f4d7f89d5856</td>\n",
              "      <td>NY</td>\n",
              "      <td>Station Wagon/Sport Utility Vehicle</td>\n",
              "      <td>TOYT -CAR/SUV</td>\n",
              "      <td>NaN</td>\n",
              "      <td>2002.0</td>\n",
              "      <td>...</td>\n",
              "      <td>Going Straight Ahead</td>\n",
              "      <td>Left Front Bumper</td>\n",
              "      <td>Left Front Quarter Panel</td>\n",
              "      <td>NaN</td>\n",
              "      <td>NaN</td>\n",
              "      <td>NaN</td>\n",
              "      <td>N</td>\n",
              "      <td>NaN</td>\n",
              "      <td>Driver Inattention/Distraction</td>\n",
              "      <td>Unspecified</td>\n",
              "    </tr>\n",
              "    <tr>\n",
              "      <th>2</th>\n",
              "      <td>14887647</td>\n",
              "      <td>3307608</td>\n",
              "      <td>2015-10-02</td>\n",
              "      <td>17:18</td>\n",
              "      <td>2</td>\n",
              "      <td>NY</td>\n",
              "      <td>TAXI</td>\n",
              "      <td>NaN</td>\n",
              "      <td>NaN</td>\n",
              "      <td>NaN</td>\n",
              "      <td>...</td>\n",
              "      <td>Going Straight Ahead</td>\n",
              "      <td>NaN</td>\n",
              "      <td>NaN</td>\n",
              "      <td>NaN</td>\n",
              "      <td>NaN</td>\n",
              "      <td>NaN</td>\n",
              "      <td>NaN</td>\n",
              "      <td>NaN</td>\n",
              "      <td>Driver Inattention/Distraction</td>\n",
              "      <td>NaN</td>\n",
              "    </tr>\n",
              "    <tr>\n",
              "      <th>3</th>\n",
              "      <td>14889754</td>\n",
              "      <td>3308693</td>\n",
              "      <td>2015-10-04</td>\n",
              "      <td>20:34</td>\n",
              "      <td>1</td>\n",
              "      <td>NY</td>\n",
              "      <td>PASSENGER VEHICLE</td>\n",
              "      <td>NaN</td>\n",
              "      <td>NaN</td>\n",
              "      <td>NaN</td>\n",
              "      <td>...</td>\n",
              "      <td>Parked</td>\n",
              "      <td>NaN</td>\n",
              "      <td>NaN</td>\n",
              "      <td>NaN</td>\n",
              "      <td>NaN</td>\n",
              "      <td>NaN</td>\n",
              "      <td>NaN</td>\n",
              "      <td>NaN</td>\n",
              "      <td>Unspecified</td>\n",
              "      <td>NaN</td>\n",
              "    </tr>\n",
              "    <tr>\n",
              "      <th>4</th>\n",
              "      <td>14400270</td>\n",
              "      <td>297666</td>\n",
              "      <td>2013-04-25</td>\n",
              "      <td>21:15</td>\n",
              "      <td>1</td>\n",
              "      <td>NY</td>\n",
              "      <td>PASSENGER VEHICLE</td>\n",
              "      <td>NaN</td>\n",
              "      <td>NaN</td>\n",
              "      <td>NaN</td>\n",
              "      <td>...</td>\n",
              "      <td>NaN</td>\n",
              "      <td>NaN</td>\n",
              "      <td>NaN</td>\n",
              "      <td>NaN</td>\n",
              "      <td>NaN</td>\n",
              "      <td>NaN</td>\n",
              "      <td>NaN</td>\n",
              "      <td>NaN</td>\n",
              "      <td>Other Vehicular</td>\n",
              "      <td>NaN</td>\n",
              "    </tr>\n",
              "  </tbody>\n",
              "</table>\n",
              "<p>5 rows × 25 columns</p>\n",
              "</div>\n",
              "      <button class=\"colab-df-convert\" onclick=\"convertToInteractive('df-c89970f6-0ced-4e0c-a74f-3d06ff694ae5')\"\n",
              "              title=\"Convert this dataframe to an interactive table.\"\n",
              "              style=\"display:none;\">\n",
              "        \n",
              "  <svg xmlns=\"http://www.w3.org/2000/svg\" height=\"24px\"viewBox=\"0 0 24 24\"\n",
              "       width=\"24px\">\n",
              "    <path d=\"M0 0h24v24H0V0z\" fill=\"none\"/>\n",
              "    <path d=\"M18.56 5.44l.94 2.06.94-2.06 2.06-.94-2.06-.94-.94-2.06-.94 2.06-2.06.94zm-11 1L8.5 8.5l.94-2.06 2.06-.94-2.06-.94L8.5 2.5l-.94 2.06-2.06.94zm10 10l.94 2.06.94-2.06 2.06-.94-2.06-.94-.94-2.06-.94 2.06-2.06.94z\"/><path d=\"M17.41 7.96l-1.37-1.37c-.4-.4-.92-.59-1.43-.59-.52 0-1.04.2-1.43.59L10.3 9.45l-7.72 7.72c-.78.78-.78 2.05 0 2.83L4 21.41c.39.39.9.59 1.41.59.51 0 1.02-.2 1.41-.59l7.78-7.78 2.81-2.81c.8-.78.8-2.07 0-2.86zM5.41 20L4 18.59l7.72-7.72 1.47 1.35L5.41 20z\"/>\n",
              "  </svg>\n",
              "      </button>\n",
              "      \n",
              "  <style>\n",
              "    .colab-df-container {\n",
              "      display:flex;\n",
              "      flex-wrap:wrap;\n",
              "      gap: 12px;\n",
              "    }\n",
              "\n",
              "    .colab-df-convert {\n",
              "      background-color: #E8F0FE;\n",
              "      border: none;\n",
              "      border-radius: 50%;\n",
              "      cursor: pointer;\n",
              "      display: none;\n",
              "      fill: #1967D2;\n",
              "      height: 32px;\n",
              "      padding: 0 0 0 0;\n",
              "      width: 32px;\n",
              "    }\n",
              "\n",
              "    .colab-df-convert:hover {\n",
              "      background-color: #E2EBFA;\n",
              "      box-shadow: 0px 1px 2px rgba(60, 64, 67, 0.3), 0px 1px 3px 1px rgba(60, 64, 67, 0.15);\n",
              "      fill: #174EA6;\n",
              "    }\n",
              "\n",
              "    [theme=dark] .colab-df-convert {\n",
              "      background-color: #3B4455;\n",
              "      fill: #D2E3FC;\n",
              "    }\n",
              "\n",
              "    [theme=dark] .colab-df-convert:hover {\n",
              "      background-color: #434B5C;\n",
              "      box-shadow: 0px 1px 3px 1px rgba(0, 0, 0, 0.15);\n",
              "      filter: drop-shadow(0px 1px 2px rgba(0, 0, 0, 0.3));\n",
              "      fill: #FFFFFF;\n",
              "    }\n",
              "  </style>\n",
              "\n",
              "      <script>\n",
              "        const buttonEl =\n",
              "          document.querySelector('#df-c89970f6-0ced-4e0c-a74f-3d06ff694ae5 button.colab-df-convert');\n",
              "        buttonEl.style.display =\n",
              "          google.colab.kernel.accessAllowed ? 'block' : 'none';\n",
              "\n",
              "        async function convertToInteractive(key) {\n",
              "          const element = document.querySelector('#df-c89970f6-0ced-4e0c-a74f-3d06ff694ae5');\n",
              "          const dataTable =\n",
              "            await google.colab.kernel.invokeFunction('convertToInteractive',\n",
              "                                                     [key], {});\n",
              "          if (!dataTable) return;\n",
              "\n",
              "          const docLinkHtml = 'Like what you see? Visit the ' +\n",
              "            '<a target=\"_blank\" href=https://colab.research.google.com/notebooks/data_table.ipynb>data table notebook</a>'\n",
              "            + ' to learn more about interactive tables.';\n",
              "          element.innerHTML = '';\n",
              "          dataTable['output_type'] = 'display_data';\n",
              "          await google.colab.output.renderOutput(dataTable, element);\n",
              "          const docLink = document.createElement('div');\n",
              "          docLink.innerHTML = docLinkHtml;\n",
              "          element.appendChild(docLink);\n",
              "        }\n",
              "      </script>\n",
              "    </div>\n",
              "  </div>\n",
              "  "
            ]
          },
          "metadata": {},
          "execution_count": 9
        }
      ]
    },
    {
      "cell_type": "code",
      "source": [
        "# df['CRASH_DATE'] = df['CRASH_DATE'].dt.strftime('%d-%m-%Y')"
      ],
      "metadata": {
        "id": "o1McmyYqwdXe"
      },
      "execution_count": 10,
      "outputs": []
    },
    {
      "cell_type": "code",
      "source": [
        "start_date = '2018-09-01'\n",
        "end_date = '2020-08-31'\n",
        "# mvc_data = df.query('CRASH_DATE <= @end_date and CRASH_DATE >= @start_date')\n",
        "mask = (df['CRASH_DATE'] >= start_date) & (df['CRASH_DATE'] <= end_date)"
      ],
      "metadata": {
        "id": "7A82XY7rNqy7"
      },
      "execution_count": 11,
      "outputs": []
    },
    {
      "cell_type": "code",
      "source": [
        "df2 = df.loc[mask]"
      ],
      "metadata": {
        "id": "fWiqSt1YAVhJ"
      },
      "execution_count": 12,
      "outputs": []
    },
    {
      "cell_type": "code",
      "source": [
        "df2.shape"
      ],
      "metadata": {
        "colab": {
          "base_uri": "https://localhost:8080/"
        },
        "id": "_5tWxKsb95aM",
        "outputId": "03dcdd35-95a8-41d9-a75a-b99c6129818b"
      },
      "execution_count": 13,
      "outputs": [
        {
          "output_type": "execute_result",
          "data": {
            "text/plain": [
              "(741086, 25)"
            ]
          },
          "metadata": {},
          "execution_count": 13
        }
      ]
    },
    {
      "cell_type": "code",
      "source": [
        "# Stored the crash data of the years 2015 and 2021 to a csv file \"MVC.csv\" for future use.\n",
        "mvc_data = df2.to_csv('/content/drive/MyDrive/MVC.csv')"
      ],
      "metadata": {
        "id": "i8o9fk1WM8I8"
      },
      "execution_count": 14,
      "outputs": []
    },
    {
      "cell_type": "markdown",
      "source": [
        "# **Crash data between the date 1st September 2018 to 31st August 2020**"
      ],
      "metadata": {
        "id": "oT4_CCcHJTKX"
      }
    },
    {
      "cell_type": "code",
      "source": [
        "# Loaded the the data of the year 2015 and 2021 and made it to a dataframe \"new_df and replacing all \"?\" and\"--\" as np.NaN if they are present as missing values.\"\n",
        "new_data = '/content/drive/MyDrive/MVC.csv'\n",
        "missing_values = [\"?\", \"--\"]\n",
        "new_df = pd.read_csv(new_data, na_values= missing_values)"
      ],
      "metadata": {
        "id": "sJZ20lG8PLbJ"
      },
      "execution_count": 15,
      "outputs": []
    },
    {
      "cell_type": "code",
      "source": [
        "new_df.shape"
      ],
      "metadata": {
        "colab": {
          "base_uri": "https://localhost:8080/"
        },
        "id": "c5PhRSTmP2JX",
        "outputId": "02db2d84-7e70-4c06-9c57-fea360b19c7b"
      },
      "execution_count": 16,
      "outputs": [
        {
          "output_type": "execute_result",
          "data": {
            "text/plain": [
              "(741086, 26)"
            ]
          },
          "metadata": {},
          "execution_count": 16
        }
      ]
    },
    {
      "cell_type": "markdown",
      "source": [
        "**Crash data between the dates 1st September 2018 to 31st August 2020 consist of 741086 accidents. That is 20% of the accidents happened in during this period.**\n",
        "\n",
        "\n",
        "\n",
        "\n"
      ],
      "metadata": {
        "id": "fycjo1nhJ6Nw"
      }
    },
    {
      "cell_type": "markdown",
      "source": [
        "#**Initial Data Pre-Processing**"
      ],
      "metadata": {
        "id": "KNjvDyzpOi2w"
      }
    },
    {
      "cell_type": "markdown",
      "source": [
        "**Replace all missing values with NaN**"
      ],
      "metadata": {
        "id": "wds8VcKjZZhH"
      }
    },
    {
      "cell_type": "code",
      "source": [
        "new_df.replace({\"?\":np.NaN,\"--\":np.NaN}, inplace = True)"
      ],
      "metadata": {
        "id": "hzAMJTr5RF-G"
      },
      "execution_count": 17,
      "outputs": []
    },
    {
      "cell_type": "markdown",
      "source": [
        "**Finding Missing Values**"
      ],
      "metadata": {
        "id": "Y5Pnbk7nPnEW"
      }
    },
    {
      "cell_type": "code",
      "source": [
        "# To find the columns that contain NaN values.\n",
        "new_df.isna().any()"
      ],
      "metadata": {
        "colab": {
          "base_uri": "https://localhost:8080/"
        },
        "id": "Bad8gqiUS4D-",
        "outputId": "cc20bb7c-9c52-472e-c9b1-c2a3fe4b8940"
      },
      "execution_count": 18,
      "outputs": [
        {
          "output_type": "execute_result",
          "data": {
            "text/plain": [
              "Unnamed: 0                     False\n",
              "UNIQUE_ID                      False\n",
              "COLLISION_ID                   False\n",
              "CRASH_DATE                     False\n",
              "CRASH_TIME                     False\n",
              "VEHICLE_ID                     False\n",
              "STATE_REGISTRATION              True\n",
              "VEHICLE_TYPE                    True\n",
              "VEHICLE_MAKE                    True\n",
              "VEHICLE_MODEL                   True\n",
              "VEHICLE_YEAR                    True\n",
              "TRAVEL_DIRECTION                True\n",
              "VEHICLE_OCCUPANTS               True\n",
              "DRIVER_SEX                      True\n",
              "DRIVER_LICENSE_STATUS           True\n",
              "DRIVER_LICENSE_JURISDICTION     True\n",
              "PRE_CRASH                       True\n",
              "POINT_OF_IMPACT                 True\n",
              "VEHICLE_DAMAGE                  True\n",
              "VEHICLE_DAMAGE_1                True\n",
              "VEHICLE_DAMAGE_2                True\n",
              "VEHICLE_DAMAGE_3                True\n",
              "PUBLIC_PROPERTY_DAMAGE         False\n",
              "PUBLIC_PROPERTY_DAMAGE_TYPE     True\n",
              "CONTRIBUTING_FACTOR_1           True\n",
              "CONTRIBUTING_FACTOR_2           True\n",
              "dtype: bool"
            ]
          },
          "metadata": {},
          "execution_count": 18
        }
      ]
    },
    {
      "cell_type": "code",
      "source": [
        "# To find the no of missing values in each column.\n",
        "new_df.isna().sum()"
      ],
      "metadata": {
        "colab": {
          "base_uri": "https://localhost:8080/"
        },
        "id": "DofxRgYobcb4",
        "outputId": "e7e7bf65-9913-4c50-e6fa-2a4710c55229"
      },
      "execution_count": 19,
      "outputs": [
        {
          "output_type": "execute_result",
          "data": {
            "text/plain": [
              "Unnamed: 0                          0\n",
              "UNIQUE_ID                           0\n",
              "COLLISION_ID                        0\n",
              "CRASH_DATE                          0\n",
              "CRASH_TIME                          0\n",
              "VEHICLE_ID                          0\n",
              "STATE_REGISTRATION              74525\n",
              "VEHICLE_TYPE                    59835\n",
              "VEHICLE_MAKE                    85791\n",
              "VEHICLE_MODEL                  741086\n",
              "VEHICLE_YEAR                    88815\n",
              "TRAVEL_DIRECTION                37107\n",
              "VEHICLE_OCCUPANTS               64914\n",
              "DRIVER_SEX                     175432\n",
              "DRIVER_LICENSE_STATUS          192516\n",
              "DRIVER_LICENSE_JURISDICTION    192465\n",
              "PRE_CRASH                       44956\n",
              "POINT_OF_IMPACT                 45833\n",
              "VEHICLE_DAMAGE                  51541\n",
              "VEHICLE_DAMAGE_1               293707\n",
              "VEHICLE_DAMAGE_2               404362\n",
              "VEHICLE_DAMAGE_3               483146\n",
              "PUBLIC_PROPERTY_DAMAGE              0\n",
              "PUBLIC_PROPERTY_DAMAGE_TYPE    734583\n",
              "CONTRIBUTING_FACTOR_1           35702\n",
              "CONTRIBUTING_FACTOR_2           41405\n",
              "dtype: int64"
            ]
          },
          "metadata": {},
          "execution_count": 19
        }
      ]
    },
    {
      "cell_type": "code",
      "source": [
        "new_df.head(5)"
      ],
      "metadata": {
        "colab": {
          "base_uri": "https://localhost:8080/",
          "height": 577
        },
        "id": "apFhIA6W-FCf",
        "outputId": "74236058-6b37-4a66-adfd-0d8e0d2b7eea"
      },
      "execution_count": 20,
      "outputs": [
        {
          "output_type": "execute_result",
          "data": {
            "text/plain": [
              "   Unnamed: 0  UNIQUE_ID  COLLISION_ID  CRASH_DATE CRASH_TIME  \\\n",
              "0           1   19140702       4213082  2019-09-23       8:15   \n",
              "1           6   19138701       4229067  2019-10-24      13:15   \n",
              "2          13   19140791       4229563  2019-10-21      17:55   \n",
              "3          14   19694316       4322767  2020-06-06      18:30   \n",
              "4          19   19140656       4229538  2019-10-24      17:30   \n",
              "\n",
              "                             VEHICLE_ID STATE_REGISTRATION  \\\n",
              "0  0553ab4d-9500-4cba-8d98-f4d7f89d5856                 NY   \n",
              "1  c53b43d9-419a-4ab1-9361-3f2979078d89                 NY   \n",
              "2  86a294b4-6672-4a7e-8357-39d6d2eff9f7                 PA   \n",
              "3  fdc195a7-8127-4c00-834d-bac78b0cf88e                NaN   \n",
              "4  70e5262a-bd27-48a6-99a1-1ec659804088                 NY   \n",
              "\n",
              "                          VEHICLE_TYPE    VEHICLE_MAKE  VEHICLE_MODEL  ...  \\\n",
              "0  Station Wagon/Sport Utility Vehicle   TOYT -CAR/SUV            NaN  ...   \n",
              "1                                  Bus  FRHT-TRUCK/BUS            NaN  ...   \n",
              "2                                Sedan    BMW -CAR/SUV            NaN  ...   \n",
              "3                                 Bike             NaN            NaN  ...   \n",
              "4  Station Wagon/Sport Utility Vehicle   JEEP -CAR/SUV            NaN  ...   \n",
              "\n",
              "              PRE_CRASH           POINT_OF_IMPACT            VEHICLE_DAMAGE  \\\n",
              "0  Going Straight Ahead         Left Front Bumper  Left Front Quarter Panel   \n",
              "1                Parked  Left Front Quarter Panel  Left Front Quarter Panel   \n",
              "2  Going Straight Ahead          Center Front End        Right Front Bumper   \n",
              "3  Going Straight Ahead          Center Front End                 No Damage   \n",
              "4  Going Straight Ahead   Left Rear Quarter Panel   Left Rear Quarter Panel   \n",
              "\n",
              "            VEHICLE_DAMAGE_1    VEHICLE_DAMAGE_2 VEHICLE_DAMAGE_3  \\\n",
              "0                        NaN                 NaN              NaN   \n",
              "1                        NaN                 NaN              NaN   \n",
              "2  Right Front Quarter Panel  Right Front Bumper              NaN   \n",
              "3                  No Damage           No Damage        No Damage   \n",
              "4                        NaN                 NaN              NaN   \n",
              "\n",
              "  PUBLIC_PROPERTY_DAMAGE PUBLIC_PROPERTY_DAMAGE_TYPE  \\\n",
              "0                      N                         NaN   \n",
              "1                      N                         NaN   \n",
              "2                      N                         NaN   \n",
              "3                      N                         NaN   \n",
              "4                      N                         NaN   \n",
              "\n",
              "            CONTRIBUTING_FACTOR_1 CONTRIBUTING_FACTOR_2  \n",
              "0  Driver Inattention/Distraction           Unspecified  \n",
              "1                     Unspecified           Unspecified  \n",
              "2                     Unspecified           Unspecified  \n",
              "3     Traffic Control Disregarded           Unspecified  \n",
              "4                     Unspecified           Unspecified  \n",
              "\n",
              "[5 rows x 26 columns]"
            ],
            "text/html": [
              "\n",
              "  <div id=\"df-88b0c3e2-3ac2-47a2-a1dc-d305654e1f53\">\n",
              "    <div class=\"colab-df-container\">\n",
              "      <div>\n",
              "<style scoped>\n",
              "    .dataframe tbody tr th:only-of-type {\n",
              "        vertical-align: middle;\n",
              "    }\n",
              "\n",
              "    .dataframe tbody tr th {\n",
              "        vertical-align: top;\n",
              "    }\n",
              "\n",
              "    .dataframe thead th {\n",
              "        text-align: right;\n",
              "    }\n",
              "</style>\n",
              "<table border=\"1\" class=\"dataframe\">\n",
              "  <thead>\n",
              "    <tr style=\"text-align: right;\">\n",
              "      <th></th>\n",
              "      <th>Unnamed: 0</th>\n",
              "      <th>UNIQUE_ID</th>\n",
              "      <th>COLLISION_ID</th>\n",
              "      <th>CRASH_DATE</th>\n",
              "      <th>CRASH_TIME</th>\n",
              "      <th>VEHICLE_ID</th>\n",
              "      <th>STATE_REGISTRATION</th>\n",
              "      <th>VEHICLE_TYPE</th>\n",
              "      <th>VEHICLE_MAKE</th>\n",
              "      <th>VEHICLE_MODEL</th>\n",
              "      <th>...</th>\n",
              "      <th>PRE_CRASH</th>\n",
              "      <th>POINT_OF_IMPACT</th>\n",
              "      <th>VEHICLE_DAMAGE</th>\n",
              "      <th>VEHICLE_DAMAGE_1</th>\n",
              "      <th>VEHICLE_DAMAGE_2</th>\n",
              "      <th>VEHICLE_DAMAGE_3</th>\n",
              "      <th>PUBLIC_PROPERTY_DAMAGE</th>\n",
              "      <th>PUBLIC_PROPERTY_DAMAGE_TYPE</th>\n",
              "      <th>CONTRIBUTING_FACTOR_1</th>\n",
              "      <th>CONTRIBUTING_FACTOR_2</th>\n",
              "    </tr>\n",
              "  </thead>\n",
              "  <tbody>\n",
              "    <tr>\n",
              "      <th>0</th>\n",
              "      <td>1</td>\n",
              "      <td>19140702</td>\n",
              "      <td>4213082</td>\n",
              "      <td>2019-09-23</td>\n",
              "      <td>8:15</td>\n",
              "      <td>0553ab4d-9500-4cba-8d98-f4d7f89d5856</td>\n",
              "      <td>NY</td>\n",
              "      <td>Station Wagon/Sport Utility Vehicle</td>\n",
              "      <td>TOYT -CAR/SUV</td>\n",
              "      <td>NaN</td>\n",
              "      <td>...</td>\n",
              "      <td>Going Straight Ahead</td>\n",
              "      <td>Left Front Bumper</td>\n",
              "      <td>Left Front Quarter Panel</td>\n",
              "      <td>NaN</td>\n",
              "      <td>NaN</td>\n",
              "      <td>NaN</td>\n",
              "      <td>N</td>\n",
              "      <td>NaN</td>\n",
              "      <td>Driver Inattention/Distraction</td>\n",
              "      <td>Unspecified</td>\n",
              "    </tr>\n",
              "    <tr>\n",
              "      <th>1</th>\n",
              "      <td>6</td>\n",
              "      <td>19138701</td>\n",
              "      <td>4229067</td>\n",
              "      <td>2019-10-24</td>\n",
              "      <td>13:15</td>\n",
              "      <td>c53b43d9-419a-4ab1-9361-3f2979078d89</td>\n",
              "      <td>NY</td>\n",
              "      <td>Bus</td>\n",
              "      <td>FRHT-TRUCK/BUS</td>\n",
              "      <td>NaN</td>\n",
              "      <td>...</td>\n",
              "      <td>Parked</td>\n",
              "      <td>Left Front Quarter Panel</td>\n",
              "      <td>Left Front Quarter Panel</td>\n",
              "      <td>NaN</td>\n",
              "      <td>NaN</td>\n",
              "      <td>NaN</td>\n",
              "      <td>N</td>\n",
              "      <td>NaN</td>\n",
              "      <td>Unspecified</td>\n",
              "      <td>Unspecified</td>\n",
              "    </tr>\n",
              "    <tr>\n",
              "      <th>2</th>\n",
              "      <td>13</td>\n",
              "      <td>19140791</td>\n",
              "      <td>4229563</td>\n",
              "      <td>2019-10-21</td>\n",
              "      <td>17:55</td>\n",
              "      <td>86a294b4-6672-4a7e-8357-39d6d2eff9f7</td>\n",
              "      <td>PA</td>\n",
              "      <td>Sedan</td>\n",
              "      <td>BMW -CAR/SUV</td>\n",
              "      <td>NaN</td>\n",
              "      <td>...</td>\n",
              "      <td>Going Straight Ahead</td>\n",
              "      <td>Center Front End</td>\n",
              "      <td>Right Front Bumper</td>\n",
              "      <td>Right Front Quarter Panel</td>\n",
              "      <td>Right Front Bumper</td>\n",
              "      <td>NaN</td>\n",
              "      <td>N</td>\n",
              "      <td>NaN</td>\n",
              "      <td>Unspecified</td>\n",
              "      <td>Unspecified</td>\n",
              "    </tr>\n",
              "    <tr>\n",
              "      <th>3</th>\n",
              "      <td>14</td>\n",
              "      <td>19694316</td>\n",
              "      <td>4322767</td>\n",
              "      <td>2020-06-06</td>\n",
              "      <td>18:30</td>\n",
              "      <td>fdc195a7-8127-4c00-834d-bac78b0cf88e</td>\n",
              "      <td>NaN</td>\n",
              "      <td>Bike</td>\n",
              "      <td>NaN</td>\n",
              "      <td>NaN</td>\n",
              "      <td>...</td>\n",
              "      <td>Going Straight Ahead</td>\n",
              "      <td>Center Front End</td>\n",
              "      <td>No Damage</td>\n",
              "      <td>No Damage</td>\n",
              "      <td>No Damage</td>\n",
              "      <td>No Damage</td>\n",
              "      <td>N</td>\n",
              "      <td>NaN</td>\n",
              "      <td>Traffic Control Disregarded</td>\n",
              "      <td>Unspecified</td>\n",
              "    </tr>\n",
              "    <tr>\n",
              "      <th>4</th>\n",
              "      <td>19</td>\n",
              "      <td>19140656</td>\n",
              "      <td>4229538</td>\n",
              "      <td>2019-10-24</td>\n",
              "      <td>17:30</td>\n",
              "      <td>70e5262a-bd27-48a6-99a1-1ec659804088</td>\n",
              "      <td>NY</td>\n",
              "      <td>Station Wagon/Sport Utility Vehicle</td>\n",
              "      <td>JEEP -CAR/SUV</td>\n",
              "      <td>NaN</td>\n",
              "      <td>...</td>\n",
              "      <td>Going Straight Ahead</td>\n",
              "      <td>Left Rear Quarter Panel</td>\n",
              "      <td>Left Rear Quarter Panel</td>\n",
              "      <td>NaN</td>\n",
              "      <td>NaN</td>\n",
              "      <td>NaN</td>\n",
              "      <td>N</td>\n",
              "      <td>NaN</td>\n",
              "      <td>Unspecified</td>\n",
              "      <td>Unspecified</td>\n",
              "    </tr>\n",
              "  </tbody>\n",
              "</table>\n",
              "<p>5 rows × 26 columns</p>\n",
              "</div>\n",
              "      <button class=\"colab-df-convert\" onclick=\"convertToInteractive('df-88b0c3e2-3ac2-47a2-a1dc-d305654e1f53')\"\n",
              "              title=\"Convert this dataframe to an interactive table.\"\n",
              "              style=\"display:none;\">\n",
              "        \n",
              "  <svg xmlns=\"http://www.w3.org/2000/svg\" height=\"24px\"viewBox=\"0 0 24 24\"\n",
              "       width=\"24px\">\n",
              "    <path d=\"M0 0h24v24H0V0z\" fill=\"none\"/>\n",
              "    <path d=\"M18.56 5.44l.94 2.06.94-2.06 2.06-.94-2.06-.94-.94-2.06-.94 2.06-2.06.94zm-11 1L8.5 8.5l.94-2.06 2.06-.94-2.06-.94L8.5 2.5l-.94 2.06-2.06.94zm10 10l.94 2.06.94-2.06 2.06-.94-2.06-.94-.94-2.06-.94 2.06-2.06.94z\"/><path d=\"M17.41 7.96l-1.37-1.37c-.4-.4-.92-.59-1.43-.59-.52 0-1.04.2-1.43.59L10.3 9.45l-7.72 7.72c-.78.78-.78 2.05 0 2.83L4 21.41c.39.39.9.59 1.41.59.51 0 1.02-.2 1.41-.59l7.78-7.78 2.81-2.81c.8-.78.8-2.07 0-2.86zM5.41 20L4 18.59l7.72-7.72 1.47 1.35L5.41 20z\"/>\n",
              "  </svg>\n",
              "      </button>\n",
              "      \n",
              "  <style>\n",
              "    .colab-df-container {\n",
              "      display:flex;\n",
              "      flex-wrap:wrap;\n",
              "      gap: 12px;\n",
              "    }\n",
              "\n",
              "    .colab-df-convert {\n",
              "      background-color: #E8F0FE;\n",
              "      border: none;\n",
              "      border-radius: 50%;\n",
              "      cursor: pointer;\n",
              "      display: none;\n",
              "      fill: #1967D2;\n",
              "      height: 32px;\n",
              "      padding: 0 0 0 0;\n",
              "      width: 32px;\n",
              "    }\n",
              "\n",
              "    .colab-df-convert:hover {\n",
              "      background-color: #E2EBFA;\n",
              "      box-shadow: 0px 1px 2px rgba(60, 64, 67, 0.3), 0px 1px 3px 1px rgba(60, 64, 67, 0.15);\n",
              "      fill: #174EA6;\n",
              "    }\n",
              "\n",
              "    [theme=dark] .colab-df-convert {\n",
              "      background-color: #3B4455;\n",
              "      fill: #D2E3FC;\n",
              "    }\n",
              "\n",
              "    [theme=dark] .colab-df-convert:hover {\n",
              "      background-color: #434B5C;\n",
              "      box-shadow: 0px 1px 3px 1px rgba(0, 0, 0, 0.15);\n",
              "      filter: drop-shadow(0px 1px 2px rgba(0, 0, 0, 0.3));\n",
              "      fill: #FFFFFF;\n",
              "    }\n",
              "  </style>\n",
              "\n",
              "      <script>\n",
              "        const buttonEl =\n",
              "          document.querySelector('#df-88b0c3e2-3ac2-47a2-a1dc-d305654e1f53 button.colab-df-convert');\n",
              "        buttonEl.style.display =\n",
              "          google.colab.kernel.accessAllowed ? 'block' : 'none';\n",
              "\n",
              "        async function convertToInteractive(key) {\n",
              "          const element = document.querySelector('#df-88b0c3e2-3ac2-47a2-a1dc-d305654e1f53');\n",
              "          const dataTable =\n",
              "            await google.colab.kernel.invokeFunction('convertToInteractive',\n",
              "                                                     [key], {});\n",
              "          if (!dataTable) return;\n",
              "\n",
              "          const docLinkHtml = 'Like what you see? Visit the ' +\n",
              "            '<a target=\"_blank\" href=https://colab.research.google.com/notebooks/data_table.ipynb>data table notebook</a>'\n",
              "            + ' to learn more about interactive tables.';\n",
              "          element.innerHTML = '';\n",
              "          dataTable['output_type'] = 'display_data';\n",
              "          await google.colab.output.renderOutput(dataTable, element);\n",
              "          const docLink = document.createElement('div');\n",
              "          docLink.innerHTML = docLinkHtml;\n",
              "          element.appendChild(docLink);\n",
              "        }\n",
              "      </script>\n",
              "    </div>\n",
              "  </div>\n",
              "  "
            ]
          },
          "metadata": {},
          "execution_count": 20
        }
      ]
    },
    {
      "cell_type": "code",
      "source": [
        "\"\"\" Column 'Unnamed: 0' represented the previous indexing of the data before extraction no it is of no use so we can drop it. The column 'VEHICLE_MODEL' contains \n",
        "only NaN values for the entire rows so we can drop that too.\"\"\"\n",
        "data = new_df.drop(labels = ['Unnamed: 0', 'VEHICLE_MODEL'], axis = 1)"
      ],
      "metadata": {
        "id": "kbZlh9X0YOiJ"
      },
      "execution_count": 21,
      "outputs": []
    },
    {
      "cell_type": "code",
      "source": [
        "data.isna().sum()"
      ],
      "metadata": {
        "colab": {
          "base_uri": "https://localhost:8080/"
        },
        "id": "zA7-5_ZnYrcH",
        "outputId": "c8394e42-add6-4f81-be70-276e473a4505"
      },
      "execution_count": 22,
      "outputs": [
        {
          "output_type": "execute_result",
          "data": {
            "text/plain": [
              "UNIQUE_ID                           0\n",
              "COLLISION_ID                        0\n",
              "CRASH_DATE                          0\n",
              "CRASH_TIME                          0\n",
              "VEHICLE_ID                          0\n",
              "STATE_REGISTRATION              74525\n",
              "VEHICLE_TYPE                    59835\n",
              "VEHICLE_MAKE                    85791\n",
              "VEHICLE_YEAR                    88815\n",
              "TRAVEL_DIRECTION                37107\n",
              "VEHICLE_OCCUPANTS               64914\n",
              "DRIVER_SEX                     175432\n",
              "DRIVER_LICENSE_STATUS          192516\n",
              "DRIVER_LICENSE_JURISDICTION    192465\n",
              "PRE_CRASH                       44956\n",
              "POINT_OF_IMPACT                 45833\n",
              "VEHICLE_DAMAGE                  51541\n",
              "VEHICLE_DAMAGE_1               293707\n",
              "VEHICLE_DAMAGE_2               404362\n",
              "VEHICLE_DAMAGE_3               483146\n",
              "PUBLIC_PROPERTY_DAMAGE              0\n",
              "PUBLIC_PROPERTY_DAMAGE_TYPE    734583\n",
              "CONTRIBUTING_FACTOR_1           35702\n",
              "CONTRIBUTING_FACTOR_2           41405\n",
              "dtype: int64"
            ]
          },
          "metadata": {},
          "execution_count": 22
        }
      ]
    },
    {
      "cell_type": "code",
      "source": [
        "data['CRASH_DATE'] = pd.to_datetime(data['CRASH_DATE'])"
      ],
      "metadata": {
        "id": "eE8JqwICk3X_"
      },
      "execution_count": 23,
      "outputs": []
    },
    {
      "cell_type": "code",
      "source": [
        "data['YEAR'], data['MONTH'] , data['DAY']= data['CRASH_DATE'].dt.year, data['CRASH_DATE'].dt.month, data['CRASH_DATE'].dt.day\n"
      ],
      "metadata": {
        "id": "eWuNskmTlDWN"
      },
      "execution_count": 24,
      "outputs": []
    },
    {
      "cell_type": "code",
      "source": [
        "data.head()"
      ],
      "metadata": {
        "colab": {
          "base_uri": "https://localhost:8080/",
          "height": 560
        },
        "id": "1GPKI1Fs-0db",
        "outputId": "b4d95ded-a63f-4df5-94dc-86c05150876f"
      },
      "execution_count": 25,
      "outputs": [
        {
          "output_type": "execute_result",
          "data": {
            "text/plain": [
              "   UNIQUE_ID  COLLISION_ID CRASH_DATE CRASH_TIME  \\\n",
              "0   19140702       4213082 2019-09-23       8:15   \n",
              "1   19138701       4229067 2019-10-24      13:15   \n",
              "2   19140791       4229563 2019-10-21      17:55   \n",
              "3   19694316       4322767 2020-06-06      18:30   \n",
              "4   19140656       4229538 2019-10-24      17:30   \n",
              "\n",
              "                             VEHICLE_ID STATE_REGISTRATION  \\\n",
              "0  0553ab4d-9500-4cba-8d98-f4d7f89d5856                 NY   \n",
              "1  c53b43d9-419a-4ab1-9361-3f2979078d89                 NY   \n",
              "2  86a294b4-6672-4a7e-8357-39d6d2eff9f7                 PA   \n",
              "3  fdc195a7-8127-4c00-834d-bac78b0cf88e                NaN   \n",
              "4  70e5262a-bd27-48a6-99a1-1ec659804088                 NY   \n",
              "\n",
              "                          VEHICLE_TYPE    VEHICLE_MAKE  VEHICLE_YEAR  \\\n",
              "0  Station Wagon/Sport Utility Vehicle   TOYT -CAR/SUV        2002.0   \n",
              "1                                  Bus  FRHT-TRUCK/BUS        2006.0   \n",
              "2                                Sedan    BMW -CAR/SUV        2006.0   \n",
              "3                                 Bike             NaN           NaN   \n",
              "4  Station Wagon/Sport Utility Vehicle   JEEP -CAR/SUV        2018.0   \n",
              "\n",
              "  TRAVEL_DIRECTION  ...           VEHICLE_DAMAGE_1    VEHICLE_DAMAGE_2  \\\n",
              "0            North  ...                        NaN                 NaN   \n",
              "1             East  ...                        NaN                 NaN   \n",
              "2            North  ...  Right Front Quarter Panel  Right Front Bumper   \n",
              "3            South  ...                  No Damage           No Damage   \n",
              "4            North  ...                        NaN                 NaN   \n",
              "\n",
              "  VEHICLE_DAMAGE_3 PUBLIC_PROPERTY_DAMAGE PUBLIC_PROPERTY_DAMAGE_TYPE  \\\n",
              "0              NaN                      N                         NaN   \n",
              "1              NaN                      N                         NaN   \n",
              "2              NaN                      N                         NaN   \n",
              "3        No Damage                      N                         NaN   \n",
              "4              NaN                      N                         NaN   \n",
              "\n",
              "            CONTRIBUTING_FACTOR_1 CONTRIBUTING_FACTOR_2  YEAR MONTH DAY  \n",
              "0  Driver Inattention/Distraction           Unspecified  2019     9  23  \n",
              "1                     Unspecified           Unspecified  2019    10  24  \n",
              "2                     Unspecified           Unspecified  2019    10  21  \n",
              "3     Traffic Control Disregarded           Unspecified  2020     6   6  \n",
              "4                     Unspecified           Unspecified  2019    10  24  \n",
              "\n",
              "[5 rows x 27 columns]"
            ],
            "text/html": [
              "\n",
              "  <div id=\"df-14fea08e-2575-44d4-b791-039e2b95136e\">\n",
              "    <div class=\"colab-df-container\">\n",
              "      <div>\n",
              "<style scoped>\n",
              "    .dataframe tbody tr th:only-of-type {\n",
              "        vertical-align: middle;\n",
              "    }\n",
              "\n",
              "    .dataframe tbody tr th {\n",
              "        vertical-align: top;\n",
              "    }\n",
              "\n",
              "    .dataframe thead th {\n",
              "        text-align: right;\n",
              "    }\n",
              "</style>\n",
              "<table border=\"1\" class=\"dataframe\">\n",
              "  <thead>\n",
              "    <tr style=\"text-align: right;\">\n",
              "      <th></th>\n",
              "      <th>UNIQUE_ID</th>\n",
              "      <th>COLLISION_ID</th>\n",
              "      <th>CRASH_DATE</th>\n",
              "      <th>CRASH_TIME</th>\n",
              "      <th>VEHICLE_ID</th>\n",
              "      <th>STATE_REGISTRATION</th>\n",
              "      <th>VEHICLE_TYPE</th>\n",
              "      <th>VEHICLE_MAKE</th>\n",
              "      <th>VEHICLE_YEAR</th>\n",
              "      <th>TRAVEL_DIRECTION</th>\n",
              "      <th>...</th>\n",
              "      <th>VEHICLE_DAMAGE_1</th>\n",
              "      <th>VEHICLE_DAMAGE_2</th>\n",
              "      <th>VEHICLE_DAMAGE_3</th>\n",
              "      <th>PUBLIC_PROPERTY_DAMAGE</th>\n",
              "      <th>PUBLIC_PROPERTY_DAMAGE_TYPE</th>\n",
              "      <th>CONTRIBUTING_FACTOR_1</th>\n",
              "      <th>CONTRIBUTING_FACTOR_2</th>\n",
              "      <th>YEAR</th>\n",
              "      <th>MONTH</th>\n",
              "      <th>DAY</th>\n",
              "    </tr>\n",
              "  </thead>\n",
              "  <tbody>\n",
              "    <tr>\n",
              "      <th>0</th>\n",
              "      <td>19140702</td>\n",
              "      <td>4213082</td>\n",
              "      <td>2019-09-23</td>\n",
              "      <td>8:15</td>\n",
              "      <td>0553ab4d-9500-4cba-8d98-f4d7f89d5856</td>\n",
              "      <td>NY</td>\n",
              "      <td>Station Wagon/Sport Utility Vehicle</td>\n",
              "      <td>TOYT -CAR/SUV</td>\n",
              "      <td>2002.0</td>\n",
              "      <td>North</td>\n",
              "      <td>...</td>\n",
              "      <td>NaN</td>\n",
              "      <td>NaN</td>\n",
              "      <td>NaN</td>\n",
              "      <td>N</td>\n",
              "      <td>NaN</td>\n",
              "      <td>Driver Inattention/Distraction</td>\n",
              "      <td>Unspecified</td>\n",
              "      <td>2019</td>\n",
              "      <td>9</td>\n",
              "      <td>23</td>\n",
              "    </tr>\n",
              "    <tr>\n",
              "      <th>1</th>\n",
              "      <td>19138701</td>\n",
              "      <td>4229067</td>\n",
              "      <td>2019-10-24</td>\n",
              "      <td>13:15</td>\n",
              "      <td>c53b43d9-419a-4ab1-9361-3f2979078d89</td>\n",
              "      <td>NY</td>\n",
              "      <td>Bus</td>\n",
              "      <td>FRHT-TRUCK/BUS</td>\n",
              "      <td>2006.0</td>\n",
              "      <td>East</td>\n",
              "      <td>...</td>\n",
              "      <td>NaN</td>\n",
              "      <td>NaN</td>\n",
              "      <td>NaN</td>\n",
              "      <td>N</td>\n",
              "      <td>NaN</td>\n",
              "      <td>Unspecified</td>\n",
              "      <td>Unspecified</td>\n",
              "      <td>2019</td>\n",
              "      <td>10</td>\n",
              "      <td>24</td>\n",
              "    </tr>\n",
              "    <tr>\n",
              "      <th>2</th>\n",
              "      <td>19140791</td>\n",
              "      <td>4229563</td>\n",
              "      <td>2019-10-21</td>\n",
              "      <td>17:55</td>\n",
              "      <td>86a294b4-6672-4a7e-8357-39d6d2eff9f7</td>\n",
              "      <td>PA</td>\n",
              "      <td>Sedan</td>\n",
              "      <td>BMW -CAR/SUV</td>\n",
              "      <td>2006.0</td>\n",
              "      <td>North</td>\n",
              "      <td>...</td>\n",
              "      <td>Right Front Quarter Panel</td>\n",
              "      <td>Right Front Bumper</td>\n",
              "      <td>NaN</td>\n",
              "      <td>N</td>\n",
              "      <td>NaN</td>\n",
              "      <td>Unspecified</td>\n",
              "      <td>Unspecified</td>\n",
              "      <td>2019</td>\n",
              "      <td>10</td>\n",
              "      <td>21</td>\n",
              "    </tr>\n",
              "    <tr>\n",
              "      <th>3</th>\n",
              "      <td>19694316</td>\n",
              "      <td>4322767</td>\n",
              "      <td>2020-06-06</td>\n",
              "      <td>18:30</td>\n",
              "      <td>fdc195a7-8127-4c00-834d-bac78b0cf88e</td>\n",
              "      <td>NaN</td>\n",
              "      <td>Bike</td>\n",
              "      <td>NaN</td>\n",
              "      <td>NaN</td>\n",
              "      <td>South</td>\n",
              "      <td>...</td>\n",
              "      <td>No Damage</td>\n",
              "      <td>No Damage</td>\n",
              "      <td>No Damage</td>\n",
              "      <td>N</td>\n",
              "      <td>NaN</td>\n",
              "      <td>Traffic Control Disregarded</td>\n",
              "      <td>Unspecified</td>\n",
              "      <td>2020</td>\n",
              "      <td>6</td>\n",
              "      <td>6</td>\n",
              "    </tr>\n",
              "    <tr>\n",
              "      <th>4</th>\n",
              "      <td>19140656</td>\n",
              "      <td>4229538</td>\n",
              "      <td>2019-10-24</td>\n",
              "      <td>17:30</td>\n",
              "      <td>70e5262a-bd27-48a6-99a1-1ec659804088</td>\n",
              "      <td>NY</td>\n",
              "      <td>Station Wagon/Sport Utility Vehicle</td>\n",
              "      <td>JEEP -CAR/SUV</td>\n",
              "      <td>2018.0</td>\n",
              "      <td>North</td>\n",
              "      <td>...</td>\n",
              "      <td>NaN</td>\n",
              "      <td>NaN</td>\n",
              "      <td>NaN</td>\n",
              "      <td>N</td>\n",
              "      <td>NaN</td>\n",
              "      <td>Unspecified</td>\n",
              "      <td>Unspecified</td>\n",
              "      <td>2019</td>\n",
              "      <td>10</td>\n",
              "      <td>24</td>\n",
              "    </tr>\n",
              "  </tbody>\n",
              "</table>\n",
              "<p>5 rows × 27 columns</p>\n",
              "</div>\n",
              "      <button class=\"colab-df-convert\" onclick=\"convertToInteractive('df-14fea08e-2575-44d4-b791-039e2b95136e')\"\n",
              "              title=\"Convert this dataframe to an interactive table.\"\n",
              "              style=\"display:none;\">\n",
              "        \n",
              "  <svg xmlns=\"http://www.w3.org/2000/svg\" height=\"24px\"viewBox=\"0 0 24 24\"\n",
              "       width=\"24px\">\n",
              "    <path d=\"M0 0h24v24H0V0z\" fill=\"none\"/>\n",
              "    <path d=\"M18.56 5.44l.94 2.06.94-2.06 2.06-.94-2.06-.94-.94-2.06-.94 2.06-2.06.94zm-11 1L8.5 8.5l.94-2.06 2.06-.94-2.06-.94L8.5 2.5l-.94 2.06-2.06.94zm10 10l.94 2.06.94-2.06 2.06-.94-2.06-.94-.94-2.06-.94 2.06-2.06.94z\"/><path d=\"M17.41 7.96l-1.37-1.37c-.4-.4-.92-.59-1.43-.59-.52 0-1.04.2-1.43.59L10.3 9.45l-7.72 7.72c-.78.78-.78 2.05 0 2.83L4 21.41c.39.39.9.59 1.41.59.51 0 1.02-.2 1.41-.59l7.78-7.78 2.81-2.81c.8-.78.8-2.07 0-2.86zM5.41 20L4 18.59l7.72-7.72 1.47 1.35L5.41 20z\"/>\n",
              "  </svg>\n",
              "      </button>\n",
              "      \n",
              "  <style>\n",
              "    .colab-df-container {\n",
              "      display:flex;\n",
              "      flex-wrap:wrap;\n",
              "      gap: 12px;\n",
              "    }\n",
              "\n",
              "    .colab-df-convert {\n",
              "      background-color: #E8F0FE;\n",
              "      border: none;\n",
              "      border-radius: 50%;\n",
              "      cursor: pointer;\n",
              "      display: none;\n",
              "      fill: #1967D2;\n",
              "      height: 32px;\n",
              "      padding: 0 0 0 0;\n",
              "      width: 32px;\n",
              "    }\n",
              "\n",
              "    .colab-df-convert:hover {\n",
              "      background-color: #E2EBFA;\n",
              "      box-shadow: 0px 1px 2px rgba(60, 64, 67, 0.3), 0px 1px 3px 1px rgba(60, 64, 67, 0.15);\n",
              "      fill: #174EA6;\n",
              "    }\n",
              "\n",
              "    [theme=dark] .colab-df-convert {\n",
              "      background-color: #3B4455;\n",
              "      fill: #D2E3FC;\n",
              "    }\n",
              "\n",
              "    [theme=dark] .colab-df-convert:hover {\n",
              "      background-color: #434B5C;\n",
              "      box-shadow: 0px 1px 3px 1px rgba(0, 0, 0, 0.15);\n",
              "      filter: drop-shadow(0px 1px 2px rgba(0, 0, 0, 0.3));\n",
              "      fill: #FFFFFF;\n",
              "    }\n",
              "  </style>\n",
              "\n",
              "      <script>\n",
              "        const buttonEl =\n",
              "          document.querySelector('#df-14fea08e-2575-44d4-b791-039e2b95136e button.colab-df-convert');\n",
              "        buttonEl.style.display =\n",
              "          google.colab.kernel.accessAllowed ? 'block' : 'none';\n",
              "\n",
              "        async function convertToInteractive(key) {\n",
              "          const element = document.querySelector('#df-14fea08e-2575-44d4-b791-039e2b95136e');\n",
              "          const dataTable =\n",
              "            await google.colab.kernel.invokeFunction('convertToInteractive',\n",
              "                                                     [key], {});\n",
              "          if (!dataTable) return;\n",
              "\n",
              "          const docLinkHtml = 'Like what you see? Visit the ' +\n",
              "            '<a target=\"_blank\" href=https://colab.research.google.com/notebooks/data_table.ipynb>data table notebook</a>'\n",
              "            + ' to learn more about interactive tables.';\n",
              "          element.innerHTML = '';\n",
              "          dataTable['output_type'] = 'display_data';\n",
              "          await google.colab.output.renderOutput(dataTable, element);\n",
              "          const docLink = document.createElement('div');\n",
              "          docLink.innerHTML = docLinkHtml;\n",
              "          element.appendChild(docLink);\n",
              "        }\n",
              "      </script>\n",
              "    </div>\n",
              "  </div>\n",
              "  "
            ]
          },
          "metadata": {},
          "execution_count": 25
        }
      ]
    },
    {
      "cell_type": "code",
      "source": [
        "data.drop(labels='DAY', axis = 1, inplace = True)"
      ],
      "metadata": {
        "id": "7J4PEE-p-3-1"
      },
      "execution_count": 26,
      "outputs": []
    },
    {
      "cell_type": "code",
      "source": [
        "data.columns"
      ],
      "metadata": {
        "colab": {
          "base_uri": "https://localhost:8080/"
        },
        "id": "JeY9h0-nl_8H",
        "outputId": "2137c736-3aa5-496b-b7a3-d97e559bb403"
      },
      "execution_count": 27,
      "outputs": [
        {
          "output_type": "execute_result",
          "data": {
            "text/plain": [
              "Index(['UNIQUE_ID', 'COLLISION_ID', 'CRASH_DATE', 'CRASH_TIME', 'VEHICLE_ID',\n",
              "       'STATE_REGISTRATION', 'VEHICLE_TYPE', 'VEHICLE_MAKE', 'VEHICLE_YEAR',\n",
              "       'TRAVEL_DIRECTION', 'VEHICLE_OCCUPANTS', 'DRIVER_SEX',\n",
              "       'DRIVER_LICENSE_STATUS', 'DRIVER_LICENSE_JURISDICTION', 'PRE_CRASH',\n",
              "       'POINT_OF_IMPACT', 'VEHICLE_DAMAGE', 'VEHICLE_DAMAGE_1',\n",
              "       'VEHICLE_DAMAGE_2', 'VEHICLE_DAMAGE_3', 'PUBLIC_PROPERTY_DAMAGE',\n",
              "       'PUBLIC_PROPERTY_DAMAGE_TYPE', 'CONTRIBUTING_FACTOR_1',\n",
              "       'CONTRIBUTING_FACTOR_2', 'YEAR', 'MONTH'],\n",
              "      dtype='object')"
            ]
          },
          "metadata": {},
          "execution_count": 27
        }
      ]
    },
    {
      "cell_type": "code",
      "source": [
        "#There can be chances of empty values that are not np.NaN, ??, -- in the dataset so we have to fill those with np.NaN and finally remove it for proper analysis.\n",
        "data = data.reindex(['UNIQUE_ID', 'COLLISION_ID', 'CRASH_DATE', 'YEAR', 'MONTH', 'CRASH_TIME', 'VEHICLE_ID',\n",
        "       'STATE_REGISTRATION', 'VEHICLE_TYPE', 'VEHICLE_MAKE', 'VEHICLE_YEAR',\n",
        "       'TRAVEL_DIRECTION', 'VEHICLE_OCCUPANTS', 'DRIVER_SEX',\n",
        "       'DRIVER_LICENSE_STATUS', 'DRIVER_LICENSE_JURISDICTION', 'PRE_CRASH',\n",
        "       'POINT_OF_IMPACT', 'VEHICLE_DAMAGE', 'VEHICLE_DAMAGE_1',\n",
        "       'VEHICLE_DAMAGE_2', 'VEHICLE_DAMAGE_3', 'PUBLIC_PROPERTY_DAMAGE',\n",
        "       'PUBLIC_PROPERTY_DAMAGE_TYPE', 'CONTRIBUTING_FACTOR_1',\n",
        "       'CONTRIBUTING_FACTOR_2'], axis=1, fill_value = np.NaN)"
      ],
      "metadata": {
        "id": "xp5EcGaKxA6v"
      },
      "execution_count": 28,
      "outputs": []
    },
    {
      "cell_type": "code",
      "source": [
        "data.head()"
      ],
      "metadata": {
        "colab": {
          "base_uri": "https://localhost:8080/",
          "height": 560
        },
        "id": "zHOmHkwPyBFR",
        "outputId": "b5633edc-ab8f-4cbc-c274-0de9b9e6dedd"
      },
      "execution_count": 29,
      "outputs": [
        {
          "output_type": "execute_result",
          "data": {
            "text/plain": [
              "   UNIQUE_ID  COLLISION_ID CRASH_DATE  YEAR  MONTH CRASH_TIME  \\\n",
              "0   19140702       4213082 2019-09-23  2019      9       8:15   \n",
              "1   19138701       4229067 2019-10-24  2019     10      13:15   \n",
              "2   19140791       4229563 2019-10-21  2019     10      17:55   \n",
              "3   19694316       4322767 2020-06-06  2020      6      18:30   \n",
              "4   19140656       4229538 2019-10-24  2019     10      17:30   \n",
              "\n",
              "                             VEHICLE_ID STATE_REGISTRATION  \\\n",
              "0  0553ab4d-9500-4cba-8d98-f4d7f89d5856                 NY   \n",
              "1  c53b43d9-419a-4ab1-9361-3f2979078d89                 NY   \n",
              "2  86a294b4-6672-4a7e-8357-39d6d2eff9f7                 PA   \n",
              "3  fdc195a7-8127-4c00-834d-bac78b0cf88e                NaN   \n",
              "4  70e5262a-bd27-48a6-99a1-1ec659804088                 NY   \n",
              "\n",
              "                          VEHICLE_TYPE    VEHICLE_MAKE  ...  \\\n",
              "0  Station Wagon/Sport Utility Vehicle   TOYT -CAR/SUV  ...   \n",
              "1                                  Bus  FRHT-TRUCK/BUS  ...   \n",
              "2                                Sedan    BMW -CAR/SUV  ...   \n",
              "3                                 Bike             NaN  ...   \n",
              "4  Station Wagon/Sport Utility Vehicle   JEEP -CAR/SUV  ...   \n",
              "\n",
              "              PRE_CRASH           POINT_OF_IMPACT            VEHICLE_DAMAGE  \\\n",
              "0  Going Straight Ahead         Left Front Bumper  Left Front Quarter Panel   \n",
              "1                Parked  Left Front Quarter Panel  Left Front Quarter Panel   \n",
              "2  Going Straight Ahead          Center Front End        Right Front Bumper   \n",
              "3  Going Straight Ahead          Center Front End                 No Damage   \n",
              "4  Going Straight Ahead   Left Rear Quarter Panel   Left Rear Quarter Panel   \n",
              "\n",
              "            VEHICLE_DAMAGE_1    VEHICLE_DAMAGE_2 VEHICLE_DAMAGE_3  \\\n",
              "0                        NaN                 NaN              NaN   \n",
              "1                        NaN                 NaN              NaN   \n",
              "2  Right Front Quarter Panel  Right Front Bumper              NaN   \n",
              "3                  No Damage           No Damage        No Damage   \n",
              "4                        NaN                 NaN              NaN   \n",
              "\n",
              "  PUBLIC_PROPERTY_DAMAGE PUBLIC_PROPERTY_DAMAGE_TYPE  \\\n",
              "0                      N                         NaN   \n",
              "1                      N                         NaN   \n",
              "2                      N                         NaN   \n",
              "3                      N                         NaN   \n",
              "4                      N                         NaN   \n",
              "\n",
              "            CONTRIBUTING_FACTOR_1 CONTRIBUTING_FACTOR_2  \n",
              "0  Driver Inattention/Distraction           Unspecified  \n",
              "1                     Unspecified           Unspecified  \n",
              "2                     Unspecified           Unspecified  \n",
              "3     Traffic Control Disregarded           Unspecified  \n",
              "4                     Unspecified           Unspecified  \n",
              "\n",
              "[5 rows x 26 columns]"
            ],
            "text/html": [
              "\n",
              "  <div id=\"df-5f774f92-b931-4571-be4a-d5e89d8bd5fb\">\n",
              "    <div class=\"colab-df-container\">\n",
              "      <div>\n",
              "<style scoped>\n",
              "    .dataframe tbody tr th:only-of-type {\n",
              "        vertical-align: middle;\n",
              "    }\n",
              "\n",
              "    .dataframe tbody tr th {\n",
              "        vertical-align: top;\n",
              "    }\n",
              "\n",
              "    .dataframe thead th {\n",
              "        text-align: right;\n",
              "    }\n",
              "</style>\n",
              "<table border=\"1\" class=\"dataframe\">\n",
              "  <thead>\n",
              "    <tr style=\"text-align: right;\">\n",
              "      <th></th>\n",
              "      <th>UNIQUE_ID</th>\n",
              "      <th>COLLISION_ID</th>\n",
              "      <th>CRASH_DATE</th>\n",
              "      <th>YEAR</th>\n",
              "      <th>MONTH</th>\n",
              "      <th>CRASH_TIME</th>\n",
              "      <th>VEHICLE_ID</th>\n",
              "      <th>STATE_REGISTRATION</th>\n",
              "      <th>VEHICLE_TYPE</th>\n",
              "      <th>VEHICLE_MAKE</th>\n",
              "      <th>...</th>\n",
              "      <th>PRE_CRASH</th>\n",
              "      <th>POINT_OF_IMPACT</th>\n",
              "      <th>VEHICLE_DAMAGE</th>\n",
              "      <th>VEHICLE_DAMAGE_1</th>\n",
              "      <th>VEHICLE_DAMAGE_2</th>\n",
              "      <th>VEHICLE_DAMAGE_3</th>\n",
              "      <th>PUBLIC_PROPERTY_DAMAGE</th>\n",
              "      <th>PUBLIC_PROPERTY_DAMAGE_TYPE</th>\n",
              "      <th>CONTRIBUTING_FACTOR_1</th>\n",
              "      <th>CONTRIBUTING_FACTOR_2</th>\n",
              "    </tr>\n",
              "  </thead>\n",
              "  <tbody>\n",
              "    <tr>\n",
              "      <th>0</th>\n",
              "      <td>19140702</td>\n",
              "      <td>4213082</td>\n",
              "      <td>2019-09-23</td>\n",
              "      <td>2019</td>\n",
              "      <td>9</td>\n",
              "      <td>8:15</td>\n",
              "      <td>0553ab4d-9500-4cba-8d98-f4d7f89d5856</td>\n",
              "      <td>NY</td>\n",
              "      <td>Station Wagon/Sport Utility Vehicle</td>\n",
              "      <td>TOYT -CAR/SUV</td>\n",
              "      <td>...</td>\n",
              "      <td>Going Straight Ahead</td>\n",
              "      <td>Left Front Bumper</td>\n",
              "      <td>Left Front Quarter Panel</td>\n",
              "      <td>NaN</td>\n",
              "      <td>NaN</td>\n",
              "      <td>NaN</td>\n",
              "      <td>N</td>\n",
              "      <td>NaN</td>\n",
              "      <td>Driver Inattention/Distraction</td>\n",
              "      <td>Unspecified</td>\n",
              "    </tr>\n",
              "    <tr>\n",
              "      <th>1</th>\n",
              "      <td>19138701</td>\n",
              "      <td>4229067</td>\n",
              "      <td>2019-10-24</td>\n",
              "      <td>2019</td>\n",
              "      <td>10</td>\n",
              "      <td>13:15</td>\n",
              "      <td>c53b43d9-419a-4ab1-9361-3f2979078d89</td>\n",
              "      <td>NY</td>\n",
              "      <td>Bus</td>\n",
              "      <td>FRHT-TRUCK/BUS</td>\n",
              "      <td>...</td>\n",
              "      <td>Parked</td>\n",
              "      <td>Left Front Quarter Panel</td>\n",
              "      <td>Left Front Quarter Panel</td>\n",
              "      <td>NaN</td>\n",
              "      <td>NaN</td>\n",
              "      <td>NaN</td>\n",
              "      <td>N</td>\n",
              "      <td>NaN</td>\n",
              "      <td>Unspecified</td>\n",
              "      <td>Unspecified</td>\n",
              "    </tr>\n",
              "    <tr>\n",
              "      <th>2</th>\n",
              "      <td>19140791</td>\n",
              "      <td>4229563</td>\n",
              "      <td>2019-10-21</td>\n",
              "      <td>2019</td>\n",
              "      <td>10</td>\n",
              "      <td>17:55</td>\n",
              "      <td>86a294b4-6672-4a7e-8357-39d6d2eff9f7</td>\n",
              "      <td>PA</td>\n",
              "      <td>Sedan</td>\n",
              "      <td>BMW -CAR/SUV</td>\n",
              "      <td>...</td>\n",
              "      <td>Going Straight Ahead</td>\n",
              "      <td>Center Front End</td>\n",
              "      <td>Right Front Bumper</td>\n",
              "      <td>Right Front Quarter Panel</td>\n",
              "      <td>Right Front Bumper</td>\n",
              "      <td>NaN</td>\n",
              "      <td>N</td>\n",
              "      <td>NaN</td>\n",
              "      <td>Unspecified</td>\n",
              "      <td>Unspecified</td>\n",
              "    </tr>\n",
              "    <tr>\n",
              "      <th>3</th>\n",
              "      <td>19694316</td>\n",
              "      <td>4322767</td>\n",
              "      <td>2020-06-06</td>\n",
              "      <td>2020</td>\n",
              "      <td>6</td>\n",
              "      <td>18:30</td>\n",
              "      <td>fdc195a7-8127-4c00-834d-bac78b0cf88e</td>\n",
              "      <td>NaN</td>\n",
              "      <td>Bike</td>\n",
              "      <td>NaN</td>\n",
              "      <td>...</td>\n",
              "      <td>Going Straight Ahead</td>\n",
              "      <td>Center Front End</td>\n",
              "      <td>No Damage</td>\n",
              "      <td>No Damage</td>\n",
              "      <td>No Damage</td>\n",
              "      <td>No Damage</td>\n",
              "      <td>N</td>\n",
              "      <td>NaN</td>\n",
              "      <td>Traffic Control Disregarded</td>\n",
              "      <td>Unspecified</td>\n",
              "    </tr>\n",
              "    <tr>\n",
              "      <th>4</th>\n",
              "      <td>19140656</td>\n",
              "      <td>4229538</td>\n",
              "      <td>2019-10-24</td>\n",
              "      <td>2019</td>\n",
              "      <td>10</td>\n",
              "      <td>17:30</td>\n",
              "      <td>70e5262a-bd27-48a6-99a1-1ec659804088</td>\n",
              "      <td>NY</td>\n",
              "      <td>Station Wagon/Sport Utility Vehicle</td>\n",
              "      <td>JEEP -CAR/SUV</td>\n",
              "      <td>...</td>\n",
              "      <td>Going Straight Ahead</td>\n",
              "      <td>Left Rear Quarter Panel</td>\n",
              "      <td>Left Rear Quarter Panel</td>\n",
              "      <td>NaN</td>\n",
              "      <td>NaN</td>\n",
              "      <td>NaN</td>\n",
              "      <td>N</td>\n",
              "      <td>NaN</td>\n",
              "      <td>Unspecified</td>\n",
              "      <td>Unspecified</td>\n",
              "    </tr>\n",
              "  </tbody>\n",
              "</table>\n",
              "<p>5 rows × 26 columns</p>\n",
              "</div>\n",
              "      <button class=\"colab-df-convert\" onclick=\"convertToInteractive('df-5f774f92-b931-4571-be4a-d5e89d8bd5fb')\"\n",
              "              title=\"Convert this dataframe to an interactive table.\"\n",
              "              style=\"display:none;\">\n",
              "        \n",
              "  <svg xmlns=\"http://www.w3.org/2000/svg\" height=\"24px\"viewBox=\"0 0 24 24\"\n",
              "       width=\"24px\">\n",
              "    <path d=\"M0 0h24v24H0V0z\" fill=\"none\"/>\n",
              "    <path d=\"M18.56 5.44l.94 2.06.94-2.06 2.06-.94-2.06-.94-.94-2.06-.94 2.06-2.06.94zm-11 1L8.5 8.5l.94-2.06 2.06-.94-2.06-.94L8.5 2.5l-.94 2.06-2.06.94zm10 10l.94 2.06.94-2.06 2.06-.94-2.06-.94-.94-2.06-.94 2.06-2.06.94z\"/><path d=\"M17.41 7.96l-1.37-1.37c-.4-.4-.92-.59-1.43-.59-.52 0-1.04.2-1.43.59L10.3 9.45l-7.72 7.72c-.78.78-.78 2.05 0 2.83L4 21.41c.39.39.9.59 1.41.59.51 0 1.02-.2 1.41-.59l7.78-7.78 2.81-2.81c.8-.78.8-2.07 0-2.86zM5.41 20L4 18.59l7.72-7.72 1.47 1.35L5.41 20z\"/>\n",
              "  </svg>\n",
              "      </button>\n",
              "      \n",
              "  <style>\n",
              "    .colab-df-container {\n",
              "      display:flex;\n",
              "      flex-wrap:wrap;\n",
              "      gap: 12px;\n",
              "    }\n",
              "\n",
              "    .colab-df-convert {\n",
              "      background-color: #E8F0FE;\n",
              "      border: none;\n",
              "      border-radius: 50%;\n",
              "      cursor: pointer;\n",
              "      display: none;\n",
              "      fill: #1967D2;\n",
              "      height: 32px;\n",
              "      padding: 0 0 0 0;\n",
              "      width: 32px;\n",
              "    }\n",
              "\n",
              "    .colab-df-convert:hover {\n",
              "      background-color: #E2EBFA;\n",
              "      box-shadow: 0px 1px 2px rgba(60, 64, 67, 0.3), 0px 1px 3px 1px rgba(60, 64, 67, 0.15);\n",
              "      fill: #174EA6;\n",
              "    }\n",
              "\n",
              "    [theme=dark] .colab-df-convert {\n",
              "      background-color: #3B4455;\n",
              "      fill: #D2E3FC;\n",
              "    }\n",
              "\n",
              "    [theme=dark] .colab-df-convert:hover {\n",
              "      background-color: #434B5C;\n",
              "      box-shadow: 0px 1px 3px 1px rgba(0, 0, 0, 0.15);\n",
              "      filter: drop-shadow(0px 1px 2px rgba(0, 0, 0, 0.3));\n",
              "      fill: #FFFFFF;\n",
              "    }\n",
              "  </style>\n",
              "\n",
              "      <script>\n",
              "        const buttonEl =\n",
              "          document.querySelector('#df-5f774f92-b931-4571-be4a-d5e89d8bd5fb button.colab-df-convert');\n",
              "        buttonEl.style.display =\n",
              "          google.colab.kernel.accessAllowed ? 'block' : 'none';\n",
              "\n",
              "        async function convertToInteractive(key) {\n",
              "          const element = document.querySelector('#df-5f774f92-b931-4571-be4a-d5e89d8bd5fb');\n",
              "          const dataTable =\n",
              "            await google.colab.kernel.invokeFunction('convertToInteractive',\n",
              "                                                     [key], {});\n",
              "          if (!dataTable) return;\n",
              "\n",
              "          const docLinkHtml = 'Like what you see? Visit the ' +\n",
              "            '<a target=\"_blank\" href=https://colab.research.google.com/notebooks/data_table.ipynb>data table notebook</a>'\n",
              "            + ' to learn more about interactive tables.';\n",
              "          element.innerHTML = '';\n",
              "          dataTable['output_type'] = 'display_data';\n",
              "          await google.colab.output.renderOutput(dataTable, element);\n",
              "          const docLink = document.createElement('div');\n",
              "          docLink.innerHTML = docLinkHtml;\n",
              "          element.appendChild(docLink);\n",
              "        }\n",
              "      </script>\n",
              "    </div>\n",
              "  </div>\n",
              "  "
            ]
          },
          "metadata": {},
          "execution_count": 29
        }
      ]
    },
    {
      "cell_type": "code",
      "source": [
        "data.isna().sum()"
      ],
      "metadata": {
        "colab": {
          "base_uri": "https://localhost:8080/"
        },
        "id": "IX68FD4XyC0p",
        "outputId": "8e8fd7ec-fd2d-447c-9eed-f3ff73920d38"
      },
      "execution_count": 30,
      "outputs": [
        {
          "output_type": "execute_result",
          "data": {
            "text/plain": [
              "UNIQUE_ID                           0\n",
              "COLLISION_ID                        0\n",
              "CRASH_DATE                          0\n",
              "YEAR                                0\n",
              "MONTH                               0\n",
              "CRASH_TIME                          0\n",
              "VEHICLE_ID                          0\n",
              "STATE_REGISTRATION              74525\n",
              "VEHICLE_TYPE                    59835\n",
              "VEHICLE_MAKE                    85791\n",
              "VEHICLE_YEAR                    88815\n",
              "TRAVEL_DIRECTION                37107\n",
              "VEHICLE_OCCUPANTS               64914\n",
              "DRIVER_SEX                     175432\n",
              "DRIVER_LICENSE_STATUS          192516\n",
              "DRIVER_LICENSE_JURISDICTION    192465\n",
              "PRE_CRASH                       44956\n",
              "POINT_OF_IMPACT                 45833\n",
              "VEHICLE_DAMAGE                  51541\n",
              "VEHICLE_DAMAGE_1               293707\n",
              "VEHICLE_DAMAGE_2               404362\n",
              "VEHICLE_DAMAGE_3               483146\n",
              "PUBLIC_PROPERTY_DAMAGE              0\n",
              "PUBLIC_PROPERTY_DAMAGE_TYPE    734583\n",
              "CONTRIBUTING_FACTOR_1           35702\n",
              "CONTRIBUTING_FACTOR_2           41405\n",
              "dtype: int64"
            ]
          },
          "metadata": {},
          "execution_count": 30
        }
      ]
    },
    {
      "cell_type": "code",
      "source": [
        "\"\"\"We are using VECHILE_MAKE for our analysis of the missing values in the particular column is useless. We cannot replace the data with any random values as it affects the analysis directly.\n",
        "So we can remove the 85791 rows of data in which the VECHILE_MAKE column is a null value.\"\"\"\n",
        "data.dropna(axis=0, subset=['VEHICLE_MAKE'], inplace = True)"
      ],
      "metadata": {
        "id": "V0Z_QNmZzHTy"
      },
      "execution_count": 31,
      "outputs": []
    },
    {
      "cell_type": "code",
      "source": [
        "# data_new = data_new.dropna(axis=0, subset=['STATE_REGISTRATION'])\n",
        "data.isna().sum()"
      ],
      "metadata": {
        "colab": {
          "base_uri": "https://localhost:8080/"
        },
        "id": "O2ZFRHbgzajo",
        "outputId": "4a9ec319-e6d1-4ecc-b284-a236adc12190"
      },
      "execution_count": 32,
      "outputs": [
        {
          "output_type": "execute_result",
          "data": {
            "text/plain": [
              "UNIQUE_ID                           0\n",
              "COLLISION_ID                        0\n",
              "CRASH_DATE                          0\n",
              "YEAR                                0\n",
              "MONTH                               0\n",
              "CRASH_TIME                          0\n",
              "VEHICLE_ID                          0\n",
              "STATE_REGISTRATION               4096\n",
              "VEHICLE_TYPE                     4571\n",
              "VEHICLE_MAKE                        0\n",
              "VEHICLE_YEAR                    11112\n",
              "TRAVEL_DIRECTION                 2888\n",
              "VEHICLE_OCCUPANTS               10445\n",
              "DRIVER_SEX                     110414\n",
              "DRIVER_LICENSE_STATUS          120242\n",
              "DRIVER_LICENSE_JURISDICTION    119691\n",
              "PRE_CRASH                        5152\n",
              "POINT_OF_IMPACT                  5075\n",
              "VEHICLE_DAMAGE                   7336\n",
              "VEHICLE_DAMAGE_1               227869\n",
              "VEHICLE_DAMAGE_2               335580\n",
              "VEHICLE_DAMAGE_3               412667\n",
              "PUBLIC_PROPERTY_DAMAGE              0\n",
              "PUBLIC_PROPERTY_DAMAGE_TYPE    655295\n",
              "CONTRIBUTING_FACTOR_1            2634\n",
              "CONTRIBUTING_FACTOR_2            4237\n",
              "dtype: int64"
            ]
          },
          "metadata": {},
          "execution_count": 32
        }
      ]
    },
    {
      "cell_type": "code",
      "source": [
        "data.dropna(axis=0, subset=['STATE_REGISTRATION'], inplace = True)"
      ],
      "metadata": {
        "id": "q8xWCC5qBSdV"
      },
      "execution_count": 33,
      "outputs": []
    },
    {
      "cell_type": "code",
      "source": [
        "data.dropna(axis=0, subset=['VEHICLE_TYPE'], inplace = True)"
      ],
      "metadata": {
        "id": "vLpGQJAaBX19"
      },
      "execution_count": 34,
      "outputs": []
    },
    {
      "cell_type": "code",
      "source": [
        "#check is any value in public property damage is yes insted of N"
      ],
      "metadata": {
        "id": "JF6OljIWEKhX"
      },
      "execution_count": 35,
      "outputs": []
    },
    {
      "cell_type": "code",
      "source": [
        "data.drop(labels ='PUBLIC_PROPERTY_DAMAGE_TYPE', axis = 1)"
      ],
      "metadata": {
        "colab": {
          "base_uri": "https://localhost:8080/",
          "height": 1000
        },
        "id": "4kYxjqe099do",
        "outputId": "85b750c7-a1f6-43c8-d0e3-4c9c1bebc6a9"
      },
      "execution_count": 36,
      "outputs": [
        {
          "output_type": "execute_result",
          "data": {
            "text/plain": [
              "        UNIQUE_ID  COLLISION_ID CRASH_DATE  YEAR  MONTH CRASH_TIME  \\\n",
              "0        19140702       4213082 2019-09-23  2019      9       8:15   \n",
              "1        19138701       4229067 2019-10-24  2019     10      13:15   \n",
              "2        19140791       4229563 2019-10-21  2019     10      17:55   \n",
              "4        19140656       4229538 2019-10-24  2019     10      17:30   \n",
              "5        19139721       4228839 2019-10-24  2019     10      16:00   \n",
              "...           ...           ...        ...   ...    ...        ...   \n",
              "741079   20099856       4063673 2019-01-07  2019      1      12:45   \n",
              "741080   20113435       4060927 2019-01-01  2019      1      17:00   \n",
              "741082   20099855       4063673 2019-01-07  2019      1      12:45   \n",
              "741083   20101746       4295822 2020-02-27  2020      2      10:00   \n",
              "741084   20113436       4060927 2019-01-01  2019      1      17:00   \n",
              "\n",
              "                                  VEHICLE_ID STATE_REGISTRATION  \\\n",
              "0       0553ab4d-9500-4cba-8d98-f4d7f89d5856                 NY   \n",
              "1       c53b43d9-419a-4ab1-9361-3f2979078d89                 NY   \n",
              "2       86a294b4-6672-4a7e-8357-39d6d2eff9f7                 PA   \n",
              "4       70e5262a-bd27-48a6-99a1-1ec659804088                 NY   \n",
              "5       5bb0b59a-ce74-4a04-9f92-1446ebfe4f46                 NC   \n",
              "...                                      ...                ...   \n",
              "741079  57c0614a-9816-46d1-ad24-517de24722ec                 NY   \n",
              "741080  ea2d2b88-d405-4233-b0e2-a0c5988cb18f                 NY   \n",
              "741082  ae6c19f2-30a0-4892-8f08-d80fcbb057c6                 NJ   \n",
              "741083  5ec4913a-a77d-439a-81b9-0ce8a2d27c2d                 NY   \n",
              "741084  154f05e4-c36a-4461-bcec-c08f98e9cc2b                 IN   \n",
              "\n",
              "                               VEHICLE_TYPE    VEHICLE_MAKE  ...  \\\n",
              "0       Station Wagon/Sport Utility Vehicle   TOYT -CAR/SUV  ...   \n",
              "1                                       Bus  FRHT-TRUCK/BUS  ...   \n",
              "2                                     Sedan    BMW -CAR/SUV  ...   \n",
              "4       Station Wagon/Sport Utility Vehicle   JEEP -CAR/SUV  ...   \n",
              "5                                     Sedan   TOYT -CAR/SUV  ...   \n",
              "...                                     ...             ...  ...   \n",
              "741079  Station Wagon/Sport Utility Vehicle   NISS -CAR/SUV  ...   \n",
              "741080                                Sedan   ACUR -CAR/SUV  ...   \n",
              "741082                                Sedan   HYUN -CAR/SUV  ...   \n",
              "741083                                 Dump  MACK-TRUCK/BUS  ...   \n",
              "741084                                Sedan   HYUN -CAR/SUV  ...   \n",
              "\n",
              "        DRIVER_LICENSE_JURISDICTION             PRE_CRASH  \\\n",
              "0                                NY  Going Straight Ahead   \n",
              "1                                NY                Parked   \n",
              "2                                PA  Going Straight Ahead   \n",
              "4                                NY  Going Straight Ahead   \n",
              "5                                NC  Going Straight Ahead   \n",
              "...                             ...                   ...   \n",
              "741079                           NY        Changing Lanes   \n",
              "741080                           NY  Going Straight Ahead   \n",
              "741082                           NJ  Going Straight Ahead   \n",
              "741083                           NY               Backing   \n",
              "741084                           NY  Going Straight Ahead   \n",
              "\n",
              "                  POINT_OF_IMPACT             VEHICLE_DAMAGE  \\\n",
              "0               Left Front Bumper   Left Front Quarter Panel   \n",
              "1        Left Front Quarter Panel   Left Front Quarter Panel   \n",
              "2                Center Front End         Right Front Bumper   \n",
              "4         Left Rear Quarter Panel    Left Rear Quarter Panel   \n",
              "5                Right Side Doors           Right Side Doors   \n",
              "...                           ...                        ...   \n",
              "741079          Left Front Bumper          Left Front Bumper   \n",
              "741080    Left Rear Quarter Panel           Left Rear Bumper   \n",
              "741082  Right Front Quarter Panel  Right Front Quarter Panel   \n",
              "741083            Center Back End                  No Damage   \n",
              "741084         Right Front Bumper         Right Front Bumper   \n",
              "\n",
              "                 VEHICLE_DAMAGE_1    VEHICLE_DAMAGE_2   VEHICLE_DAMAGE_3  \\\n",
              "0                             NaN                 NaN                NaN   \n",
              "1                             NaN                 NaN                NaN   \n",
              "2       Right Front Quarter Panel  Right Front Bumper                NaN   \n",
              "4                             NaN                 NaN                NaN   \n",
              "5                             NaN                 NaN                NaN   \n",
              "...                           ...                 ...                ...   \n",
              "741079   Left Front Quarter Panel    Center Front End                NaN   \n",
              "741080                        NaN                 NaN                NaN   \n",
              "741082         Right Front Bumper    Center Front End  Left Front Bumper   \n",
              "741083                        NaN                 NaN                NaN   \n",
              "741084  Right Front Quarter Panel                 NaN                NaN   \n",
              "\n",
              "       PUBLIC_PROPERTY_DAMAGE           CONTRIBUTING_FACTOR_1  \\\n",
              "0                           N  Driver Inattention/Distraction   \n",
              "1                           N                     Unspecified   \n",
              "2                           N                     Unspecified   \n",
              "4                           N                     Unspecified   \n",
              "5                           N                     Unspecified   \n",
              "...                       ...                             ...   \n",
              "741079                      N            Unsafe Lane Changing   \n",
              "741080                      N                     Unspecified   \n",
              "741082                      N                     Unspecified   \n",
              "741083                      N                     Unspecified   \n",
              "741084                      N                     Unspecified   \n",
              "\n",
              "       CONTRIBUTING_FACTOR_2  \n",
              "0                Unspecified  \n",
              "1                Unspecified  \n",
              "2                Unspecified  \n",
              "4                Unspecified  \n",
              "5                Unspecified  \n",
              "...                      ...  \n",
              "741079           Unspecified  \n",
              "741080           Unspecified  \n",
              "741082           Unspecified  \n",
              "741083           Unspecified  \n",
              "741084           Unspecified  \n",
              "\n",
              "[647732 rows x 25 columns]"
            ],
            "text/html": [
              "\n",
              "  <div id=\"df-9e7ed229-07de-4fd3-8f47-0a3d8dd7ba9d\">\n",
              "    <div class=\"colab-df-container\">\n",
              "      <div>\n",
              "<style scoped>\n",
              "    .dataframe tbody tr th:only-of-type {\n",
              "        vertical-align: middle;\n",
              "    }\n",
              "\n",
              "    .dataframe tbody tr th {\n",
              "        vertical-align: top;\n",
              "    }\n",
              "\n",
              "    .dataframe thead th {\n",
              "        text-align: right;\n",
              "    }\n",
              "</style>\n",
              "<table border=\"1\" class=\"dataframe\">\n",
              "  <thead>\n",
              "    <tr style=\"text-align: right;\">\n",
              "      <th></th>\n",
              "      <th>UNIQUE_ID</th>\n",
              "      <th>COLLISION_ID</th>\n",
              "      <th>CRASH_DATE</th>\n",
              "      <th>YEAR</th>\n",
              "      <th>MONTH</th>\n",
              "      <th>CRASH_TIME</th>\n",
              "      <th>VEHICLE_ID</th>\n",
              "      <th>STATE_REGISTRATION</th>\n",
              "      <th>VEHICLE_TYPE</th>\n",
              "      <th>VEHICLE_MAKE</th>\n",
              "      <th>...</th>\n",
              "      <th>DRIVER_LICENSE_JURISDICTION</th>\n",
              "      <th>PRE_CRASH</th>\n",
              "      <th>POINT_OF_IMPACT</th>\n",
              "      <th>VEHICLE_DAMAGE</th>\n",
              "      <th>VEHICLE_DAMAGE_1</th>\n",
              "      <th>VEHICLE_DAMAGE_2</th>\n",
              "      <th>VEHICLE_DAMAGE_3</th>\n",
              "      <th>PUBLIC_PROPERTY_DAMAGE</th>\n",
              "      <th>CONTRIBUTING_FACTOR_1</th>\n",
              "      <th>CONTRIBUTING_FACTOR_2</th>\n",
              "    </tr>\n",
              "  </thead>\n",
              "  <tbody>\n",
              "    <tr>\n",
              "      <th>0</th>\n",
              "      <td>19140702</td>\n",
              "      <td>4213082</td>\n",
              "      <td>2019-09-23</td>\n",
              "      <td>2019</td>\n",
              "      <td>9</td>\n",
              "      <td>8:15</td>\n",
              "      <td>0553ab4d-9500-4cba-8d98-f4d7f89d5856</td>\n",
              "      <td>NY</td>\n",
              "      <td>Station Wagon/Sport Utility Vehicle</td>\n",
              "      <td>TOYT -CAR/SUV</td>\n",
              "      <td>...</td>\n",
              "      <td>NY</td>\n",
              "      <td>Going Straight Ahead</td>\n",
              "      <td>Left Front Bumper</td>\n",
              "      <td>Left Front Quarter Panel</td>\n",
              "      <td>NaN</td>\n",
              "      <td>NaN</td>\n",
              "      <td>NaN</td>\n",
              "      <td>N</td>\n",
              "      <td>Driver Inattention/Distraction</td>\n",
              "      <td>Unspecified</td>\n",
              "    </tr>\n",
              "    <tr>\n",
              "      <th>1</th>\n",
              "      <td>19138701</td>\n",
              "      <td>4229067</td>\n",
              "      <td>2019-10-24</td>\n",
              "      <td>2019</td>\n",
              "      <td>10</td>\n",
              "      <td>13:15</td>\n",
              "      <td>c53b43d9-419a-4ab1-9361-3f2979078d89</td>\n",
              "      <td>NY</td>\n",
              "      <td>Bus</td>\n",
              "      <td>FRHT-TRUCK/BUS</td>\n",
              "      <td>...</td>\n",
              "      <td>NY</td>\n",
              "      <td>Parked</td>\n",
              "      <td>Left Front Quarter Panel</td>\n",
              "      <td>Left Front Quarter Panel</td>\n",
              "      <td>NaN</td>\n",
              "      <td>NaN</td>\n",
              "      <td>NaN</td>\n",
              "      <td>N</td>\n",
              "      <td>Unspecified</td>\n",
              "      <td>Unspecified</td>\n",
              "    </tr>\n",
              "    <tr>\n",
              "      <th>2</th>\n",
              "      <td>19140791</td>\n",
              "      <td>4229563</td>\n",
              "      <td>2019-10-21</td>\n",
              "      <td>2019</td>\n",
              "      <td>10</td>\n",
              "      <td>17:55</td>\n",
              "      <td>86a294b4-6672-4a7e-8357-39d6d2eff9f7</td>\n",
              "      <td>PA</td>\n",
              "      <td>Sedan</td>\n",
              "      <td>BMW -CAR/SUV</td>\n",
              "      <td>...</td>\n",
              "      <td>PA</td>\n",
              "      <td>Going Straight Ahead</td>\n",
              "      <td>Center Front End</td>\n",
              "      <td>Right Front Bumper</td>\n",
              "      <td>Right Front Quarter Panel</td>\n",
              "      <td>Right Front Bumper</td>\n",
              "      <td>NaN</td>\n",
              "      <td>N</td>\n",
              "      <td>Unspecified</td>\n",
              "      <td>Unspecified</td>\n",
              "    </tr>\n",
              "    <tr>\n",
              "      <th>4</th>\n",
              "      <td>19140656</td>\n",
              "      <td>4229538</td>\n",
              "      <td>2019-10-24</td>\n",
              "      <td>2019</td>\n",
              "      <td>10</td>\n",
              "      <td>17:30</td>\n",
              "      <td>70e5262a-bd27-48a6-99a1-1ec659804088</td>\n",
              "      <td>NY</td>\n",
              "      <td>Station Wagon/Sport Utility Vehicle</td>\n",
              "      <td>JEEP -CAR/SUV</td>\n",
              "      <td>...</td>\n",
              "      <td>NY</td>\n",
              "      <td>Going Straight Ahead</td>\n",
              "      <td>Left Rear Quarter Panel</td>\n",
              "      <td>Left Rear Quarter Panel</td>\n",
              "      <td>NaN</td>\n",
              "      <td>NaN</td>\n",
              "      <td>NaN</td>\n",
              "      <td>N</td>\n",
              "      <td>Unspecified</td>\n",
              "      <td>Unspecified</td>\n",
              "    </tr>\n",
              "    <tr>\n",
              "      <th>5</th>\n",
              "      <td>19139721</td>\n",
              "      <td>4228839</td>\n",
              "      <td>2019-10-24</td>\n",
              "      <td>2019</td>\n",
              "      <td>10</td>\n",
              "      <td>16:00</td>\n",
              "      <td>5bb0b59a-ce74-4a04-9f92-1446ebfe4f46</td>\n",
              "      <td>NC</td>\n",
              "      <td>Sedan</td>\n",
              "      <td>TOYT -CAR/SUV</td>\n",
              "      <td>...</td>\n",
              "      <td>NC</td>\n",
              "      <td>Going Straight Ahead</td>\n",
              "      <td>Right Side Doors</td>\n",
              "      <td>Right Side Doors</td>\n",
              "      <td>NaN</td>\n",
              "      <td>NaN</td>\n",
              "      <td>NaN</td>\n",
              "      <td>N</td>\n",
              "      <td>Unspecified</td>\n",
              "      <td>Unspecified</td>\n",
              "    </tr>\n",
              "    <tr>\n",
              "      <th>...</th>\n",
              "      <td>...</td>\n",
              "      <td>...</td>\n",
              "      <td>...</td>\n",
              "      <td>...</td>\n",
              "      <td>...</td>\n",
              "      <td>...</td>\n",
              "      <td>...</td>\n",
              "      <td>...</td>\n",
              "      <td>...</td>\n",
              "      <td>...</td>\n",
              "      <td>...</td>\n",
              "      <td>...</td>\n",
              "      <td>...</td>\n",
              "      <td>...</td>\n",
              "      <td>...</td>\n",
              "      <td>...</td>\n",
              "      <td>...</td>\n",
              "      <td>...</td>\n",
              "      <td>...</td>\n",
              "      <td>...</td>\n",
              "      <td>...</td>\n",
              "    </tr>\n",
              "    <tr>\n",
              "      <th>741079</th>\n",
              "      <td>20099856</td>\n",
              "      <td>4063673</td>\n",
              "      <td>2019-01-07</td>\n",
              "      <td>2019</td>\n",
              "      <td>1</td>\n",
              "      <td>12:45</td>\n",
              "      <td>57c0614a-9816-46d1-ad24-517de24722ec</td>\n",
              "      <td>NY</td>\n",
              "      <td>Station Wagon/Sport Utility Vehicle</td>\n",
              "      <td>NISS -CAR/SUV</td>\n",
              "      <td>...</td>\n",
              "      <td>NY</td>\n",
              "      <td>Changing Lanes</td>\n",
              "      <td>Left Front Bumper</td>\n",
              "      <td>Left Front Bumper</td>\n",
              "      <td>Left Front Quarter Panel</td>\n",
              "      <td>Center Front End</td>\n",
              "      <td>NaN</td>\n",
              "      <td>N</td>\n",
              "      <td>Unsafe Lane Changing</td>\n",
              "      <td>Unspecified</td>\n",
              "    </tr>\n",
              "    <tr>\n",
              "      <th>741080</th>\n",
              "      <td>20113435</td>\n",
              "      <td>4060927</td>\n",
              "      <td>2019-01-01</td>\n",
              "      <td>2019</td>\n",
              "      <td>1</td>\n",
              "      <td>17:00</td>\n",
              "      <td>ea2d2b88-d405-4233-b0e2-a0c5988cb18f</td>\n",
              "      <td>NY</td>\n",
              "      <td>Sedan</td>\n",
              "      <td>ACUR -CAR/SUV</td>\n",
              "      <td>...</td>\n",
              "      <td>NY</td>\n",
              "      <td>Going Straight Ahead</td>\n",
              "      <td>Left Rear Quarter Panel</td>\n",
              "      <td>Left Rear Bumper</td>\n",
              "      <td>NaN</td>\n",
              "      <td>NaN</td>\n",
              "      <td>NaN</td>\n",
              "      <td>N</td>\n",
              "      <td>Unspecified</td>\n",
              "      <td>Unspecified</td>\n",
              "    </tr>\n",
              "    <tr>\n",
              "      <th>741082</th>\n",
              "      <td>20099855</td>\n",
              "      <td>4063673</td>\n",
              "      <td>2019-01-07</td>\n",
              "      <td>2019</td>\n",
              "      <td>1</td>\n",
              "      <td>12:45</td>\n",
              "      <td>ae6c19f2-30a0-4892-8f08-d80fcbb057c6</td>\n",
              "      <td>NJ</td>\n",
              "      <td>Sedan</td>\n",
              "      <td>HYUN -CAR/SUV</td>\n",
              "      <td>...</td>\n",
              "      <td>NJ</td>\n",
              "      <td>Going Straight Ahead</td>\n",
              "      <td>Right Front Quarter Panel</td>\n",
              "      <td>Right Front Quarter Panel</td>\n",
              "      <td>Right Front Bumper</td>\n",
              "      <td>Center Front End</td>\n",
              "      <td>Left Front Bumper</td>\n",
              "      <td>N</td>\n",
              "      <td>Unspecified</td>\n",
              "      <td>Unspecified</td>\n",
              "    </tr>\n",
              "    <tr>\n",
              "      <th>741083</th>\n",
              "      <td>20101746</td>\n",
              "      <td>4295822</td>\n",
              "      <td>2020-02-27</td>\n",
              "      <td>2020</td>\n",
              "      <td>2</td>\n",
              "      <td>10:00</td>\n",
              "      <td>5ec4913a-a77d-439a-81b9-0ce8a2d27c2d</td>\n",
              "      <td>NY</td>\n",
              "      <td>Dump</td>\n",
              "      <td>MACK-TRUCK/BUS</td>\n",
              "      <td>...</td>\n",
              "      <td>NY</td>\n",
              "      <td>Backing</td>\n",
              "      <td>Center Back End</td>\n",
              "      <td>No Damage</td>\n",
              "      <td>NaN</td>\n",
              "      <td>NaN</td>\n",
              "      <td>NaN</td>\n",
              "      <td>N</td>\n",
              "      <td>Unspecified</td>\n",
              "      <td>Unspecified</td>\n",
              "    </tr>\n",
              "    <tr>\n",
              "      <th>741084</th>\n",
              "      <td>20113436</td>\n",
              "      <td>4060927</td>\n",
              "      <td>2019-01-01</td>\n",
              "      <td>2019</td>\n",
              "      <td>1</td>\n",
              "      <td>17:00</td>\n",
              "      <td>154f05e4-c36a-4461-bcec-c08f98e9cc2b</td>\n",
              "      <td>IN</td>\n",
              "      <td>Sedan</td>\n",
              "      <td>HYUN -CAR/SUV</td>\n",
              "      <td>...</td>\n",
              "      <td>NY</td>\n",
              "      <td>Going Straight Ahead</td>\n",
              "      <td>Right Front Bumper</td>\n",
              "      <td>Right Front Bumper</td>\n",
              "      <td>Right Front Quarter Panel</td>\n",
              "      <td>NaN</td>\n",
              "      <td>NaN</td>\n",
              "      <td>N</td>\n",
              "      <td>Unspecified</td>\n",
              "      <td>Unspecified</td>\n",
              "    </tr>\n",
              "  </tbody>\n",
              "</table>\n",
              "<p>647732 rows × 25 columns</p>\n",
              "</div>\n",
              "      <button class=\"colab-df-convert\" onclick=\"convertToInteractive('df-9e7ed229-07de-4fd3-8f47-0a3d8dd7ba9d')\"\n",
              "              title=\"Convert this dataframe to an interactive table.\"\n",
              "              style=\"display:none;\">\n",
              "        \n",
              "  <svg xmlns=\"http://www.w3.org/2000/svg\" height=\"24px\"viewBox=\"0 0 24 24\"\n",
              "       width=\"24px\">\n",
              "    <path d=\"M0 0h24v24H0V0z\" fill=\"none\"/>\n",
              "    <path d=\"M18.56 5.44l.94 2.06.94-2.06 2.06-.94-2.06-.94-.94-2.06-.94 2.06-2.06.94zm-11 1L8.5 8.5l.94-2.06 2.06-.94-2.06-.94L8.5 2.5l-.94 2.06-2.06.94zm10 10l.94 2.06.94-2.06 2.06-.94-2.06-.94-.94-2.06-.94 2.06-2.06.94z\"/><path d=\"M17.41 7.96l-1.37-1.37c-.4-.4-.92-.59-1.43-.59-.52 0-1.04.2-1.43.59L10.3 9.45l-7.72 7.72c-.78.78-.78 2.05 0 2.83L4 21.41c.39.39.9.59 1.41.59.51 0 1.02-.2 1.41-.59l7.78-7.78 2.81-2.81c.8-.78.8-2.07 0-2.86zM5.41 20L4 18.59l7.72-7.72 1.47 1.35L5.41 20z\"/>\n",
              "  </svg>\n",
              "      </button>\n",
              "      \n",
              "  <style>\n",
              "    .colab-df-container {\n",
              "      display:flex;\n",
              "      flex-wrap:wrap;\n",
              "      gap: 12px;\n",
              "    }\n",
              "\n",
              "    .colab-df-convert {\n",
              "      background-color: #E8F0FE;\n",
              "      border: none;\n",
              "      border-radius: 50%;\n",
              "      cursor: pointer;\n",
              "      display: none;\n",
              "      fill: #1967D2;\n",
              "      height: 32px;\n",
              "      padding: 0 0 0 0;\n",
              "      width: 32px;\n",
              "    }\n",
              "\n",
              "    .colab-df-convert:hover {\n",
              "      background-color: #E2EBFA;\n",
              "      box-shadow: 0px 1px 2px rgba(60, 64, 67, 0.3), 0px 1px 3px 1px rgba(60, 64, 67, 0.15);\n",
              "      fill: #174EA6;\n",
              "    }\n",
              "\n",
              "    [theme=dark] .colab-df-convert {\n",
              "      background-color: #3B4455;\n",
              "      fill: #D2E3FC;\n",
              "    }\n",
              "\n",
              "    [theme=dark] .colab-df-convert:hover {\n",
              "      background-color: #434B5C;\n",
              "      box-shadow: 0px 1px 3px 1px rgba(0, 0, 0, 0.15);\n",
              "      filter: drop-shadow(0px 1px 2px rgba(0, 0, 0, 0.3));\n",
              "      fill: #FFFFFF;\n",
              "    }\n",
              "  </style>\n",
              "\n",
              "      <script>\n",
              "        const buttonEl =\n",
              "          document.querySelector('#df-9e7ed229-07de-4fd3-8f47-0a3d8dd7ba9d button.colab-df-convert');\n",
              "        buttonEl.style.display =\n",
              "          google.colab.kernel.accessAllowed ? 'block' : 'none';\n",
              "\n",
              "        async function convertToInteractive(key) {\n",
              "          const element = document.querySelector('#df-9e7ed229-07de-4fd3-8f47-0a3d8dd7ba9d');\n",
              "          const dataTable =\n",
              "            await google.colab.kernel.invokeFunction('convertToInteractive',\n",
              "                                                     [key], {});\n",
              "          if (!dataTable) return;\n",
              "\n",
              "          const docLinkHtml = 'Like what you see? Visit the ' +\n",
              "            '<a target=\"_blank\" href=https://colab.research.google.com/notebooks/data_table.ipynb>data table notebook</a>'\n",
              "            + ' to learn more about interactive tables.';\n",
              "          element.innerHTML = '';\n",
              "          dataTable['output_type'] = 'display_data';\n",
              "          await google.colab.output.renderOutput(dataTable, element);\n",
              "          const docLink = document.createElement('div');\n",
              "          docLink.innerHTML = docLinkHtml;\n",
              "          element.appendChild(docLink);\n",
              "        }\n",
              "      </script>\n",
              "    </div>\n",
              "  </div>\n",
              "  "
            ]
          },
          "metadata": {},
          "execution_count": 36
        }
      ]
    },
    {
      "cell_type": "code",
      "source": [
        "data.isna().sum()"
      ],
      "metadata": {
        "colab": {
          "base_uri": "https://localhost:8080/"
        },
        "id": "-8RcptgD-H26",
        "outputId": "3ea17b0e-128b-4fbe-eaed-3715a536215a"
      },
      "execution_count": 37,
      "outputs": [
        {
          "output_type": "execute_result",
          "data": {
            "text/plain": [
              "UNIQUE_ID                           0\n",
              "COLLISION_ID                        0\n",
              "CRASH_DATE                          0\n",
              "YEAR                                0\n",
              "MONTH                               0\n",
              "CRASH_TIME                          0\n",
              "VEHICLE_ID                          0\n",
              "STATE_REGISTRATION                  0\n",
              "VEHICLE_TYPE                        0\n",
              "VEHICLE_MAKE                        0\n",
              "VEHICLE_YEAR                     6566\n",
              "TRAVEL_DIRECTION                 1534\n",
              "VEHICLE_OCCUPANTS                6768\n",
              "DRIVER_SEX                     104399\n",
              "DRIVER_LICENSE_STATUS          113984\n",
              "DRIVER_LICENSE_JURISDICTION    113316\n",
              "PRE_CRASH                        3476\n",
              "POINT_OF_IMPACT                  3142\n",
              "VEHICLE_DAMAGE                   4804\n",
              "VEHICLE_DAMAGE_1               222976\n",
              "VEHICLE_DAMAGE_2               330243\n",
              "VEHICLE_DAMAGE_3               407045\n",
              "PUBLIC_PROPERTY_DAMAGE              0\n",
              "PUBLIC_PROPERTY_DAMAGE_TYPE    647732\n",
              "CONTRIBUTING_FACTOR_1            1287\n",
              "CONTRIBUTING_FACTOR_2            2452\n",
              "dtype: int64"
            ]
          },
          "metadata": {},
          "execution_count": 37
        }
      ]
    },
    {
      "cell_type": "markdown",
      "source": [
        "#**Pre processing for PUBLIC_PROPERTY_DAMAGE Column**"
      ],
      "metadata": {
        "id": "jaUgNYg2tk-Y"
      }
    },
    {
      "cell_type": "code",
      "source": [
        "data['PUBLIC_PROPERTY_DAMAGE'].unique()"
      ],
      "metadata": {
        "colab": {
          "base_uri": "https://localhost:8080/"
        },
        "id": "B57VjBXw4qmp",
        "outputId": "b74a638a-7773-445c-fd66-0b047b69d339"
      },
      "execution_count": 38,
      "outputs": [
        {
          "output_type": "execute_result",
          "data": {
            "text/plain": [
              "array(['N', 'Unspecified', 'Y'], dtype=object)"
            ]
          },
          "metadata": {},
          "execution_count": 38
        }
      ]
    },
    {
      "cell_type": "code",
      "source": [
        "data['PUBLIC_PROPERTY_DAMAGE'].value_counts()"
      ],
      "metadata": {
        "colab": {
          "base_uri": "https://localhost:8080/"
        },
        "id": "YWkb8KozNqYw",
        "outputId": "4c7c7d05-fd5e-491e-aa47-dcb53a54486d"
      },
      "execution_count": 39,
      "outputs": [
        {
          "output_type": "execute_result",
          "data": {
            "text/plain": [
              "N              613515\n",
              "Unspecified     30866\n",
              "Y                3351\n",
              "Name: PUBLIC_PROPERTY_DAMAGE, dtype: int64"
            ]
          },
          "metadata": {},
          "execution_count": 39
        }
      ]
    },
    {
      "cell_type": "code",
      "source": [
        "data[data['PUBLIC_PROPERTY_DAMAGE']== 'Unspecified'].shape\n",
        "# There are a total of 30866 accidents in which the public property damage is not available. \n",
        "#This can be considered as NaN values itself as we cannot conclude it as an yes or no. This can be handled last it does not come into play in the initial analysis."
      ],
      "metadata": {
        "colab": {
          "base_uri": "https://localhost:8080/"
        },
        "id": "s_00S2G_dYRA",
        "outputId": "fc34f29b-6af1-4012-e01c-d2dfd9ed0ba0"
      },
      "execution_count": 40,
      "outputs": [
        {
          "output_type": "execute_result",
          "data": {
            "text/plain": [
              "(30866, 26)"
            ]
          },
          "metadata": {},
          "execution_count": 40
        }
      ]
    },
    {
      "cell_type": "markdown",
      "source": [
        "#**Pre processing for DRIVER_SEX Column**"
      ],
      "metadata": {
        "id": "ac2PxSutEEk0"
      }
    },
    {
      "cell_type": "code",
      "source": [
        "data['DRIVER_SEX'].unique()\n",
        "# 104399 missing values are presented remove this would affect the initial analysis. So it can be handled later."
      ],
      "metadata": {
        "colab": {
          "base_uri": "https://localhost:8080/"
        },
        "id": "ZFkGbCBIl91g",
        "outputId": "318d9635-9c83-48e7-ee60-9047864b950a"
      },
      "execution_count": 41,
      "outputs": [
        {
          "output_type": "execute_result",
          "data": {
            "text/plain": [
              "array(['M', 'F', nan, 'U'], dtype=object)"
            ]
          },
          "metadata": {},
          "execution_count": 41
        }
      ]
    },
    {
      "cell_type": "code",
      "source": [
        "data['DRIVER_SEX'].value_counts()"
      ],
      "metadata": {
        "colab": {
          "base_uri": "https://localhost:8080/"
        },
        "id": "Sl8C-3elmJaj",
        "outputId": "ef9c56cc-c4bb-4777-8b4a-6a1cc56a2d0f"
      },
      "execution_count": 42,
      "outputs": [
        {
          "output_type": "execute_result",
          "data": {
            "text/plain": [
              "M    399902\n",
              "F    142382\n",
              "U      1049\n",
              "Name: DRIVER_SEX, dtype: int64"
            ]
          },
          "metadata": {},
          "execution_count": 42
        }
      ]
    },
    {
      "cell_type": "markdown",
      "source": [
        "#**Pre processing for POINT_OF_IMPACT Column**"
      ],
      "metadata": {
        "id": "UCF82EHTD3WR"
      }
    },
    {
      "cell_type": "code",
      "source": [
        "data['POINT_OF_IMPACT'].unique()\n",
        "# 3142 missing values are present but it is not neccessary for initial analysis."
      ],
      "metadata": {
        "colab": {
          "base_uri": "https://localhost:8080/"
        },
        "id": "3Luwv1k3mpfV",
        "outputId": "0fbb7cda-4a07-4108-b48b-7888c86c5984"
      },
      "execution_count": 43,
      "outputs": [
        {
          "output_type": "execute_result",
          "data": {
            "text/plain": [
              "array(['Left Front Bumper', 'Left Front Quarter Panel',\n",
              "       'Center Front End', 'Left Rear Quarter Panel', 'Right Side Doors',\n",
              "       'Left Side Doors', 'Right Front Bumper', 'Center Back End',\n",
              "       'Right Rear Quarter Panel', 'Left Rear Bumper',\n",
              "       'Right Front Quarter Panel', 'Right Rear Bumper', 'No Damage', nan,\n",
              "       'Trailer', 'Other', 'Roof', 'Overturned', 'Demolished',\n",
              "       'Undercarriage'], dtype=object)"
            ]
          },
          "metadata": {},
          "execution_count": 43
        }
      ]
    },
    {
      "cell_type": "code",
      "source": [
        "data['POINT_OF_IMPACT'].value_counts()\n",
        "# This data seems to be of good quality and there is nothing to be done for this column."
      ],
      "metadata": {
        "colab": {
          "base_uri": "https://localhost:8080/"
        },
        "id": "ohAOgT2pnGpO",
        "outputId": "e9b37f41-a8a2-4724-9f0b-7654b244687b"
      },
      "execution_count": 44,
      "outputs": [
        {
          "output_type": "execute_result",
          "data": {
            "text/plain": [
              "Center Front End             102861\n",
              "Left Front Bumper             82498\n",
              "Center Back End               81641\n",
              "Right Front Bumper            72240\n",
              "Right Front Quarter Panel     48525\n",
              "Left Front Quarter Panel      48249\n",
              "Left Rear Quarter Panel       39859\n",
              "Left Rear Bumper              35509\n",
              "Left Side Doors               35426\n",
              "Right Side Doors              29139\n",
              "Right Rear Quarter Panel      28042\n",
              "Right Rear Bumper             23253\n",
              "No Damage                      9438\n",
              "Other                          4557\n",
              "Roof                           1381\n",
              "Trailer                         902\n",
              "Undercarriage                   407\n",
              "Overturned                      373\n",
              "Demolished                      290\n",
              "Name: POINT_OF_IMPACT, dtype: int64"
            ]
          },
          "metadata": {},
          "execution_count": 44
        }
      ]
    },
    {
      "cell_type": "markdown",
      "source": [
        "#**Pre processing for STATE_REGISTRATION Column**"
      ],
      "metadata": {
        "id": "HJ7my2bPC0vv"
      }
    },
    {
      "cell_type": "code",
      "source": [
        "data['STATE_REGISTRATION'].unique()"
      ],
      "metadata": {
        "colab": {
          "base_uri": "https://localhost:8080/"
        },
        "id": "7KkQicV0erY1",
        "outputId": "2978762e-332b-457d-cf01-a9eb5ef61aee"
      },
      "execution_count": 45,
      "outputs": [
        {
          "output_type": "execute_result",
          "data": {
            "text/plain": [
              "array(['NY', 'PA', 'NC', 'NM', 'OK', 'NJ', 'VA', 'FL', 'MN', 'ON', 'IL',\n",
              "       'AL', 'TX', 'MI', 'TN', 'MA', 'MD', 'CT', 'AZ', 'IN', 'ZZ', 'ME',\n",
              "       'NH', 'WA', 'GA', 'AK', 'OH', 'MO', 'KS', 'SC', 'KY', 'CA', 'PQ',\n",
              "       'DE', 'MS', 'VT', 'CO', 'AR', 'RI', 'UT', 'IA', 'LA', 'OR', 'NF',\n",
              "       'WI', 'NB', 'ID', 'MT', 'WV', 'NV', 'SK', 'ND', 'BC', 'DC', 'SD',\n",
              "       'MX', 'PE', 'NS', 'HI', 'WY', 'NT', 'AB', 'MB', 'YT', 'UA', 'LR'],\n",
              "      dtype=object)"
            ]
          },
          "metadata": {},
          "execution_count": 45
        }
      ]
    },
    {
      "cell_type": "code",
      "source": [
        "#There are only 50 states in usa so the state registration column is having some errors it might be due to a spelling error for some entries.\n",
        "#There are fifty (50) states and Washington D.C.The last two states to join the Union were Alaska (49th) and Hawaii (50th).\n",
        "data['STATE_REGISTRATION'].value_counts()\n",
        "# Plot the state registration with folium in last."
      ],
      "metadata": {
        "colab": {
          "base_uri": "https://localhost:8080/"
        },
        "id": "1jOljsYzw8__",
        "outputId": "8e6ebb64-4386-409d-e100-bab7e12f8adf"
      },
      "execution_count": 46,
      "outputs": [
        {
          "output_type": "execute_result",
          "data": {
            "text/plain": [
              "NY    532856\n",
              "NJ     42015\n",
              "PA     16388\n",
              "CT      8271\n",
              "FL      8061\n",
              "       ...  \n",
              "MX         5\n",
              "SK         4\n",
              "YT         3\n",
              "UA         1\n",
              "LR         1\n",
              "Name: STATE_REGISTRATION, Length: 66, dtype: int64"
            ]
          },
          "metadata": {},
          "execution_count": 46
        }
      ]
    },
    {
      "cell_type": "code",
      "source": [
        "len(['ON', 'ZZ','PQ','NF','SK','BC', 'MX', 'PE', 'NS','NT', 'AB', 'MB', 'YT', 'UA', 'LR'])\n",
        "# ON can be converted to OH as it can be due to error happened while typing since N is close to H.\n",
        "# ZZ can be converted to AZ\n",
        "# PQ can be converted to PA\n",
        "# NF can be ND as they are on the same row in keyboard\n",
        "\"\"\" Our assumption was wrong these were the vechiles coming from neighbouring countries that got into accidents inside the newyork\"\"\""
      ],
      "metadata": {
        "colab": {
          "base_uri": "https://localhost:8080/",
          "height": 36
        },
        "id": "DQxGslY4OrqR",
        "outputId": "a036f3c6-3f49-423c-c259-17d0aec1a2d2"
      },
      "execution_count": 47,
      "outputs": [
        {
          "output_type": "execute_result",
          "data": {
            "text/plain": [
              "' Our assumption was wrong these were the vechiles coming from neighbouring countries that got into accidents inside the newyork'"
            ],
            "application/vnd.google.colaboratory.intrinsic+json": {
              "type": "string"
            }
          },
          "metadata": {},
          "execution_count": 47
        }
      ]
    },
    {
      "cell_type": "code",
      "source": [
        "df_ON = data[data['STATE_REGISTRATION'] =='ON']\n",
        "# There is no state prefix 'ON' for a state in USA.\n",
        "# Later identified that the datasets is the accidents occured in newyork which includes the vechile coming from outside the country. 'ON' is the state prefix of Ontario,Canada.\n",
        "df_ON[df_ON['VEHICLE_TYPE'] == 'TRUCK'].shape\n",
        "# 38 of the vehicle are trucks as per the final analysis."
      ],
      "metadata": {
        "colab": {
          "base_uri": "https://localhost:8080/"
        },
        "id": "eq644pmKPc08",
        "outputId": "dbd7a04e-74a9-468d-f1ec-9ea750130ea4"
      },
      "execution_count": 127,
      "outputs": [
        {
          "output_type": "execute_result",
          "data": {
            "text/plain": [
              "(38, 26)"
            ]
          },
          "metadata": {},
          "execution_count": 127
        }
      ]
    },
    {
      "cell_type": "code",
      "source": [
        "lst = ['NY', 'PA', 'NC', 'NM', 'OK', 'NJ', 'VA', 'FL', 'MN', 'ON', 'IL',\n",
        "       'AL', 'TX', 'MI', 'TN', 'MA', 'MD', 'CT', 'AZ', 'IN', 'ZZ', 'ME',\n",
        "       'NH', 'WA', 'GA', 'AK', 'OH', 'MO', 'KS', 'SC', 'KY', 'CA', 'PQ',\n",
        "       'DE', 'MS', 'VT', 'CO', 'AR', 'RI', 'UT', 'IA', 'LA', 'OR', 'NF',\n",
        "       'WI', 'NB', 'ID', 'MT', 'WV', 'NV', 'SK', 'ND', 'BC', 'DC', 'SD',\n",
        "       'MX', 'PE', 'NS', 'HI', 'WY', 'NT', 'AB', 'MB', 'YT', 'UA', 'LR']\n",
        "tst = ['ON', 'ZZ','PQ','NF','SK','BC', 'MX', 'PE', 'NS','NT', 'AB', 'MB', 'YT', 'UA', 'LR']\n",
        "for i in tst:\n",
        "  if i in lst:\n",
        "    lst.remove(i)\n",
        "print(lst)\n",
        "# The state registration includes the state registration as well as state registration under union territory.\n",
        "# So there are a total of 55 registrations inside usa.\n",
        "# Question is whether we should remove the remaining data 11 state prefix. It can be the vechiles coming from other state registration outside the country into usa.\n",
        "# Example 'ON' is the state registration of ontario, canada"
      ],
      "metadata": {
        "colab": {
          "base_uri": "https://localhost:8080/"
        },
        "id": "mMHjZVnsxdFy",
        "outputId": "28e2c201-ec98-4437-b040-bb382ba3dc48"
      },
      "execution_count": 49,
      "outputs": [
        {
          "output_type": "stream",
          "name": "stdout",
          "text": [
            "['NY', 'PA', 'NC', 'NM', 'OK', 'NJ', 'VA', 'FL', 'MN', 'IL', 'AL', 'TX', 'MI', 'TN', 'MA', 'MD', 'CT', 'AZ', 'IN', 'ME', 'NH', 'WA', 'GA', 'AK', 'OH', 'MO', 'KS', 'SC', 'KY', 'CA', 'DE', 'MS', 'VT', 'CO', 'AR', 'RI', 'UT', 'IA', 'LA', 'OR', 'WI', 'NB', 'ID', 'MT', 'WV', 'NV', 'ND', 'DC', 'SD', 'HI', 'WY']\n"
          ]
        }
      ]
    },
    {
      "cell_type": "markdown",
      "source": [
        "##There is no need of removing the state registration nor replacing it since the NYC accidents data include the vehicle from usa and from outside the country. Several trucks from cananda and near by countries come into usa with goods. for example, Vechiles with state registration ON(ontario, canada) has 261 accidents occured in within NYC"
      ],
      "metadata": {
        "id": "f-qJPKyFvcd8"
      }
    },
    {
      "cell_type": "code",
      "source": [
        "plt.rcParams[\"figure.figsize\"] = (18,5)\n",
        "data['STATE_REGISTRATION'].value_counts().plot(kind ='bar')\n",
        "# Majority of accidents happened by the vehicle within 'NY'-New York and on the second place is 'NJ'-New Jersey' which is a nearby state."
      ],
      "metadata": {
        "colab": {
          "base_uri": "https://localhost:8080/",
          "height": 343
        },
        "id": "9NJlKNTrxWmM",
        "outputId": "98a1a69c-afe5-4cfc-ceeb-4e956a6860c4"
      },
      "execution_count": 50,
      "outputs": [
        {
          "output_type": "execute_result",
          "data": {
            "text/plain": [
              "<matplotlib.axes._subplots.AxesSubplot at 0x7fc3e66e4d90>"
            ]
          },
          "metadata": {},
          "execution_count": 50
        },
        {
          "output_type": "display_data",
          "data": {
            "text/plain": [
              "<Figure size 1296x360 with 1 Axes>"
            ],
            "image/png": "[encoded data removed]"
          },
          "metadata": {
            "needs_background": "light"
          }
        }
      ]
    },
    {
      "cell_type": "markdown",
      "source": [
        "#**Pre processing for DRIVER_LICENSE_JURISDICTION Column**"
      ],
      "metadata": {
        "id": "Slidc3x3DF0M"
      }
    },
    {
      "cell_type": "code",
      "source": [
        "data['DRIVER_LICENSE_JURISDICTION'].unique()"
      ],
      "metadata": {
        "colab": {
          "base_uri": "https://localhost:8080/"
        },
        "id": "uBlL6ojI3WC8",
        "outputId": "183e818c-2e94-4130-d849-7563dbcd896b"
      },
      "execution_count": 51,
      "outputs": [
        {
          "output_type": "execute_result",
          "data": {
            "text/plain": [
              "array(['NY', 'PA', 'NC', nan, 'NJ', 'VA', 'MN', 'ON', 'AL', 'FL', 'MX',\n",
              "       'MA', 'MD', 'TX', 'CT', 'ZZZ', 'IL', 'TN', 'NB', 'CA', 'PQ', 'WA',\n",
              "       'AK', 'RI', 'OH', 'MO', 'MI', 'KS', 'GA', 'NH', 'MS', 'AZ', 'SC',\n",
              "       'ID', 'CO', 'DE', 'VT', 'IN', 'OK', 'NF', 'DC', 'MT', 'NM', 'AB',\n",
              "       'ME', 'IA', 'ND', 'LA', 'OR', 'NB1', 'NV', 'WI', 'HI', 'WV', 'UT',\n",
              "       'KY', 'SD', 'BC', 'AR', 'WY', 'YT', 'NS', 'PE', 'PR', 'MB', 'SK',\n",
              "       'NT', 'A,NEJADE', 'NE', \"PA'\"], dtype=object)"
            ]
          },
          "metadata": {},
          "execution_count": 51
        }
      ]
    },
    {
      "cell_type": "code",
      "source": [
        "data[data['DRIVER_LICENSE_JURISDICTION'] =='A,NEJADE']\n",
        "# This is an error there is not state with such a license jurisdiction.\n",
        "#(647732, 26)\n",
        "data.drop(data[data['DRIVER_LICENSE_JURISDICTION'] == 'A,NEJADE'].index, inplace = True)"
      ],
      "metadata": {
        "id": "tGAirPrnR_yh"
      },
      "execution_count": 52,
      "outputs": []
    },
    {
      "cell_type": "code",
      "source": [
        "data.shape\n",
        "# The error row is removed."
      ],
      "metadata": {
        "colab": {
          "base_uri": "https://localhost:8080/"
        },
        "id": "rLZjm5_SXoqu",
        "outputId": "0140baf8-5195-4b0f-a866-86d223829275"
      },
      "execution_count": 53,
      "outputs": [
        {
          "output_type": "execute_result",
          "data": {
            "text/plain": [
              "(647731, 26)"
            ]
          },
          "metadata": {},
          "execution_count": 53
        }
      ]
    },
    {
      "cell_type": "markdown",
      "source": [
        "#**Pre processing for DRIVER_LICENSE_STATUS Column**"
      ],
      "metadata": {
        "id": "QFrT8fo4DUY3"
      }
    },
    {
      "cell_type": "code",
      "source": [
        "data['DRIVER_LICENSE_STATUS'].value_counts()\n",
        "# 113984 missing values are also present in this data. But still accidents are mostly created by the Licensed people. That is around 80% of accidents.\n",
        "# We can handle the missing values later as it will remove a major portion of the valuable data."
      ],
      "metadata": {
        "colab": {
          "base_uri": "https://localhost:8080/"
        },
        "id": "zaNRHG2LX2R3",
        "outputId": "6305416a-8738-45d4-92d8-b4e4c259ae73"
      },
      "execution_count": 54,
      "outputs": [
        {
          "output_type": "execute_result",
          "data": {
            "text/plain": [
              "Licensed      523716\n",
              "Unlicensed      6772\n",
              "Permit          3259\n",
              "Name: DRIVER_LICENSE_STATUS, dtype: int64"
            ]
          },
          "metadata": {},
          "execution_count": 54
        }
      ]
    },
    {
      "cell_type": "markdown",
      "source": [
        "#**Pre processing for VEHICLE_MAKE Column**"
      ],
      "metadata": {
        "id": "-YpZ2oqECH6V"
      }
    },
    {
      "cell_type": "code",
      "source": [
        "data['VEHICLE_MAKE'].value_counts()"
      ],
      "metadata": {
        "colab": {
          "base_uri": "https://localhost:8080/"
        },
        "id": "duGHQyIss2qn",
        "outputId": "76edd689-7805-468e-f901-bcbce6ac2299"
      },
      "execution_count": 55,
      "outputs": [
        {
          "output_type": "execute_result",
          "data": {
            "text/plain": [
              "TOYT -CAR/SUV           115565\n",
              "HOND -CAR/SUV            81443\n",
              "NISS -CAR/SUV            68071\n",
              "FORD -CAR/SUV            53675\n",
              "CHEV -CAR/SUV            31045\n",
              "                         ...  \n",
              "fdny truck                   1\n",
              "Winnebago                    1\n",
              "ALEXANDER DENNIS             1\n",
              "VESPA (GTS300IE)             1\n",
              "SEAGRAVE TOWERLADDER         1\n",
              "Name: VEHICLE_MAKE, Length: 3779, dtype: int64"
            ]
          },
          "metadata": {},
          "execution_count": 55
        }
      ]
    },
    {
      "cell_type": "code",
      "source": [
        "import re\n",
        "def vechile_make_extractor(name):\n",
        "  if re.search('\\-.*', name): \n",
        "    p = re.search('\\-.*', name).start() \n",
        "    return name[:p-1] # We want the space to be removed otherwise 'GMC ' and 'GMC' will be different categories.\n",
        "  else:\n",
        "    return name\n",
        "data['VEHICLE_MAKE'] = data['VEHICLE_MAKE'].apply(vechile_make_extractor)"
      ],
      "metadata": {
        "id": "EcHS_Og2uG1h"
      },
      "execution_count": 56,
      "outputs": []
    },
    {
      "cell_type": "code",
      "source": [
        "data['VEHICLE_MAKE'].unique()"
      ],
      "metadata": {
        "colab": {
          "base_uri": "https://localhost:8080/"
        },
        "id": "TRTg8TpVK29O",
        "outputId": "eedd620a-acc9-406c-dabe-3181d58cb172"
      },
      "execution_count": 57,
      "outputs": [
        {
          "output_type": "execute_result",
          "data": {
            "text/plain": [
              "array(['TOYT', 'FRH', 'BMW', ..., 'BMW/ 535I XDRIV', 'DONG',\n",
              "       'SEAGRAVE TOWERLADDER'], dtype=object)"
            ]
          },
          "metadata": {},
          "execution_count": 57
        }
      ]
    },
    {
      "cell_type": "code",
      "source": [
        "a = list(data['VEHICLE_MAKE'].unique())\n",
        "b = []\n",
        "for i in a:\n",
        "  try:\n",
        "    if i[0] == 'C' or i[0] == 'c': # checked with the first letter of the vehicle make label.\n",
        "      b.append(i)\n",
        "  except:\n",
        "    pass\n",
        "print(b)"
      ],
      "metadata": {
        "colab": {
          "base_uri": "https://localhost:8080/"
        },
        "id": "aWGxdkxKuXNk",
        "outputId": "2681a23a-f0fe-4a07-d436-9d13f0b72e4d"
      },
      "execution_count": 58,
      "outputs": [
        {
          "output_type": "stream",
          "name": "stdout",
          "text": [
            "['CHEV', 'CHRY', 'CADI', 'COLLI', 'CHE', 'CATER', 'CHEVROLET', 'COOP', 'CAT', 'colli', 'CHEVY', 'CORBE SAV', 'COMM TRL', 'Colli', 'CHEVROLET EXPRESS', 'CHEVROLET VAN', 'COLLING BUSES', 'COACH', 'chevy', 'chevr', 'COLLINS BUS', 'cub cadet', 'CASE', 'CANA', 'CATE', 'cobre', 'CA', 'CL/CA', 'CHEVROLET EXPRESS YELLOW SUBURBAN', 'CITY BUS', 'courier', 'CATERPILLAR', 'Coli', 'CHRYSLER', 'CAMPA', 'CHEC', 'COMMERCIAL TRUCK', 'CUB CADET', 'CHANGZH64 YAMASAKI', 'CARGO', 'CHEVR', 'cimc', 'Chevrolet', 'Cater', 'ceagrave', 'COURIER', 'cat', 'CHERVOLET', 'cox', 'CAM', 'COLLINS', 'crgm', 'CHAMPION', 'CHEVROLET EXP', 'Chevy', 'Cub cadet', 'CORN PRO TRAILER', 'CFMOT', 'COMMERCIAL CARRIERS MFG INC', 'CIMC', 'Cimc', 'corbe', 'Collins', 'CHEVY EXPRESS', 'CON ED EMERGENCY TRUCK', 'cater', 'COR', 'cottag', 'chevrolet', 'CAT325 EXCAVATER', 'CAMION', 'cak', 'curra', 'cam', 'Corbe', 'CUTAW', 'COLLI BUS', 'currahee', 'ca/am', 'COM', 'canam', 'CTRA TRAILER', 'CITR', 'collins', 'Courier', 'Coll', 'carr', 'CARR', 'CLEEN', 'CIT', 'CIRBI', 'Cronk', 'CARRIER', 'COMPACT SKID STEER LOADER MODEL', 'CHRIS.', 'COLL', 'Cat', 'COMM TRUCK', 'chrysler', 'CORBE', 'CODIL', 'coda', 'CAN AM', 'CITY INVOLVED SANITATION TRUCK', 'case', 'chevrolet commercial van', 'COBRA', 'CUB CADET INTERNATIONAL HARVESTER', 'CANAM', 'CASE 890', 'CASCADIA', 'CARRY TRAILER', 'commercial truck', 'Chevr', 'CBE TRUCK', 'COTTRELL', 'CHANGZHOU YAMASAKI MOTORCYCLE', 'CLARK TRAILERS', 'Cottrell', 'Caio', 'CANY', 'CA/ON', 'changzhou yamasaki', 'Cub Cadet', 'COOMERICAL', 'COTT', 'COLLINS BUS EXP', 'CON ED UTILITY TRUCK', 'cheverleot', 'CMIX WH', 'CASE (J.I. CO)', 'COTTR', 'CAB CADET', 'city bus', 'COLLINS SCHOOL BUS', 'Cadillac', 'colli bus', 'CADILLAC', 'CROS', 'Cutaw', 'C3', 'CHEVEROLET', 'CRBN', 'Cott', 'CLD', 'cascadia', 'CATERPILLAR TRACTOR', 'CARTER', 'Carm', 'chevrolet van', 'cole', 'CAGIV', 'CGRAVE TRUCK', 'coach', 'CONTI', 'CONVERTABLE', 'CO', 'C GRAVE', 'CURRA', 'chass', 'COMMERCIAL', 'COLL.', 'CORBE XXX (OMNIBUS)', 'CHEVY VAN', 'Construction truck', 'CR/CA', 'Cam', 'CLARK', 'caterpillar', 'Champ', 'Carrier', 'chrystler', 'CX45', 'CATERPILLER', 'CONTINENTAL', 'CAYMAN', 'CUBCADET', 'Chevolet', 'CONT EQ', 'CON', 'cmix', 'COMM', 'CAT PAYLOADER', 'CIRJ', 'CT', 'COT', 'COURIER BUS', 'cana', 'cate', 'CAMP TRAILER', 'CHEV. GULF', 'COMMERCIAL VAN', 'cott carhaul', 'CHEVROVELT', 'Colli Bus', 'CAMRY', 'Chevr bus', 'CROWN, FORKLIFT', 'collins bus', 'COLLINs', 'columbia', 'collie', 'CLEVE', 'Cbg bus', 'cross flat', 'campa', 'CHAMP BUS', 'Carry', 'Coach Craft, INC', 'CUSHMAN', 'CHEVY SILVERADO', 'CARRIERS', 'CITROEN', 'colemamn', 'chevy express', 'Chevy express', 'CAMPAGNA MOTO SPORT', 'cvevrolet', 'comm', 'CNG TRANSIT', 'CHEVROLET AVALACHE', 'CMT MANUFACT', 'cany', 'COIN', 'caterpila', 'CAPAC', 'COTL', 'COLUMBIA', 'collin', 'COMMERCIAL VEHICLE', 'CC', 'Collision bus', 'CHINESE GENERIC', 'cadil', 'Changzhou Yamasaki Motorcycle Co', 'CADIL', 'CHEVORLET', 'Chevorlet', 'CHANGZHOU YAMASAKI MOTORCYCLE CO. LTD.', 'CHANGZHOU YAMASAKI']\n"
          ]
        }
      ]
    },
    {
      "cell_type": "markdown",
      "source": [
        "##**Different ways in which the vehicle make is represented within the VEHICLE_MAKE column**"
      ],
      "metadata": {
        "id": "cien39ds-dPZ"
      }
    },
    {
      "cell_type": "code",
      "source": [
        "\"\"\"\n",
        "'TOYT' = 'TOYOTA', 'toyota', 'TOY', 'TOYOTA FORKLIFT', 'TOYOTA PRIUS'\n",
        "'SUBA' =  'SUBAR','subaru'\n",
        "'CADI' = 'Cadillac','CADIL', 'cadil', \n",
        "'GMC' = 'GM', 'gmc', 'GMC9', 'Gmc', 'GMC 999', 'GMC TANK',\n",
        "'DODGE' = 'DODG','DOGE', 'DOD', 'dodge', 'DONGE', 'Dodge RAM', \n",
        "'SUBN' = ''TRANS SUBN', 'subn', 'SUBN', 'suburban'\n",
        "'DUCATI' = 'DUCA', 'ducati',  \n",
        "'TESLA' = 'TESL'\n",
        "'ISUZU'= 'ISU', 'IS', 'IZUZU', 'isu', 'isuzu', 'IZU', \n",
        "'MERZ' = 'MERCEDEZ BENZ', 'MER', 'mercedes benz', 'MERCEDES BENZ', 'Mercedes Benz', 'MERCE','MERCEDES', 'MERCDES BENZ', 'me/benz', \n",
        "'ORION' = 'orion', 'Orio', 'Orion', 'OPION', 'ORIN', 'ORIO', 'ORION/OMNIBUS', 'ORION NONTRANSFERABLE', 'ORION ONTARIO BUS', 'orion mta bus', 'ORION BUS', \n",
        "'FREIGHTLINER' = 'freightliner', 'freig', 'frht', 'FRH', 'FREIGHT', 'FREIG', 'FREIGHLINER', 'freight', 'Frht', 'frtl', 'FREIGHTLINER CORP. 999', 'FLINER', 'FREI',\n",
        "                 'FREIGHT LINER', 'Freig', 'Freightliner', 'freight liner', 'FRIEGHT', 'FRHT', 'FRIG', 'FRIEG', 'freighliner', 'freight liner corp', 'FREIGHTLINER CORP',\n",
        "                 'freightline', 'FRIEGHTLINER CORP', 'frgh', 'Freigh', 'FRGH', 'Frt', 'frieghtliner corp', 'FRIGHT', 'FREIGHTLINE', 'frt', 'FRTL', 'FRIEGHT LINER', 'Frei',\n",
        "                 'FR/LT', 'Freightleiner', 'FREIG TRUCK', 'freightlnr', 'friegthliner', 'freigh', 'freightliner truck m2 106','Fr/Li',  'FRIGHTLINER', 'Freightliner truck',\n",
        "                 'frieght', 'frieghtliner', 'Freightliner Bus', 'FREIGHTLINER CORP. 999, 'Freightline', 'FREIGHTLINER VAN TRUCK', 'Freightliner Corp', 'Fright liner',\n",
        "                 'FREIGHTLINER CORP.', 'freihtliner', 'freightliner corp', 'FREIGHTLINER CORP. 999, GREEN DUMP TRUCK'\n",
        "'AMBULANCE' = 'ambulance', 'Ambulance','ford ambulance', 'AMBU WH/RD', 'FORD AMBULANCE', 'Fdny Ems ambulance', 'AMBU', 'Ford AMBU', 'FDNY ambulance', 'FDNY AMBULANCE', 'AMB'\n",
        "'YAMAHA' = 'YAMA', 'YAMAHA', 'yamah', 'Yamaha'\n",
        "'NE/FL' = 'ne/fl', 'NE /FL', 'NE/F', 'newfl', 'NEWFL', 'NFLY', 'new flyer', 'newflyer', 'Newfl', 'Ne/fl', 'NEWFLYER', 'Ne fl', 'NE FL', 'NEW FLYER (OMNIBUS)', 'NE\\\\FL',\n",
        "          'NEW FLYER, WHITE BLUE BUS(OMNIBUS)', \n",
        "'INTL' = 'intl'\n",
        "'REVEL' = 'Revel', 'revel', 'REVEL LANDEY'\n",
        "'KIA' = 'Kia',\n",
        "'RAM' = 'ram', 'Ram', 'RAM 550','RAMS'\n",
        "'HUMMER' = 'HUMM',\n",
        "'UNKNOWN' = 'UNKOWN', 'unk', 'Unknown', '-CAR/SU', 'UKN', 'unk.', 'unknown', 'UNKN', \n",
        "'MACK' = 'mack', 'Mack', 'Mac', 'MACK DUMP TRUCK', 'MACK TRUCKS', 'mack truck', 'MIC', 'mac', 'MACK DUMP', 'Mack Truck', 'MACK TRUCK 999', 'mack trucks', 'MACK TRUCK',\n",
        "         'mack dumptruck', 'MACK TRUCKS, INC.', 'Mac trailer', \n",
        "'HYUNDAI' = 'HYU', 'HYUN', 'Hyundai', \n",
        "'HINO' = 'hino', 'Hino', 'Hin', 'HINDO', 'HINO FLAT', 'HINO ND', 'HINO 999', 'HINO TRUCK', \n",
        "\"\"\""
      ],
      "metadata": {
        "colab": {
          "base_uri": "https://localhost:8080/",
          "height": 123
        },
        "id": "IhNG4x26PWqp",
        "outputId": "c591c181-96c8-4353-beb3-825a8ef81506"
      },
      "execution_count": 59,
      "outputs": [
        {
          "output_type": "execute_result",
          "data": {
            "text/plain": [
              "\"\\n'TOYT' = 'TOYOTA', 'toyota', 'TOY', 'TOYOTA FORKLIFT', 'TOYOTA PRIUS'\\n'SUBA' =  'SUBAR','subaru'\\n'CADI' = 'Cadillac','CADIL', 'cadil', \\n'GMC' = 'GM', 'gmc', 'GMC9', 'Gmc', 'GMC 999', 'GMC TANK',\\n'DODGE' = 'DODG','DOGE', 'DOD', 'dodge', 'DONGE', 'Dodge RAM', \\n'SUBN' = ''TRANS SUBN', 'subn', 'SUBN', 'suburban'\\n'DUCATI' = 'DUCA', 'ducati',  \\n'TESLA' = 'TESL'\\n'ISUZU'= 'ISU', 'IS', 'IZUZU', 'isu', 'isuzu', 'IZU', \\n'MERZ' = 'MERCEDEZ BENZ', 'MER', 'mercedes benz', 'MERCEDES BENZ', 'Mercedes Benz', 'MERCE','MERCEDES', 'MERCDES BENZ', 'me/benz', \\n'ORION' = 'orion', 'Orio', 'Orion', 'OPION', 'ORIN', 'ORIO', 'ORION/OMNIBUS', 'ORION NONTRANSFERABLE', 'ORION ONTARIO BUS', 'orion mta bus', 'ORION BUS', \\n'FREIGHTLINER' = 'freightliner', 'freig', 'frht', 'FRH', 'FREIGHT', 'FREIG', 'FREIGHLINER', 'freight', 'Frht', 'frtl', 'FREIGHTLINER CORP. 999', 'FLINER', 'FREI',\\n                 'FREIGHT LINER', 'Freig', 'Freightliner', 'freight liner', 'FRIEGHT', 'FRHT', 'FRIG', 'FRIEG', 'freighliner', 'freight liner corp', 'FREIGHTLINER CORP',\\n                 'freightline', 'FRIEGHTLINER CORP', 'frgh', 'Freigh', 'FRGH', 'Frt', 'frieghtliner corp', 'FRIGHT', 'FREIGHTLINE', 'frt', 'FRTL', 'FRIEGHT LINER', 'Frei',\\n                 'FR/LT', 'Freightleiner', 'FREIG TRUCK', 'freightlnr', 'friegthliner', 'freigh', 'freightliner truck m2 106','Fr/Li',  'FRIGHTLINER', 'Freightliner truck',\\n                 'frieght', 'frieghtliner', 'Freightliner Bus', 'FREIGHTLINER CORP. 999, 'Freightline', 'FREIGHTLINER VAN TRUCK', 'Freightliner Corp', 'Fright liner',\\n                 'FREIGHTLINER CORP.', 'freihtliner', 'freightliner corp', 'FREIGHTLINER CORP. 999, GREEN DUMP TRUCK'\\n'AMBULANCE' = 'ambulance', 'Ambulance','ford ambulance', 'AMBU WH/RD', 'FORD AMBULANCE', 'Fdny Ems ambulance', 'AMBU', 'Ford AMBU', 'FDNY ambulance', 'FDNY AMBULANCE', 'AMB'\\n'YAMAHA' = 'YAMA', 'YAMAHA', 'yamah', 'Yamaha'\\n'NE/FL' = 'ne/fl', 'NE /FL', 'NE/F', 'newfl', 'NEWFL', 'NFLY', 'new flyer', 'newflyer', 'Newfl', 'Ne/fl', 'NEWFLYER', 'Ne fl', 'NE FL', 'NEW FLYER (OMNIBUS)', 'NE\\\\FL',\\n          'NEW FLYER, WHITE BLUE BUS(OMNIBUS)', \\n'INTL' = 'intl'\\n'REVEL' = 'Revel', 'revel', 'REVEL LANDEY'\\n'KIA' = 'Kia',\\n'RAM' = 'ram', 'Ram', 'RAM 550','RAMS'\\n'HUMMER' = 'HUMM',\\n'UNKNOWN' = 'UNKOWN', 'unk', 'Unknown', '-CAR/SU', 'UKN', 'unk.', 'unknown', 'UNKN', \\n'MACK' = 'mack', 'Mack', 'Mac', 'MACK DUMP TRUCK', 'MACK TRUCKS', 'mack truck', 'MIC', 'mac', 'MACK DUMP', 'Mack Truck', 'MACK TRUCK 999', 'mack trucks', 'MACK TRUCK',\\n         'mack dumptruck', 'MACK TRUCKS, INC.', 'Mac trailer', \\n'HYUNDAI' = 'HYU', 'HYUN', 'Hyundai', \\n'HINO' = 'hino', 'Hino', 'Hin', 'HINDO', 'HINO FLAT', 'HINO ND', 'HINO 999', 'HINO TRUCK', \\n\""
            ],
            "application/vnd.google.colaboratory.intrinsic+json": {
              "type": "string"
            }
          },
          "metadata": {},
          "execution_count": 59
        }
      ]
    },
    {
      "cell_type": "markdown",
      "source": [
        "##Vehicle make is represented by different name for the same maker. Inorder to properly analyze the data we have to change all the similar values to their group. We will be replacing the errors of the vehicle make of TOYT, CADI, SUBA, GMC to their original forms for analysis."
      ],
      "metadata": {
        "id": "RiROeUR-3OIa"
      }
    },
    {
      "cell_type": "code",
      "source": [
        "# Correcting the mistakes of VEHICLE_MAKE -- TOYT\n",
        "data['VEHICLE_MAKE'] = data['VEHICLE_MAKE'].replace(['TOYOTA', 'toyota', 'TOY', 'TOYOTA FORKLIFT', 'TOYOTA PRIUS'],'TOYT')"
      ],
      "metadata": {
        "id": "yLzl9tUKRnBI"
      },
      "execution_count": 60,
      "outputs": []
    },
    {
      "cell_type": "code",
      "source": [
        "# Correcting the mistakes of VEHICLE_MAKE -- SUBA and HYUNDAI\n",
        "data['VEHICLE_MAKE'] = data['VEHICLE_MAKE'].replace(['SUBAR','subaru', 'HYU', 'HYUN', 'Hyundai'],['SUBA','SUBA', 'HYUNDAI', 'HYUNDAI', 'HYUNDAI'])"
      ],
      "metadata": {
        "id": "RSrs_hQTrJkz"
      },
      "execution_count": 61,
      "outputs": []
    },
    {
      "cell_type": "code",
      "source": [
        "# Correcting the mistakes of VEHICLE_MAKE -- CADI and DODGE\n",
        "data['VEHICLE_MAKE'] = data['VEHICLE_MAKE'].replace(['Cadillac','CADIL', 'cadil', 'DODG','DOGE', 'DOD', 'dodge', 'DONGE', 'Dodge RAM'],['CADI', 'CADI', 'CADI', 'DODGE','DODGE','DODGE','DODGE','DODGE','DODGE'])"
      ],
      "metadata": {
        "id": "UCXTN3njr10G"
      },
      "execution_count": 62,
      "outputs": []
    },
    {
      "cell_type": "code",
      "source": [
        "# Correcting the mistakes of VEHICLE_MAKE -- GMC\n",
        "data['VEHICLE_MAKE'] = data['VEHICLE_MAKE'].replace(['GM', 'gmc', 'GMC9', 'Gmc', 'GMC 999', 'GMC TANK'],'GMC')"
      ],
      "metadata": {
        "id": "Bv-EDBJFr-aE"
      },
      "execution_count": 63,
      "outputs": []
    },
    {
      "cell_type": "code",
      "source": [
        "data['VEHICLE_MAKE'].value_counts()\n",
        "# We will also be correcting the mistakes of HONDA, NISSAN, FORD and CHEVROLET too as majority of the accidents happened by these vehicles."
      ],
      "metadata": {
        "colab": {
          "base_uri": "https://localhost:8080/"
        },
        "id": "WVjOzRJw97jE",
        "outputId": "4e619909-4f19-47da-c6fa-27ee20261644"
      },
      "execution_count": 64,
      "outputs": [
        {
          "output_type": "execute_result",
          "data": {
            "text/plain": [
              "TOYT                      115668\n",
              "HOND                       81999\n",
              "NISS                       68071\n",
              "FORD                       54357\n",
              "CHEV                       31072\n",
              "                           ...  \n",
              "Gdan                           1\n",
              "harley davison                 1\n",
              "REGINAL BUS OPERATIONS         1\n",
              "fdny truck                     1\n",
              "SEAGRAVE TOWERLADDER           1\n",
              "Name: VEHICLE_MAKE, Length: 3643, dtype: int64"
            ]
          },
          "metadata": {},
          "execution_count": 64
        }
      ]
    },
    {
      "cell_type": "markdown",
      "source": [
        "##Different Ways in which the VEHICLE MAKE 'HONDA', 'NISSAN', 'FORD', 'CHEVROLET' are represented in the data."
      ],
      "metadata": {
        "id": "cxvLPrOKAUVX"
      }
    },
    {
      "cell_type": "code",
      "source": [
        "\"\"\"\n",
        "'HONDA' = 'HOND', 'honda', 'Honda 250', 'Honda'\n",
        "'NISSAN'= 'NISS','NIS', 'NISSAN','NISSIAN ZX6K', \n",
        "          'Nissan', 'UD / NISSAN', 'NISSAN DIESEL MOTOR',\n",
        "          'NISSIAN','NISSAN DIESEL MOTOR VAN','Nissan Diesal Motor',\n",
        "          'NISSAM N 20','nissan', 'NISSAN DIESEL MOTOR COMPANY','nissa'\n",
        "'FORD' =  'FOR', 'Ford', 'ford', 'FORD F450', 'FORD CEMENT TRUCK',\n",
        "          'FORD EC2', 'FORD XXX', 'FORD 550', 'FORD E350', 'FORD WAGON', \n",
        "          'FORD UTILITY','FORD SUBN','ford econoline ambulance','FoRD',\n",
        "          'FORD/AMBULANCE','ford van','ford transit', 'Ford ambulance', \n",
        "          'Ford Transit', 'FORD RANGER', 'FORD DUMP TRUCK',\n",
        "          'FORD AMBU', 'Ford van', 'ford f550 fdny nys ambulance', \n",
        "          'Ford dump truck', 'FORD WHITE VAN','FORD TCN', 'FORD ECONOLINE',\n",
        "          'Ford Taxi', 'FORD USPS2TON', 'Ford FDNY Ambulance', 'FORDA', \n",
        "          'FORD / TRANSIT CONNECT', 'Ford EC3', 'FPRD', 'FORDAMBULANCE', 'FORD EC2'\n",
        "'CHEVROLET' = 'CHEV', 'CHE', 'CHEVY', 'CHEVROLET EXPRESS', 'CHEVROLET VAN', 'chevy', \n",
        "              'chevr', 'CHEVROLET EXPRESS YELLOW SUBURBAN', 'CHEVR', 'Chevrolet',\n",
        "              'CHERVOLET', 'CHEVROLET EXP', 'CHEVY EXPRESS', 'chevrolet',\n",
        "              'chevrolet commercial van', 'cheverleot', 'CHEVEROLET', 'chevrolet van', \n",
        "              'CHEVY VAN', 'Chevolet', 'CHEV. GULF', 'CHEVROVELT', 'Chevr bus', 'CHEVY SILVERADO', \n",
        "              'chevy express', 'Chevy express', 'cvevrolet', 'CHEVROLET AVALACHE', 'CHEVORLET', 'Chevorlet' \n",
        "\"\"\""
      ],
      "metadata": {
        "colab": {
          "base_uri": "https://localhost:8080/",
          "height": 123
        },
        "id": "o94SHEB4-E8u",
        "outputId": "2b43e8c1-4191-4b7a-f831-f9c49bf1654e"
      },
      "execution_count": 65,
      "outputs": [
        {
          "output_type": "execute_result",
          "data": {
            "text/plain": [
              "\"\\n'HONDA' = 'HOND', 'honda', 'Honda 250', 'Honda'\\n'NISSAN'= 'NISS','NIS', 'NISSAN','NISSIAN ZX6K', \\n          'Nissan', 'UD / NISSAN', 'NISSAN DIESEL MOTOR',\\n          'NISSIAN','NISSAN DIESEL MOTOR VAN','Nissan Diesal Motor',\\n          'NISSAM N 20','nissan', 'NISSAN DIESEL MOTOR COMPANY','nissa'\\n'FORD' =  'FOR', 'Ford', 'ford', 'FORD F450', 'FORD CEMENT TRUCK',\\n          'FORD EC2', 'FORD XXX', 'FORD 550', 'FORD E350', 'FORD WAGON', \\n          'FORD UTILITY','FORD SUBN','ford econoline ambulance','FoRD',\\n          'FORD/AMBULANCE','ford van','ford transit', 'Ford ambulance', \\n          'Ford Transit', 'FORD RANGER', 'FORD DUMP TRUCK',\\n          'FORD AMBU', 'Ford van', 'ford f550 fdny nys ambulance', \\n          'Ford dump truck', 'FORD WHITE VAN','FORD TCN', 'FORD ECONOLINE',\\n          'Ford Taxi', 'FORD USPS2TON', 'Ford FDNY Ambulance', 'FORDA', \\n          'FORD / TRANSIT CONNECT', 'Ford EC3', 'FPRD', 'FORDAMBULANCE', 'FORD EC2'\\n'CHEVROLET' = 'CHEV', 'CHE', 'CHEVY', 'CHEVROLET EXPRESS', 'CHEVROLET VAN', 'chevy', \\n              'chevr', 'CHEVROLET EXPRESS YELLOW SUBURBAN', 'CHEVR', 'Chevrolet',\\n              'CHERVOLET', 'CHEVROLET EXP', 'CHEVY EXPRESS', 'chevrolet',\\n              'chevrolet commercial van', 'cheverleot', 'CHEVEROLET', 'chevrolet van', \\n              'CHEVY VAN', 'Chevolet', 'CHEV. GULF', 'CHEVROVELT', 'Chevr bus', 'CHEVY SILVERADO', \\n              'chevy express', 'Chevy express', 'cvevrolet', 'CHEVROLET AVALACHE', 'CHEVORLET', 'Chevorlet' \\n\""
            ],
            "application/vnd.google.colaboratory.intrinsic+json": {
              "type": "string"
            }
          },
          "metadata": {},
          "execution_count": 65
        }
      ]
    },
    {
      "cell_type": "code",
      "source": [
        "#Replacing the errors for HONDA\n",
        "data['VEHICLE_MAKE'] = data['VEHICLE_MAKE'].replace(['HOND', 'honda', 'Honda 250', 'Honda'],'HONDA')\n"
      ],
      "metadata": {
        "id": "Z13EC2-l_Bc0"
      },
      "execution_count": 66,
      "outputs": []
    },
    {
      "cell_type": "code",
      "source": [
        "#Replacing the errors for NISSAN\n",
        "data['VEHICLE_MAKE'] = data['VEHICLE_MAKE'].replace(['NISS','NIS', 'NISSAN','NISSIAN ZX6K', \n",
        "                                                     'Nissan', 'UD / NISSAN', 'NISSAN DIESEL MOTOR',\n",
        "                                                     'NISSIAN','NISSAN DIESEL MOTOR VAN','Nissan Diesal Motor',\n",
        "                                                     'NISSAM N 20','nissan', 'NISSAN DIESEL MOTOR COMPANY','nissa'],'NISSAN')"
      ],
      "metadata": {
        "id": "OI0aI9ve_MZ6"
      },
      "execution_count": 67,
      "outputs": []
    },
    {
      "cell_type": "code",
      "source": [
        "#Replacing the errors for FORD\n",
        "data['VEHICLE_MAKE'] = data['VEHICLE_MAKE'].replace(['FOR', 'Ford', 'ford', 'FORD F450', 'FORD CEMENT TRUCK',\n",
        "                                                     'FORD EC2', 'FORD XXX', 'FORD 550', 'FORD E350', 'FORD WAGON', \n",
        "                                                     'FORD UTILITY','FORD SUBN','ford econoline ambulance','FoRD',\n",
        "                                                     'FORD/AMBULANCE','ford van','ford transit', 'Ford ambulance', \n",
        "                                                     'Ford Transit', 'FORD RANGER', 'FORD DUMP TRUCK',\n",
        "                                                     'FORD AMBU', 'Ford van', 'ford f550 fdny nys ambulance', \n",
        "                                                     'Ford dump truck', 'FORD WHITE VAN','FORD TCN', 'FORD ECONOLINE',\n",
        "                                                     'Ford Taxi', 'FORD USPS2TON', 'Ford FDNY Ambulance', 'FORDA', \n",
        "                                                     'FORD / TRANSIT CONNECT', 'Ford EC3', 'FPRD', 'FORDAMBULANCE', 'FORD EC2'],'FORD')"
      ],
      "metadata": {
        "id": "dBAT0onj_wCi"
      },
      "execution_count": 68,
      "outputs": []
    },
    {
      "cell_type": "code",
      "source": [
        "#Replacing the errors for CHEVROLET\n",
        "data['VEHICLE_MAKE'] = data['VEHICLE_MAKE'].replace(['CHEV', 'CHE', 'CHEVY', 'CHEVROLET EXPRESS', 'CHEVROLET VAN', 'chevy', \n",
        "                                                     'chevr', 'CHEVROLET EXPRESS YELLOW SUBURBAN', 'CHEVR', 'Chevrolet',\n",
        "                                                     'CHERVOLET', 'CHEVROLET EXP', 'CHEVY EXPRESS', 'chevrolet','chevrolet commercial van', \n",
        "                                                     'cheverleot', 'CHEVEROLET', 'chevrolet van', 'CHEVY VAN', 'Chevolet', 'CHEV. GULF', \n",
        "                                                     'CHEVROVELT', 'Chevr bus', 'CHEVY SILVERADO', 'chevy express', 'Chevy express', 'cvevrolet', \n",
        "                                                     'CHEVROLET AVALACHE', 'CHEVORLET', 'Chevorlet'],'CHEVROLET')"
      ],
      "metadata": {
        "id": "97XbZX9OALvx"
      },
      "execution_count": 69,
      "outputs": []
    },
    {
      "cell_type": "code",
      "source": [
        "data['VEHICLE_MAKE'].value_counts()\n",
        "# We can see the difference in each of Vehicle make frequency."
      ],
      "metadata": {
        "colab": {
          "base_uri": "https://localhost:8080/"
        },
        "id": "Snl33I0Z_PGx",
        "outputId": "978e3f6a-849b-464b-d9d6-b30af37a40f8"
      },
      "execution_count": 70,
      "outputs": [
        {
          "output_type": "execute_result",
          "data": {
            "text/plain": [
              "TOYT                      115668\n",
              "HONDA                      82025\n",
              "NISSAN                     68321\n",
              "FORD                       61437\n",
              "CHEVROLET                  32690\n",
              "                           ...  \n",
              "M2106                          1\n",
              "Gdan                           1\n",
              "harley davison                 1\n",
              "REGINAL BUS OPERATIONS         1\n",
              "SEAGRAVE TOWERLADDER           1\n",
              "Name: VEHICLE_MAKE, Length: 3560, dtype: int64"
            ]
          },
          "metadata": {},
          "execution_count": 70
        }
      ]
    },
    {
      "cell_type": "markdown",
      "source": [
        "#**Pre processing for VEHICLE_TYPE Column**"
      ],
      "metadata": {
        "id": "SOJuempyB1fr"
      }
    },
    {
      "cell_type": "markdown",
      "source": [
        "##Several cleaning is to be done for Vehicle type, since same Vehicle type is represented in different ways."
      ],
      "metadata": {
        "id": "4KrLgi7HtKNs"
      }
    },
    {
      "cell_type": "code",
      "source": [
        "data['VEHICLE_TYPE'].value_counts()\n",
        "# There are huge no of different values we need to categorize this into 10 different types."
      ],
      "metadata": {
        "colab": {
          "base_uri": "https://localhost:8080/"
        },
        "id": "1gShUziHYXiU",
        "outputId": "dc946631-2274-4041-d634-e42381089e05"
      },
      "execution_count": 71,
      "outputs": [
        {
          "output_type": "execute_result",
          "data": {
            "text/plain": [
              "Sedan                                  296310\n",
              "Station Wagon/Sport Utility Vehicle    247628\n",
              "Taxi                                    29050\n",
              "Pick-up Truck                           20214\n",
              "Box Truck                               14148\n",
              "                                        ...  \n",
              "35 FT                                       1\n",
              "TOWIN                                       1\n",
              "VERIZ                                       1\n",
              "posta                                       1\n",
              "ROAD SWEEE                                  1\n",
              "Name: VEHICLE_TYPE, Length: 741, dtype: int64"
            ]
          },
          "metadata": {},
          "execution_count": 71
        }
      ]
    },
    {
      "cell_type": "code",
      "source": [
        "data['VEHICLE_TYPE'].unique()"
      ],
      "metadata": {
        "colab": {
          "base_uri": "https://localhost:8080/"
        },
        "id": "Uiy2r47BFvOx",
        "outputId": "70a60321-3674-4c44-997e-a163be1dc0e4"
      },
      "execution_count": 72,
      "outputs": [
        {
          "output_type": "execute_result",
          "data": {
            "text/plain": [
              "array(['Station Wagon/Sport Utility Vehicle', 'Bus', 'Sedan',\n",
              "       '4 dr sedan', 'Box Truck', 'Taxi', 'School Bus', 'Pick-up Truck',\n",
              "       'Motorcycle', 'Flat Bed', 'Van', 'Dump', 'Convertible',\n",
              "       'Tractor Truck Diesel', 'Carry All', 'Refrigerated Van', 'PSH',\n",
              "       'COM', 'AMBULANCE', 'Garbage or Refuse', 'trail',\n",
              "       'Tow Truck / Wrecker', 'BACKH', 'Armored Truck', 'PK', 'Motorbike',\n",
              "       'Ambulance', 'E-Scooter', 'DUMP', 'TRAC', 'Beverage Truck',\n",
              "       'FIRETRUCK', 'VAN/TRANSI', 'Moped', 'Tractor Truck Gasoline',\n",
              "       'Multi-Wheeled Vehicle', 'E-Bike', 'Tanker', 'Motorscooter',\n",
              "       'Concrete Mixer', 'TRAILOR', 'CAT', 'motorcycle', 'TRAILER',\n",
              "       'ICE CREAM', 'CARGO VAN', 'Minicycle', 'Lift Boom', 'USPS',\n",
              "       'gator', 'Snow Plow', 'TRLR', 'van', 'FRE T', 'UTILI', 'MAC T',\n",
              "       'TRAIL', 'AMBUL', 'E-Bik', 'EMS B', 'SPRIN', 'FEDER', 'Trailer',\n",
              "       'Crane', 'E-Sco', 'Chassis Cab', 'FORD', 'Flat Rack', '3-Door',\n",
              "       'FIRE', 'LIMO', 'Subn', 'SCHOO', 'bus', 'AMBU', 'Open Body',\n",
              "       'Tract', 'MOPED', 'Stake or Rack', 'Bulk Agriculture', 'fdny',\n",
              "       '35 FT', 'VERIZ', 'TRUCK', 'White', 'armor', 'ambulance', 'Semi-',\n",
              "       'E350', 'Tow Truck', 'TRK', 'tr', 'HINO', 'schoo', 'semi', 'CASE',\n",
              "       'JOHN', 'AMB', 'TRACK', 'TOW T', 'REFG', 'frieg', 'P/SH',\n",
              "       'FIRE TRUCK', 'IP', 'Hopper', 'tour', 'TRACT', 'pas', 'Unkno',\n",
              "       'FEDEX', 'GLBEN', 'mail', 'mack', 'GARBA', 'UTIL', 'ROADS', 'RV',\n",
              "       'YELLO', 'Bike', 'ambul', 'Jeep', 'garba', 'Motorized Home',\n",
              "       'Forkl', 'DELIV', 'COMME', 'SANIT', 'NYPD', 'Trail', 'SUBUR',\n",
              "       'FDNY', 'Box T', 'UT', 'SELF', 'PASSE', 'power', 'US Po', 'Ambul',\n",
              "       'NYC F', 'SMART', 'subn', 'Tow t', 'STREE', 'Tow', 'FDNY AMBUL',\n",
              "       'BULLD', 'SCOOT', 'Train', 'LIMOU', 'PICKU', 'PAS', 'POWER',\n",
              "       'STAK', 'NYS A', 'Livestock Rack', 'hrse', 'COMMERCIAL', 'TOWER',\n",
              "       'nyc f', 'Fire', 'front', 'van t', 'OMS', '\\x7fomm', 'BOX T', 'C1',\n",
              "       'ambu', 'Tow T', '38AB-', 'Deliv', 'Pallet', 'GARAB', 'tract',\n",
              "       'other', 'E BIK', 'MOBILE', 'Comme', 'comme', 'Road', 'VAN T',\n",
              "       'box', 'moped', 'DELV', 'sprin', 'FIRET', 'RD/S', 'deliv', 'SUV',\n",
              "       'FRONT', 'DUMPT', 'ICE C', 'Refri', 'UHAUL', 'D1', 'WORKH',\n",
              "       'tow t', 'Pedicab', 'Fire Truck', 'TOWTR', 'TANK', 'CRANE',\n",
              "       'box t', 'Van Camper', 'utili', 'SKID', 'OMR', 'BOB C', 'WHITE',\n",
              "       'dumps', 'Grain', '3 WHE', 'Mta', 'E-SCOOTER', 'track', 'Pickup',\n",
              "       'comm', 'Garba', 'VAN A', 'EMS A', 'CARGO', 'elect', 'CHEVY EXPR',\n",
              "       'TANKE', 'back', 'CMIX', 'Lunch Wagon', 'BoxTr', 'CAT32', 'Delv',\n",
              "       'trailer', 'Vanette', 'HAUL FOR H', 'SPC', 'MTA B', 'COM.',\n",
              "       'cater', 'truck', 'Well Driller', 'FLATB',\n",
              "       'Pickup with mounted Camper', 'road', 'Box t', 'Minibike',\n",
              "       'FDNY ENGIN', 'Enclosed Body - Removable Enclosure', 'Freig', 'ND',\n",
              "       'UNKNO', 'trac', 'work', '2015', 'J1', 'NV CA', 'FORKL', 'conv',\n",
              "       'Comix', 'WASTE', 'FLAT/', 'COMM', 'Utili', 'E - B', '52? t',\n",
              "       'SAFET', '12 Pa', '2 dr sedan', 'LMB', 'FRIEG', 'LTR', 'VMS T',\n",
              "       'Firet', 'SE', 'Elect', 'NAVIG', 'BS', 'TRL', 'excav', 'TIR',\n",
              "       'stree', 'AMBULENCE', 'trailor', 'flatb', 'CONST', 'MAIL', 'TRANS',\n",
              "       'FLAT', 'dump', \"GOV'T\", 'scava', 'santa', 'OML/', 'FORK', 'E250',\n",
              "       'WAGON', 'CAT.', 'MOPD', 'ROAD', 'Trl', 'Glass Rack', 'com',\n",
              "       'ARMOR', 'EXPRE', 'forklift', 'FDNY Engin', 'E SCO', 'BOBCAT FOR',\n",
              "       'FREIG', 'UNK', 'E REVEL SC', 'tow', 'mta b', 'Fd fi', 'Freight',\n",
              "       'Comm', 'COURI', 'Track', '72000', 'pick', 'UPS TRUCK', 'trl',\n",
              "       'BOOM', 'OMNIB', 'LIEBH', 'Van T', 'case', 'ELECT', 'TRT', 'US PO',\n",
              "       'fire truck', 'JLG L', 'Sanit', 'COMMU', 'wagon', 'EMRGN', 'E COM',\n",
              "       'BACK', 'FUEL', 'A', 'usps', 'Bucke', 'Rescu', 'ENCLO', 'FED E',\n",
              "       'tank', 'COMMERICAL', 'Cmix', 'Pick Truck', 'NYC D', 'g spc',\n",
              "       'TKP', 'prks', 'Pick', 'Sprin', 'F650', 'WORK', 'SEA', 'SEMI',\n",
              "       'CITY', 'INTER', 'BOX TRUCK', 'TOYOT', 'trlr', 'backh', 'firet',\n",
              "       'NYC', 'comm.', 'MOTOR', 'E-BIK', 'axo', 'RMP V', 'MAIL TRUCK',\n",
              "       'Van (', 'n\\\\a', 'e com', 'Scoot', 'BOX', 'U-Hau', 'Truck', 'RAM',\n",
              "       '16M', 'CMS-T', 'Food', 'rv', 'G COM', 'PKUP', 'Wh Ford co',\n",
              "       'commercial', 'MACK', 'ASTRO', 'City', 'MOVIN', 'ROAD SWEEP',\n",
              "       'TKTR', 'FLAT BED', 'Hrse', 'te', 'tk', 'Ambu', 'St', 'CHURC',\n",
              "       'CONCR', 'Tr', 'TRA/R', 'APURP', 'city', 'Mail', 'FREIGHTLIN',\n",
              "       'SWT', 'motor', 'posta', 'Schoo', 'TOWIN', 'Amb', 'MARK', 'DSNY',\n",
              "       'moter', 'Stree', 'Work', 'SKATE', 'POSTA', 'ARMY', 'PICK-',\n",
              "       'fork', 'APPOR', 'AMbul', 'Enclosed Body - Nonremovable Enclosure',\n",
              "       'NYCHA', 'SANITATION', 'DOLLY', 'vespa', 'POLIC', 'USPS2', 'U-TRU',\n",
              "       'SC', 'Trac', 'PASS', 'ken', 'CO', 'HORSE', 'fire', 'FRHT',\n",
              "       'crane', 'WINNE', 'NV150', 'REP', 'Motor Home', 'SEMI-', 'LTRL',\n",
              "       'Pas', 'Backh', 'CHEVY', 'sanit', 'acces', 'CATER', 'NTTRL', 'st',\n",
              "       'GATOR', 'Flat', 'OIL T', 'BLACK', 'VAV', 'rd/s', 'DOT T',\n",
              "       'Bucket Tru', 'Small', 'Liebh', 'speci', 'dp', 'mopd', 'CAMPE',\n",
              "       'c7c', 'const', 'Other', 'COUPE', 'S/SP', 'delv', 'Log', 'BUCKE',\n",
              "       'horse', 'Tractor', 'PEDIC', 'dsny', 'SELF-', 'rep', 'MOVING VAN',\n",
              "       'PSD', 'BK', 'van c', 'CONT', 'movin', 'E-SCO', 'BROOM', 'cate',\n",
              "       'PCH', 'CEMEN', 'VAN/T', 'van a', 'UTLL', 'nyc b', 'SWEEP', 'UNKN',\n",
              "       'conta', 'mecha', 'HARVE', 'POST', 'Const', 'RESCU', 'SUBN/',\n",
              "       'EXCAV', 'VESPA', 'NYC BUS', 'sedan', 'BTM', 'limo', 'COMER',\n",
              "       '18 WHEELER', 'bed', 'SANTI', 'EMS', 'D', 'PU', 'Attac', 'CAT P',\n",
              "       'picku', 'BROWN', 'TCR', 'wheel', 'DELVI', 'ECONO', 'L1', 'spec-',\n",
              "       'TRIM', 'EMT', 'GAS T', '2 HOR', 'FDNY EMS', 'escavator',\n",
              "       'SLINGSHOT', 'FDNY TRUCK', 'SPECIAL PU', 'unk', 'GARBAGE TR',\n",
              "       'TRACTOR', 'PICK UP', 'FORKLIFT', 'FRIEGHTLIN', 'FREIGHT FL',\n",
              "       'Firetruck', 'cross', 'PALFINGER', 'LIGHT TRAI', 'FDNY Ambul',\n",
              "       'government', 'suburban', 'dump truck', 'FDNY Truck', 'Front-Load',\n",
              "       'INTERNATIO', 'Pumper', 'TRUCK FLAT', 'Tractor tr', 'GENAMBUL',\n",
              "       'street cle', 'DELIVERY', '4dsd', 'FLATBED TR', 'JOHN DEERE',\n",
              "       'Dirt Bike', 'dilevery t', 'COURIER', 'PICKUP', 'STREET SWE',\n",
              "       'Work Van', 'uhaul truc', 'ford van', 'TRUCK VAN', 'AMAZON SPR',\n",
              "       'Postal Veh', 'box truck', '18 WEELER', 'Tow truck', 'Light trai',\n",
              "       'Tractor Tr', 'TR-Trailer', 'passenger', 'historical',\n",
              "       'PICKUP TRU', 'sanitation', 'MTA BUS', 'Golf Cart', 'food truck',\n",
              "       'Delivery', 'D/V WB', 'constructi', 'TOW TRUCK', 'UTIL WH',\n",
              "       'power shov', 'postal ser', 'BLU BUS', 'SCHOOLBUS', 'FDNY LADDE',\n",
              "       'E-BIKE', 'FDNY FIRE', 'omnibus', 'White ambu', 'BUs', 'TRANSPORT',\n",
              "       'SUBURBAN', 'bmw moped', 'LCOMM', 'DEPT VAN #', 'City MTA b',\n",
              "       'Road Sweep', 'TRANSIT VA', 'PICK RD', 'access a r', 'Horse Trai',\n",
              "       'US POSTAL', 'SEMI TRAIL', 'Piggy back', 'Utility', 'FDNY EMS V',\n",
              "       'Dump truck', 'FREIGHT TR', 'street swe', 'UTILITY', 'LCOM',\n",
              "       'USPS TRUCK', 'NYC DOT', 'TTRAILER', 'ESU RESCUE', 'tractor tr',\n",
              "       'SCHOOL BUS', 'FD TRUCK', 'Livery Omn', 'E450', 'pickup',\n",
              "       'delivery t', 'PICK-UP TR', 'tow trk', 'OMT', 'yellow cab',\n",
              "       'RV/VAN', 'AMBULETTE', 'DELIVERY V', 'SWEEPER', 'R/V',\n",
              "       'self insur', 'excavator', 'Chevy', 'POSTAL TRU', 'FDNY FIRET',\n",
              "       'ESCAVATOR', 'FIRE ENGIN', 'FORK LIFT', 'school bus', 'SPRINTER V',\n",
              "       'DUMP TRUCK', 'ORION', 'postal tru', 'Forklift t', 'HORSE CARR',\n",
              "       'ambulence', 'H1', 'amb', 'Wagon', 'NYS AMBULA', 'YELLOWPOWE',\n",
              "       'FDNY EMT', 'GOV', 'School bus', 'BULDOZER', 'FEDERAL EX',\n",
              "       'Utility.', 'RD BLDNG M', 'TANK WH', 'Ford Van', 'POWER SHOV',\n",
              "       'MTA', 'SELF INSUR', 'Fdny ambul', 'pc', '197209', 'sprinter v',\n",
              "       'FOOD TRUCK', 'semi-trail', 'util', 'G com', 'Fire Engin',\n",
              "       'TRACTOR TR', 'Unknown', 'TOUR BUS', 'flatbed', 'Mack',\n",
              "       'armored tr', 'ford econo', 'DOT TRUCK', 'HINO TANK', 'TL',\n",
              "       'SPINTER VA', 'FREIG DELV', 'MTA Bus', 'GOLF CART', 'ambulette',\n",
              "       'LIT DIRECT', 'T880', 'Cargo Truc', 'tow truck', 'Short Bus',\n",
              "       'SUBN WHI', 'pay loader', 'FLATBED', 'E-Scoter', 'BOX Truck', '0',\n",
              "       'BACK HOE', 'CHEVROLET', 'E-scooter', 'firetruck', 'HRSE', 'f-250',\n",
              "       'Pick up', 'Cargo Van', 'RDS', 'FDNY truck', 'Trc', 'camper tra',\n",
              "       'NYC FD', 'NYC AMBULA', 'F150XL PIC', 'WORK VAN', 'MECHANICAL',\n",
              "       'PC', 'UTILITY TR', 'JETSKI', 'ESCOVATOR', 'Tree cutte', '1C',\n",
              "       'GLP050VXEV', 'DELIVERY T', 'ROAD SWEEE'], dtype=object)"
            ]
          },
          "metadata": {},
          "execution_count": 72
        }
      ]
    },
    {
      "cell_type": "code",
      "source": [
        "\"\"\"\n",
        "SEDAN = '4 dr sedan', 'Sedan', 'CHEVROLET', 'ORION', 'Chevy', 'E450', 'sedan', '2 dr sedan', 'Sedan','4 dr sedan'\n",
        "PASSENGER VEHICLE = 'NYC AMBULA', 'ambulette', 'SELF INSUR', 'Fdny ambul', 'pc', 'HORSE CARR', 'ambulence', 'H1', 'amb', 'NYS AMBULA', 'YELLOWPOWE', \n",
        "                    'FDNY EMT', 'GOV', 'R/V', 'RV/VAN', 'AMBULETTE', 'SUBURBAN', 'White ambu', 'passenger', 'cross', 'PALFINGER', 'LIGHT TRAI', 'FDNY Ambul', 'Pas',\n",
        "                    'government', 'suburban', 'SUBN/', 'PASS', 'AMbul', 'limo', 'COMER', 'Amb', 'ambu', 'CHEVY EXPR', 'CHEVY', 'LIMO', 'Subn', 'Open Body', 'pas', \n",
        "                    'White', 'AMB', 'ROADS', 'RV', 'ambul', 'Motorized Home', 'SUBUR', 'SELF', 'PASSE', 'armor', 'ambulance', 'Ambul', 'SMART', 'subn', 'FDNY AMBUL', \n",
        "                    'MOBILE', 'WHITE', 'E350', 'FDNY Engin', 'E250', 'AMBULENCE, 'COMMERCIAL', 'nyc f', 'AMBUL', 'AMBU', 'FORD', 'AMBULANCE','Ambulance', 'Ambu'\n",
        "SPORT UTILITY VEHICLE = 'Sport Utility Vehicle', 'STATION WAGON', 'Sport Utility Vehicle', 'SPORT UTILITY', 'Station Wagon', 'ESCOVATOR', 'Tree cutte', 'camper tra',\n",
        "                        'firetruck', 'tow truck', 'ROAD SWEEE', 'GLP050VXEV', 'PC', 'MECHANICAL', 'HRSE', 'f-250', 'Pick up', 'SUBN WHI', 'pay loader',\n",
        "                        'HRSE', 'LIT DIRECT', 'T880', 'GOLF CART', 'RDS', 'TL', 'FREIG DELV', 'util', 'G com', 'Fire Engin', 'TRACTOR TR', 'POWER SHOV', \n",
        "                        'BULDOZER', 'FEDERAL EX', 'Utility.', 'RD BLDNG M', 'TANK WH', 'Wagon', 'Forklift t', 'Station Wagon/Sport Utility Vehicle', \n",
        "                        'FDNY FIRET', 'ESCAVATOR', 'FIRE ENGIN', 'FORK LIFT', 'self insur', 'excavator', 'SWEEPER', 'PICK-UP TR', 'tow trk', 'OMT', 'pickup',\n",
        "                        'TTRAILER', 'ESU RESCUE', 'tractor tr', 'SEMI TRAIL', 'Piggy back', 'Road Sweep', 'TRANSIT VA', 'PICK RD', 'access a r', 'Horse Trai',\n",
        "                        'US POSTAL', 'FDNY FIRE', 'FDNY LADDE', 'D/V WB', 'constructi', 'TOW TRUCK', 'UTIL WH', 'Golf Cart', 'JOHN DEERE', 'Tractor tr', 'GENAMBUL',\n",
        "                        'street cle','Firetruck', 'power shov', 'Tow truck', 'Light trai', 'Tractor Tr', 'TR-Trailer', 'historical','PICKUP TRU', 'sanitation', \n",
        "                        'PICKUP', 'STREET SWE', 'Work Van', 'uhaul truc', 'AMAZON SPR','Pumper', 'SANTI', 'EMS', 'D', 'PU', 'Attac', 'picku', \n",
        "                        'BROWN', 'TCR', 'wheel', 'ECONO', 'L1', 'spec-', 'TRIM', 'EMT', 'GAS T', '2 HOR', 'escavator', 'SLINGSHOT', 'SPECIAL PU', 'unk', 'TRACTOR', \n",
        "                        'PICK UP', 'FORKLIFT', 'Stree', 'Work', 'SKATE', 'POSTA', 'PICK-', 'fork', 'APPOR', 'Enclosed Body - Nonremovable Enclosure', 'NYCHA', 'SANITATION', \n",
        "                        'DOLLY', 'POLIC', 'SC', 'Trac', 'ken', 'CO', 'HORSE', 'fire', 'FRHT', 'crane', 'WINNE', 'NV150', 'REP', 'Motor Home', 'LTRL', 'Backh', \n",
        "                        'sanit', 'acces', 'CATER', 'NTTRL', 'st', 'GATOR', 'OIL T', 'BLACK', 'VAV', 'rd/s', 'DOT T', 'Small', 'Liebh', 'speci', 'dp', 'CAMPE',\n",
        "                        'c7c', 'const', 'Other', 'COUPE', 'S/SP', 'delv', 'Log', 'BUCKE', 'horse', 'Tractor', 'PEDIC', 'dsny', 'SELF-', 'rep', 'PSD', 'CONT', 'movin', \n",
        "                        'BROOM', 'cate', 'PCH', 'CEMEN', 'UTLL', 'SWEEP', 'conta', 'mecha', 'HARVE', 'POST', 'Const', 'RESCU', 'trac', 'EXCAV', 'trailer', 'HAUL FOR H', \n",
        "                        'SPC', 'COM.', 'cater', 'Well Driller', 'Pickup with mounted Camper','ND', 'work', '2015', 'J1', 'NV CA', 'FORKL', 'conv', 'Comix', 'COMM', 'Utili', \n",
        "                        'E - B', '52? t', 'SAFET', '12 Pa', 'LMB', 'LTR', 'VMS T', 'SE', 'Elect', 'NAVIG', 'BS', 'TRL', 'excav', 'TIR', 'stree', 'trailor', 'CONST', 'MAIL', \n",
        "                        'TRANS', 'FLAT', 'dump', \"GOV'T\", 'scava', 'santa', 'OML/', 'FORK', 'WAGON', 'ROAD', 'Trl', 'Glass Rack', 'com', 'ARMOR', 'EXPRE', 'forklift'', \n",
        "                        'BOBCAT FOR', 'E REVEL SC', 'tow', 'Comm', 'COURI', 'Track', '72000', 'pick', 'trl', 'BOOM', 'OMNIB', 'LIEBH', 'case', 'ELECT', 'TRT', 'US PO', \n",
        "                        'fire truck', 'JLG L', 'Sanit', 'COMMU', 'wagon', 'EMRGN', 'E COM', 'BACK', 'FUEL', 'A', 'usps', 'Bucke', 'Rescu', 'ENCLO', 'FED E', 'TKP', 'prks', \n",
        "                        'Pick', 'Sprin', 'F650', 'WORK', 'SEA', 'CITY', 'comm.', 'axo', 'n\\\\a', 'e com', 'U-Hau', 'RAM', '16M', 'CMS-T', 'rv', 'G COM', 'PKUP', 'Wh Ford co', \n",
        "                        'commercial', 'ASTRO', 'City', 'MOVIN', 'ROAD SWEEP', 'TKTR', 'Hrse', 'te', 'tk', 'St', 'CHURC', 'CONCR', 'Tr', 'TRA/R', 'APURP', 'city', 'Mail', \n",
        "                        'SWT', 'posta', 'TOWIN', 'DSNY', 'Station Wagon/Sport Utility Vehicle', 'Convertible', 'Tractor Truck Diesel', 'Carry All', 'PSH', 'COM', \n",
        "                        'Concrete Mixer', 'TRAILOR', 'TRAILER', 'Lift Boom', 'USPS', 'gator', 'Snow Plow', 'TRLR', 'van', 'TRAIL', 'EMS B', 'SPRIN', 'FEDER', 'Trailer', \n",
        "                        'Crane', 'Flat Rack', '3-Door', 'FIRE', 'Tow Truck', 'TRK', 'tr', 'HINO', 'CASE', 'JOHN', 'TRACK', 'TOW T', 'REFG', 'Grain', 'P/SH', 'FIRE TRUCK', \n",
        "                        'IP', 'Hopper', 'tour', 'TRACT', 'UTIL', 'Jeep', 'Forkl', 'DELIV', 'COMME', 'SANIT', 'NYPD', 'Trail', 'UT', 'power', 'US Po', 'NYC F', 'Tow t', \n",
        "                        'STREE', 'Tow', 'BULLD', 'Train', 'LIMOU', 'PICKU', 'PAS', 'POWER', 'STAK', 'NYS A', 'Livestock Rack', 'hrse', 'TOWER', 'Fire', 'front', 'OMS', \n",
        "                        '\\x7fomm', 'C1', 'Tow T', '38AB-', 'Deliv', 'Pallet', 'tract', 'Comme', 'comme', 'FRONT', 'ICE C', 'Refri', 'UHAUL', 'D1', 'WORKH', 'tow t', \n",
        "                        'Pedicab', 'Fire Truck', 'TOWTR', 'CRANE', 'utili', 'SKID', 'OMR', 'BOB C', 'track', 'Pickup', 'comm', 'EMS A', 'back', 'CMIX', 'Lunch Wagon'\n",
        "\n",
        "UNKNOWN ='Unkno','UNKNO', 'UNKN', 'other', 'UNK'\n",
        "  \n",
        "TAXI = 'TAXI', 'Taxi', 'yellow cab', 'Chassis Cab','YELLO', 'Taxi'\n",
        "\n",
        "VAN = 'WORK VAN', 'Cargo Van', 'ford econo', 'sprinter v', 'SPINTER VA', 'Ford Van', 'SPRINTER V', 'DELIVERY V','LCOMM', 'DEPT VAN #', 'postal ser', 'COURIER',\n",
        "      'ford van', 'TRUCK VAN', 'Postal Veh', 'DELVI', 'van c', 'MOVING VAN', 'Vanette', , 'VAN T', 'DELV', 'Van Camper', '3 WHE', 'Delv', 'VAN A', 'sprin', 'RD/S', \n",
        "      'deliv', 'SUV', 'van t', 'VAN/T', 'van a', 'Van', 'ICE CREAM', 'CARGO VAN', 'VAN/TRANSI', 'Van T', 'Refrigerated Van', 'RMP V','Van ('\n",
        "\n",
        "BIKE = 'Bike', 'E-scooter', 'E-BIKE', 'Dirt Bike', 'VESPA', 'E-SCO', 'BK', 'vespa', 'elect', 'road', 'Minibike', 'moped', 'mopd', 'Motorscooter'\n",
        "       'E BIK', 'E-BIK', 'E-Bike', 'E-Bik', 'E-Sco', 'MOPED', 'SCOOT', 'E-SCOOTER', 'Moped', 'E-Scooter', 'Motorbike','Bike', 'bmw moped',\n",
        "       'MOPD', 'E SCO', 'Scoot'\n",
        "\n",
        "BUS = 'Bus', 'MTA Bus', 'Short Bus', 'TOUR BUS', 'MTA', 'School bus', 'school bus', 'SCHOOL BUS', 'City MTA b', 'BUs', 'TRANSPORT', 'SCHOOLBUS', 'BLU BUS',\n",
        "      'MTA BUS', 'NYC BUS', 'nyc b', 'MTA B', 'mta b', 'Schoo' 'Bus', 'School Bus', 'SCHOO', 'bus', 'schoo', 'Road', 'Mta'\n",
        "\n",
        "TRUCK = 'Pick-up Truck', 'Truck', 'DELIVERY T', 'UTILITY TR', 'FDNY truck', 'BOX Truck','Cargo Truc', 'DOT TRUCK', 'HINO TANK', 'flatbed', 'Mack', 'FLATBED', '197209', \n",
        "        'armored tr', 'FOOD TRUCK', 'postal tru', 'DUMP TRUCK', 'POSTAL TRU', 'FD TRUCK', 'Livery Omn', 'NYC DOT', 'FDNY EMS V',\n",
        "        'Dump truck', 'FREIGHT TR', 'street swe', 'UTILITY', 'LCOM', 'USPS TRUCK', 'food truck', '4dsd', 'FLATBED TR', 'dilevery t','INTERNATIO', \n",
        "        'TRUCK FLAT', 'dump truck', 'FDNY Truck', 'Front-Load','FRIEGHTLIN', 'FREIGHT FL','bed', 'FDNY TRUCK', 'CAT P', 'GARBAGE TR', 'FDNY EMS', \n",
        "        '18 WHEELER','Bucket Tru', 'USPS2', 'U-TRU', 'ARMY', 'MARK', 'FREIGHTLIN', 'BoxTr', 'CARGO', 'CAT32', 'Garba', 'TANKE', 'GARAB', 'FIRET', \n",
        "        'TANK','box t','dumps','box', 'BOX T', 'INTER', 'BOX TRUCK', 'tank', 'Fd fi', 'Freight''FLATB', 'truck', 'Box t','FDNY ENGIN', 'Freig', \n",
        "        'WASTE', 'Flat', 'Enclosed Body - Removable Enclosure', 'flatb', 'FLAT/', 'FRIEG','Firet',, 'COMMERICAL', 'Cmix', 'Pick Truck', 'NYC D', \n",
        "        'g spc', 'TOYOT', 'trlr', 'backh', 'firet','NYC', 'Tract', 'Stake or Rack', 'Bulk Agriculture', 'fdny', '35 FT', 'VERIZ', 'TRUCK', 'frieg', \n",
        "        'FEDEX', 'GLBEN', 'mail', 'mack', 'GARBA', 'FDNY', 'Box T', '18 WEELER', 'box truck', 'Box Truck', 'Box Truck',\n",
        "        'FREIG', 'MAIL TRUCK', 'UPS TRUCK', 'Food', 'BOX', 'Truck', 'Flat Bed', 'FLAT BED', 'MACK', 'CAT.', 'Garbage or Refuse', 'trail', 'Tow Truck / Wrecker', \n",
        "        'BACKH', 'Armored Truck', 'PK', 'DUMP', 'TRAC', 'Beverage Truck', 'FIRETRUCK', 'Tractor Truck Gasoline', 'Dump',\n",
        "        'Multi-Wheeled Vehicle', 'FRE T', 'UTILI', 'MAC T', 'DUMPT', 'garba', 'Tanker', 'Pick-up Truck'\n",
        "\n",
        "MOTORCYCLE = 'Motorcycle', 'JETSKI', 'semi-trail', 'SEMI TRAIL', 'SEMI-','moter', 'semi', 'Semi-', 'Motorcycle', 'motor', 'MOTOR', 'motorcycle', 'SEMI'\n",
        "BICYCLE  = 'Bicycle', 'BTM', 'Minicycle'\n",
        "\"\"\""
      ],
      "metadata": {
        "colab": {
          "base_uri": "https://localhost:8080/",
          "height": 123
        },
        "id": "WCseu8e5kzbr",
        "outputId": "1a5f9774-cce5-4db1-cdec-fba7190551a7"
      },
      "execution_count": 73,
      "outputs": [
        {
          "output_type": "execute_result",
          "data": {
            "text/plain": [
              "'\\nSEDAN = \\'4 dr sedan\\', \\'Sedan\\', \\'CHEVROLET\\', \\'ORION\\', \\'Chevy\\', \\'E450\\', \\'sedan\\', \\'2 dr sedan\\', \\'Sedan\\',\\'4 dr sedan\\'\\nPASSENGER VEHICLE = \\'NYC AMBULA\\', \\'ambulette\\', \\'SELF INSUR\\', \\'Fdny ambul\\', \\'pc\\', \\'HORSE CARR\\', \\'ambulence\\', \\'H1\\', \\'amb\\', \\'NYS AMBULA\\', \\'YELLOWPOWE\\', \\n                    \\'FDNY EMT\\', \\'GOV\\', \\'R/V\\', \\'RV/VAN\\', \\'AMBULETTE\\', \\'SUBURBAN\\', \\'White ambu\\', \\'passenger\\', \\'cross\\', \\'PALFINGER\\', \\'LIGHT TRAI\\', \\'FDNY Ambul\\', \\'Pas\\',\\n                    \\'government\\', \\'suburban\\', \\'SUBN/\\', \\'PASS\\', \\'AMbul\\', \\'limo\\', \\'COMER\\', \\'Amb\\', \\'ambu\\', \\'CHEVY EXPR\\', \\'CHEVY\\', \\'LIMO\\', \\'Subn\\', \\'Open Body\\', \\'pas\\', \\n                    \\'White\\', \\'AMB\\', \\'ROADS\\', \\'RV\\', \\'ambul\\', \\'Motorized Home\\', \\'SUBUR\\', \\'SELF\\', \\'PASSE\\', \\'armor\\', \\'ambulance\\', \\'Ambul\\', \\'SMART\\', \\'subn\\', \\'FDNY AMBUL\\', \\n                    \\'MOBILE\\', \\'WHITE\\', \\'E350\\', \\'FDNY Engin\\', \\'E250\\', \\'AMBULENCE, \\'COMMERCIAL\\', \\'nyc f\\', \\'AMBUL\\', \\'AMBU\\', \\'FORD\\', \\'AMBULANCE\\',\\'Ambulance\\', \\'Ambu\\'\\nSPORT UTILITY VEHICLE = \\'Sport Utility Vehicle\\', \\'STATION WAGON\\', \\'Sport Utility Vehicle\\', \\'SPORT UTILITY\\', \\'Station Wagon\\', \\'ESCOVATOR\\', \\'Tree cutte\\', \\'camper tra\\',\\n                        \\'firetruck\\', \\'tow truck\\', \\'ROAD SWEEE\\', \\'GLP050VXEV\\', \\'PC\\', \\'MECHANICAL\\', \\'HRSE\\', \\'f-250\\', \\'Pick up\\', \\'SUBN WHI\\', \\'pay loader\\',\\n                        \\'HRSE\\', \\'LIT DIRECT\\', \\'T880\\', \\'GOLF CART\\', \\'RDS\\', \\'TL\\', \\'FREIG DELV\\', \\'util\\', \\'G com\\', \\'Fire Engin\\', \\'TRACTOR TR\\', \\'POWER SHOV\\', \\n                        \\'BULDOZER\\', \\'FEDERAL EX\\', \\'Utility.\\', \\'RD BLDNG M\\', \\'TANK WH\\', \\'Wagon\\', \\'Forklift t\\', \\'Station Wagon/Sport Utility Vehicle\\', \\n                        \\'FDNY FIRET\\', \\'ESCAVATOR\\', \\'FIRE ENGIN\\', \\'FORK LIFT\\', \\'self insur\\', \\'excavator\\', \\'SWEEPER\\', \\'PICK-UP TR\\', \\'tow trk\\', \\'OMT\\', \\'pickup\\',\\n                        \\'TTRAILER\\', \\'ESU RESCUE\\', \\'tractor tr\\', \\'SEMI TRAIL\\', \\'Piggy back\\', \\'Road Sweep\\', \\'TRANSIT VA\\', \\'PICK RD\\', \\'access a r\\', \\'Horse Trai\\',\\n                        \\'US POSTAL\\', \\'FDNY FIRE\\', \\'FDNY LADDE\\', \\'D/V WB\\', \\'constructi\\', \\'TOW TRUCK\\', \\'UTIL WH\\', \\'Golf Cart\\', \\'JOHN DEERE\\', \\'Tractor tr\\', \\'GENAMBUL\\',\\n                        \\'street cle\\',\\'Firetruck\\', \\'power shov\\', \\'Tow truck\\', \\'Light trai\\', \\'Tractor Tr\\', \\'TR-Trailer\\', \\'historical\\',\\'PICKUP TRU\\', \\'sanitation\\', \\n                        \\'PICKUP\\', \\'STREET SWE\\', \\'Work Van\\', \\'uhaul truc\\', \\'AMAZON SPR\\',\\'Pumper\\', \\'SANTI\\', \\'EMS\\', \\'D\\', \\'PU\\', \\'Attac\\', \\'picku\\', \\n                        \\'BROWN\\', \\'TCR\\', \\'wheel\\', \\'ECONO\\', \\'L1\\', \\'spec-\\', \\'TRIM\\', \\'EMT\\', \\'GAS T\\', \\'2 HOR\\', \\'escavator\\', \\'SLINGSHOT\\', \\'SPECIAL PU\\', \\'unk\\', \\'TRACTOR\\', \\n                        \\'PICK UP\\', \\'FORKLIFT\\', \\'Stree\\', \\'Work\\', \\'SKATE\\', \\'POSTA\\', \\'PICK-\\', \\'fork\\', \\'APPOR\\', \\'Enclosed Body - Nonremovable Enclosure\\', \\'NYCHA\\', \\'SANITATION\\', \\n                        \\'DOLLY\\', \\'POLIC\\', \\'SC\\', \\'Trac\\', \\'ken\\', \\'CO\\', \\'HORSE\\', \\'fire\\', \\'FRHT\\', \\'crane\\', \\'WINNE\\', \\'NV150\\', \\'REP\\', \\'Motor Home\\', \\'LTRL\\', \\'Backh\\', \\n                        \\'sanit\\', \\'acces\\', \\'CATER\\', \\'NTTRL\\', \\'st\\', \\'GATOR\\', \\'OIL T\\', \\'BLACK\\', \\'VAV\\', \\'rd/s\\', \\'DOT T\\', \\'Small\\', \\'Liebh\\', \\'speci\\', \\'dp\\', \\'CAMPE\\',\\n                        \\'c7c\\', \\'const\\', \\'Other\\', \\'COUPE\\', \\'S/SP\\', \\'delv\\', \\'Log\\', \\'BUCKE\\', \\'horse\\', \\'Tractor\\', \\'PEDIC\\', \\'dsny\\', \\'SELF-\\', \\'rep\\', \\'PSD\\', \\'CONT\\', \\'movin\\', \\n                        \\'BROOM\\', \\'cate\\', \\'PCH\\', \\'CEMEN\\', \\'UTLL\\', \\'SWEEP\\', \\'conta\\', \\'mecha\\', \\'HARVE\\', \\'POST\\', \\'Const\\', \\'RESCU\\', \\'trac\\', \\'EXCAV\\', \\'trailer\\', \\'HAUL FOR H\\', \\n                        \\'SPC\\', \\'COM.\\', \\'cater\\', \\'Well Driller\\', \\'Pickup with mounted Camper\\',\\'ND\\', \\'work\\', \\'2015\\', \\'J1\\', \\'NV CA\\', \\'FORKL\\', \\'conv\\', \\'Comix\\', \\'COMM\\', \\'Utili\\', \\n                        \\'E - B\\', \\'52? t\\', \\'SAFET\\', \\'12 Pa\\', \\'LMB\\', \\'LTR\\', \\'VMS T\\', \\'SE\\', \\'Elect\\', \\'NAVIG\\', \\'BS\\', \\'TRL\\', \\'excav\\', \\'TIR\\', \\'stree\\', \\'trailor\\', \\'CONST\\', \\'MAIL\\', \\n                        \\'TRANS\\', \\'FLAT\\', \\'dump\\', \"GOV\\'T\", \\'scava\\', \\'santa\\', \\'OML/\\', \\'FORK\\', \\'WAGON\\', \\'ROAD\\', \\'Trl\\', \\'Glass Rack\\', \\'com\\', \\'ARMOR\\', \\'EXPRE\\', \\'forklift\\'\\', \\n                        \\'BOBCAT FOR\\', \\'E REVEL SC\\', \\'tow\\', \\'Comm\\', \\'COURI\\', \\'Track\\', \\'72000\\', \\'pick\\', \\'trl\\', \\'BOOM\\', \\'OMNIB\\', \\'LIEBH\\', \\'case\\', \\'ELECT\\', \\'TRT\\', \\'US PO\\', \\n                        \\'fire truck\\', \\'JLG L\\', \\'Sanit\\', \\'COMMU\\', \\'wagon\\', \\'EMRGN\\', \\'E COM\\', \\'BACK\\', \\'FUEL\\', \\'A\\', \\'usps\\', \\'Bucke\\', \\'Rescu\\', \\'ENCLO\\', \\'FED E\\', \\'TKP\\', \\'prks\\', \\n                        \\'Pick\\', \\'Sprin\\', \\'F650\\', \\'WORK\\', \\'SEA\\', \\'CITY\\', \\'comm.\\', \\'axo\\', \\'n\\\\a\\', \\'e com\\', \\'U-Hau\\', \\'RAM\\', \\'16M\\', \\'CMS-T\\', \\'rv\\', \\'G COM\\', \\'PKUP\\', \\'Wh Ford co\\', \\n                        \\'commercial\\', \\'ASTRO\\', \\'City\\', \\'MOVIN\\', \\'ROAD SWEEP\\', \\'TKTR\\', \\'Hrse\\', \\'te\\', \\'tk\\', \\'St\\', \\'CHURC\\', \\'CONCR\\', \\'Tr\\', \\'TRA/R\\', \\'APURP\\', \\'city\\', \\'Mail\\', \\n                        \\'SWT\\', \\'posta\\', \\'TOWIN\\', \\'DSNY\\', \\'Station Wagon/Sport Utility Vehicle\\', \\'Convertible\\', \\'Tractor Truck Diesel\\', \\'Carry All\\', \\'PSH\\', \\'COM\\', \\n                        \\'Concrete Mixer\\', \\'TRAILOR\\', \\'TRAILER\\', \\'Lift Boom\\', \\'USPS\\', \\'gator\\', \\'Snow Plow\\', \\'TRLR\\', \\'van\\', \\'TRAIL\\', \\'EMS B\\', \\'SPRIN\\', \\'FEDER\\', \\'Trailer\\', \\n                        \\'Crane\\', \\'Flat Rack\\', \\'3-Door\\', \\'FIRE\\', \\'Tow Truck\\', \\'TRK\\', \\'tr\\', \\'HINO\\', \\'CASE\\', \\'JOHN\\', \\'TRACK\\', \\'TOW T\\', \\'REFG\\', \\'Grain\\', \\'P/SH\\', \\'FIRE TRUCK\\', \\n                        \\'IP\\', \\'Hopper\\', \\'tour\\', \\'TRACT\\', \\'UTIL\\', \\'Jeep\\', \\'Forkl\\', \\'DELIV\\', \\'COMME\\', \\'SANIT\\', \\'NYPD\\', \\'Trail\\', \\'UT\\', \\'power\\', \\'US Po\\', \\'NYC F\\', \\'Tow t\\', \\n                        \\'STREE\\', \\'Tow\\', \\'BULLD\\', \\'Train\\', \\'LIMOU\\', \\'PICKU\\', \\'PAS\\', \\'POWER\\', \\'STAK\\', \\'NYS A\\', \\'Livestock Rack\\', \\'hrse\\', \\'TOWER\\', \\'Fire\\', \\'front\\', \\'OMS\\', \\n                        \\'\\x7fomm\\', \\'C1\\', \\'Tow T\\', \\'38AB-\\', \\'Deliv\\', \\'Pallet\\', \\'tract\\', \\'Comme\\', \\'comme\\', \\'FRONT\\', \\'ICE C\\', \\'Refri\\', \\'UHAUL\\', \\'D1\\', \\'WORKH\\', \\'tow t\\', \\n                        \\'Pedicab\\', \\'Fire Truck\\', \\'TOWTR\\', \\'CRANE\\', \\'utili\\', \\'SKID\\', \\'OMR\\', \\'BOB C\\', \\'track\\', \\'Pickup\\', \\'comm\\', \\'EMS A\\', \\'back\\', \\'CMIX\\', \\'Lunch Wagon\\'\\n\\nUNKNOWN =\\'Unkno\\',\\'UNKNO\\', \\'UNKN\\', \\'other\\', \\'UNK\\'\\n  \\nTAXI = \\'TAXI\\', \\'Taxi\\', \\'yellow cab\\', \\'Chassis Cab\\',\\'YELLO\\', \\'Taxi\\'\\n\\nVAN = \\'WORK VAN\\', \\'Cargo Van\\', \\'ford econo\\', \\'sprinter v\\', \\'SPINTER VA\\', \\'Ford Van\\', \\'SPRINTER V\\', \\'DELIVERY V\\',\\'LCOMM\\', \\'DEPT VAN #\\', \\'postal ser\\', \\'COURIER\\',\\n      \\'ford van\\', \\'TRUCK VAN\\', \\'Postal Veh\\', \\'DELVI\\', \\'van c\\', \\'MOVING VAN\\', \\'Vanette\\', , \\'VAN T\\', \\'DELV\\', \\'Van Camper\\', \\'3 WHE\\', \\'Delv\\', \\'VAN A\\', \\'sprin\\', \\'RD/S\\', \\n      \\'deliv\\', \\'SUV\\', \\'van t\\', \\'VAN/T\\', \\'van a\\', \\'Van\\', \\'ICE CREAM\\', \\'CARGO VAN\\', \\'VAN/TRANSI\\', \\'Van T\\', \\'Refrigerated Van\\', \\'RMP V\\',\\'Van (\\'\\n\\nBIKE = \\'Bike\\', \\'E-scooter\\', \\'E-BIKE\\', \\'Dirt Bike\\', \\'VESPA\\', \\'E-SCO\\', \\'BK\\', \\'vespa\\', \\'elect\\', \\'road\\', \\'Minibike\\', \\'moped\\', \\'mopd\\', \\'Motorscooter\\'\\n       \\'E BIK\\', \\'E-BIK\\', \\'E-Bike\\', \\'E-Bik\\', \\'E-Sco\\', \\'MOPED\\', \\'SCOOT\\', \\'E-SCOOTER\\', \\'Moped\\', \\'E-Scooter\\', \\'Motorbike\\',\\'Bike\\', \\'bmw moped\\',\\n       \\'MOPD\\', \\'E SCO\\', \\'Scoot\\'\\n\\nBUS = \\'Bus\\', \\'MTA Bus\\', \\'Short Bus\\', \\'TOUR BUS\\', \\'MTA\\', \\'School bus\\', \\'school bus\\', \\'SCHOOL BUS\\', \\'City MTA b\\', \\'BUs\\', \\'TRANSPORT\\', \\'SCHOOLBUS\\', \\'BLU BUS\\',\\n      \\'MTA BUS\\', \\'NYC BUS\\', \\'nyc b\\', \\'MTA B\\', \\'mta b\\', \\'Schoo\\' \\'Bus\\', \\'School Bus\\', \\'SCHOO\\', \\'bus\\', \\'schoo\\', \\'Road\\', \\'Mta\\'\\n\\nTRUCK = \\'Pick-up Truck\\', \\'Truck\\', \\'DELIVERY T\\', \\'UTILITY TR\\', \\'FDNY truck\\', \\'BOX Truck\\',\\'Cargo Truc\\', \\'DOT TRUCK\\', \\'HINO TANK\\', \\'flatbed\\', \\'Mack\\', \\'FLATBED\\', \\'197209\\', \\n        \\'armored tr\\', \\'FOOD TRUCK\\', \\'postal tru\\', \\'DUMP TRUCK\\', \\'POSTAL TRU\\', \\'FD TRUCK\\', \\'Livery Omn\\', \\'NYC DOT\\', \\'FDNY EMS V\\',\\n        \\'Dump truck\\', \\'FREIGHT TR\\', \\'street swe\\', \\'UTILITY\\', \\'LCOM\\', \\'USPS TRUCK\\', \\'food truck\\', \\'4dsd\\', \\'FLATBED TR\\', \\'dilevery t\\',\\'INTERNATIO\\', \\n        \\'TRUCK FLAT\\', \\'dump truck\\', \\'FDNY Truck\\', \\'Front-Load\\',\\'FRIEGHTLIN\\', \\'FREIGHT FL\\',\\'bed\\', \\'FDNY TRUCK\\', \\'CAT P\\', \\'GARBAGE TR\\', \\'FDNY EMS\\', \\n        \\'18 WHEELER\\',\\'Bucket Tru\\', \\'USPS2\\', \\'U-TRU\\', \\'ARMY\\', \\'MARK\\', \\'FREIGHTLIN\\', \\'BoxTr\\', \\'CARGO\\', \\'CAT32\\', \\'Garba\\', \\'TANKE\\', \\'GARAB\\', \\'FIRET\\', \\n        \\'TANK\\',\\'box t\\',\\'dumps\\',\\'box\\', \\'BOX T\\', \\'INTER\\', \\'BOX TRUCK\\', \\'tank\\', \\'Fd fi\\', \\'Freight\\'\\'FLATB\\', \\'truck\\', \\'Box t\\',\\'FDNY ENGIN\\', \\'Freig\\', \\n        \\'WASTE\\', \\'Flat\\', \\'Enclosed Body - Removable Enclosure\\', \\'flatb\\', \\'FLAT/\\', \\'FRIEG\\',\\'Firet\\',, \\'COMMERICAL\\', \\'Cmix\\', \\'Pick Truck\\', \\'NYC D\\', \\n        \\'g spc\\', \\'TOYOT\\', \\'trlr\\', \\'backh\\', \\'firet\\',\\'NYC\\', \\'Tract\\', \\'Stake or Rack\\', \\'Bulk Agriculture\\', \\'fdny\\', \\'35 FT\\', \\'VERIZ\\', \\'TRUCK\\', \\'frieg\\', \\n        \\'FEDEX\\', \\'GLBEN\\', \\'mail\\', \\'mack\\', \\'GARBA\\', \\'FDNY\\', \\'Box T\\', \\'18 WEELER\\', \\'box truck\\', \\'Box Truck\\', \\'Box Truck\\',\\n        \\'FREIG\\', \\'MAIL TRUCK\\', \\'UPS TRUCK\\', \\'Food\\', \\'BOX\\', \\'Truck\\', \\'Flat Bed\\', \\'FLAT BED\\', \\'MACK\\', \\'CAT.\\', \\'Garbage or Refuse\\', \\'trail\\', \\'Tow Truck / Wrecker\\', \\n        \\'BACKH\\', \\'Armored Truck\\', \\'PK\\', \\'DUMP\\', \\'TRAC\\', \\'Beverage Truck\\', \\'FIRETRUCK\\', \\'Tractor Truck Gasoline\\', \\'Dump\\',\\n        \\'Multi-Wheeled Vehicle\\', \\'FRE T\\', \\'UTILI\\', \\'MAC T\\', \\'DUMPT\\', \\'garba\\', \\'Tanker\\', \\'Pick-up Truck\\'\\n\\nMOTORCYCLE = \\'Motorcycle\\', \\'JETSKI\\', \\'semi-trail\\', \\'SEMI TRAIL\\', \\'SEMI-\\',\\'moter\\', \\'semi\\', \\'Semi-\\', \\'Motorcycle\\', \\'motor\\', \\'MOTOR\\', \\'motorcycle\\', \\'SEMI\\'\\nBICYCLE  = \\'Bicycle\\', \\'BTM\\', \\'Minicycle\\'\\n'"
            ],
            "application/vnd.google.colaboratory.intrinsic+json": {
              "type": "string"
            }
          },
          "metadata": {},
          "execution_count": 73
        }
      ]
    },
    {
      "cell_type": "markdown",
      "source": [
        "##Grouping the similar 'VEHICLE_TYPE' into a groups."
      ],
      "metadata": {
        "id": "k1CSxWc9R78t"
      }
    },
    {
      "cell_type": "code",
      "source": [
        "data['VEHICLE_TYPE'] = data['VEHICLE_TYPE'].replace(['NYC AMBULA', 'ambulette', 'SELF INSUR', 'Fdny ambul', 'pc', 'HORSE CARR', 'ambulence', 'H1', 'amb', 'NYS AMBULA', 'YELLOWPOWE', \n",
        "                    'FDNY EMT', 'GOV', 'R/V', 'RV/VAN', 'AMBULETTE', 'SUBURBAN', 'White ambu', 'passenger', 'cross', 'PALFINGER', 'LIGHT TRAI', 'FDNY Ambul', 'Pas',\n",
        "                    'government', 'suburban', 'SUBN/', 'PASS', 'AMbul', 'limo', 'COMER', 'Amb', 'ambu', 'CHEVY EXPR', 'CHEVY', 'LIMO', 'Subn', 'Open Body', 'pas', \n",
        "                    'White', 'AMB', 'ROADS', 'RV', 'ambul', 'Motorized Home', 'SUBUR', 'SELF', 'PASSE', 'armor', 'ambulance', 'Ambul', 'SMART', 'subn', 'FDNY AMBUL', \n",
        "                    'MOBILE', 'WHITE', 'E350', 'FDNY Engin', 'E250', 'AMBULENCE', 'NYC FD', 'COMMERCIAL', 'nyc f', 'AMBUL', 'AMBU', 'FORD', 'AMBULANCE','Ambulance', 'Ambu'],'PASSENGER VEHICLE')"
      ],
      "metadata": {
        "id": "39xpsOlQR7SQ"
      },
      "execution_count": 74,
      "outputs": []
    },
    {
      "cell_type": "code",
      "source": [
        "data['VEHICLE_TYPE'] = data['VEHICLE_TYPE'].replace(['Pick-up Truck', 'Truck', 'DELIVERY T', 'UTILITY TR', 'FDNY truck', 'BOX Truck','Cargo Truc', 'DOT TRUCK', 'HINO TANK', 'flatbed', 'Mack', 'FLATBED', '197209', \n",
        "        'armored tr', 'FOOD TRUCK', 'postal tru', 'DUMP TRUCK', 'POSTAL TRU', 'FD TRUCK', 'Livery Omn', 'NYC DOT', 'FDNY EMS V',\n",
        "        'Dump truck', 'FREIGHT TR', 'street swe', 'UTILITY', 'LCOM', 'USPS TRUCK', 'food truck', '4dsd', 'FLATBED TR', 'dilevery t','INTERNATIO', \n",
        "        'TRUCK FLAT', 'dump truck', 'FDNY Truck', 'Front-Load','FRIEGHTLIN', 'FREIGHT FL','bed', 'FDNY TRUCK', 'CAT P', 'GARBAGE TR', 'FDNY EMS', \n",
        "        '18 WHEELER','Bucket Tru', 'USPS2', 'U-TRU', 'ARMY', 'MARK', 'FREIGHTLIN', 'BoxTr', 'CARGO', 'CAT32', 'Garba', 'TANKE', 'GARAB', 'FIRET', \n",
        "        'TANK','box t','dumps','box', 'BOX T', 'INTER', 'BOX TRUCK', 'tank', 'Fd fi', 'Freight''FLATB', 'truck', 'Box t','FDNY ENGIN', 'Freig', \n",
        "        'WASTE', 'Flat', 'Enclosed Body - Removable Enclosure', 'flatb', 'FLAT/', 'FRIEG','Firet', 'COMMERICAL', 'Cmix', 'Pick Truck', 'NYC D', \n",
        "        'g spc', 'TOYOT', 'trlr', 'backh', 'firet','NYC', 'Tract', 'Stake or Rack', 'Bulk Agriculture', 'fdny', '35 FT', 'VERIZ', 'TRUCK', 'frieg', \n",
        "        'FEDEX', 'GLBEN', 'mail', 'mack', 'GARBA', 'FDNY', 'Box T', '18 WEELER', 'box truck', 'Box Truck', 'Box Truck',\n",
        "        'FREIG', 'MAIL TRUCK', 'UPS TRUCK', 'Food', 'BOX', 'Truck', 'Flat Bed', 'FLAT BED', 'MACK', 'CAT.', 'Garbage or Refuse', 'trail', 'Tow Truck / Wrecker', \n",
        "        'BACKH', 'Armored Truck', 'PK', 'DUMP', 'TRAC', 'Beverage Truck', 'FIRETRUCK', 'Tractor Truck Gasoline', 'Dump',\n",
        "        'Multi-Wheeled Vehicle', 'FRE T', 'UTILI', 'MAC T', 'DUMPT', 'garba', 'Tanker', 'Pick-up Truck', 'FLATB', 'Freight', 'ORION', 'CAT', 'DELIVERY', 'delivery t', 'Delivery'],'TRUCK')"
      ],
      "metadata": {
        "id": "USGYmW19TNTI"
      },
      "execution_count": 75,
      "outputs": []
    },
    {
      "cell_type": "code",
      "source": [
        "data['VEHICLE_TYPE'] = data['VEHICLE_TYPE'].replace(['Bicycle', 'BTM', 'Minicycle'],'BICYCLE')"
      ],
      "metadata": {
        "id": "29BP7Pr_UgaB"
      },
      "execution_count": 76,
      "outputs": []
    },
    {
      "cell_type": "code",
      "source": [
        "data['VEHICLE_TYPE'] = data['VEHICLE_TYPE'].replace(['Motorcycle', 'JETSKI', 'semi-trail', 'SEMI TRAIL', 'SEMI-','moter', 'semi', 'Semi-', 'Motorcycle', \n",
        "                                                     'motor', 'MOTOR', 'motorcycle', 'SEMI','Motorscooter'],'MOTORCYCLE')"
      ],
      "metadata": {
        "id": "saX7BaOkUlGG"
      },
      "execution_count": 77,
      "outputs": []
    },
    {
      "cell_type": "code",
      "source": [
        "data['VEHICLE_TYPE'] = data['VEHICLE_TYPE'].replace(['Bus', 'MTA Bus', 'Short Bus', 'TOUR BUS', 'MTA', 'School bus', 'school bus', 'SCHOOL BUS', 'City MTA b', 'BUs', 'TRANSPORT', 'SCHOOLBUS', 'BLU BUS',\n",
        "      'MTA BUS', 'NYC BUS', 'nyc b', 'MTA B', 'mta b', 'Schoo','omnibus', 'Bus', 'School Bus', 'SCHOO', 'bus', 'schoo', 'Road', 'Mta'],'BUS')"
      ],
      "metadata": {
        "id": "JV5aEbemUmT8"
      },
      "execution_count": 78,
      "outputs": []
    },
    {
      "cell_type": "code",
      "source": [
        "data['VEHICLE_TYPE'] = data['VEHICLE_TYPE'].replace(['Bike', 'E-scooter', 'E-BIKE', 'Dirt Bike', 'VESPA', 'E-SCO', 'BK', 'vespa', 'elect', 'road', 'Minibike', 'moped', 'mopd', 'Motorscooter'\n",
        "       'E BIK', 'E-BIK', 'E-Bike', 'E-Bik', 'E-Sco', 'MOPED', 'SCOOT', 'E-SCOOTER', 'Moped', 'E-Scooter', 'Motorbike','Bike', 'bmw moped',\n",
        "       'MOPD', 'E SCO', 'Scoot', 'E-Scoter', 'E BIK'],'BIKE')"
      ],
      "metadata": {
        "id": "zYb1txxFUngS"
      },
      "execution_count": 79,
      "outputs": []
    },
    {
      "cell_type": "code",
      "source": [
        "data['VEHICLE_TYPE'] = data['VEHICLE_TYPE'].replace(['WORK VAN', 'Cargo Van', 'ford econo', 'sprinter v', 'SPINTER VA', 'Ford Van', 'SPRINTER V', 'DELIVERY V','LCOMM', 'DEPT VAN #', 'postal ser', 'COURIER',\n",
        "      'ford van', 'TRUCK VAN', 'Postal Veh', 'DELVI', 'van c', 'MOVING VAN', 'Vanette', 'VAN T', 'DELV', 'Van Camper', '3 WHE', 'Delv', 'VAN A', 'sprin', 'RD/S', \n",
        "      'deliv', 'SUV', 'van t', 'VAN/T', 'van a', 'Van', 'ICE CREAM', 'CARGO VAN', 'VAN/TRANSI', 'Van T', 'Refrigerated Van', 'RMP V','Van ('],'VAN')"
      ],
      "metadata": {
        "id": "CPkNvuZoUopk"
      },
      "execution_count": 80,
      "outputs": []
    },
    {
      "cell_type": "code",
      "source": [
        "data['VEHICLE_TYPE'] = data['VEHICLE_TYPE'].replace(['TAXI', 'Taxi', 'yellow cab', 'Chassis Cab','YELLO', 'Taxi'],'TAXI')"
      ],
      "metadata": {
        "id": "VM_TRlXhXEHA"
      },
      "execution_count": 81,
      "outputs": []
    },
    {
      "cell_type": "code",
      "source": [
        "data['VEHICLE_TYPE'] = data['VEHICLE_TYPE'].replace(['Unkno','UNKNO', 'UNKN', 'other', 'UNK', 'Unknown','0', 'Trc', '1C'],'UNKNOWN')"
      ],
      "metadata": {
        "id": "xmCCdRTRXdMN"
      },
      "execution_count": 82,
      "outputs": []
    },
    {
      "cell_type": "code",
      "source": [
        "# SPORT UTILITY VEHICLE INCLUDES SUV's as well as all kinds of utility vehicle.\n",
        "data['VEHICLE_TYPE'] = data['VEHICLE_TYPE'].replace(['Sport Utility Vehicle', 'STATION WAGON', 'Utility', 'Sport Utility Vehicle', 'SPORT UTILITY', 'Station Wagon', 'ESCOVATOR', 'Tree cutte', 'camper tra',\n",
        "                        'firetruck', 'tow truck', 'ROAD SWEEE', 'GLP050VXEV', 'PC', 'MECHANICAL', 'HRSE', 'f-250', 'Pick up', 'SUBN WHI', 'pay loader',\n",
        "                        'HRSE', 'LIT DIRECT', 'T880', 'GOLF CART', 'RDS', 'TL','BACK HOE', 'FREIG DELV', 'util', 'G com', 'Fire Engin', 'TRACTOR TR', 'POWER SHOV', \n",
        "                        'BULDOZER', 'FEDERAL EX', 'Utility.', 'RD BLDNG M', 'TANK WH', 'Wagon', 'Forklift t', 'Station Wagon/Sport Utility Vehicle', \n",
        "                        'FDNY FIRET', 'ESCAVATOR', 'FIRE ENGIN', 'FORK LIFT', 'self insur', 'excavator', 'SWEEPER', 'PICK-UP TR', 'tow trk', 'OMT', 'pickup',\n",
        "                        'TTRAILER', 'ESU RESCUE', 'tractor tr', 'SEMI TRAIL', 'Piggy back', 'Road Sweep', 'TRANSIT VA', 'PICK RD', 'access a r', 'Horse Trai',\n",
        "                        'US POSTAL', 'FDNY FIRE', 'FDNY LADDE', 'D/V WB', 'constructi', 'TOW TRUCK', 'UTIL WH', 'Golf Cart', 'JOHN DEERE', 'Tractor tr', 'GENAMBUL',\n",
        "                        'street cle','Firetruck', 'power shov', 'Tow truck', 'Light trai', 'Tractor Tr', 'TR-Trailer', 'historical','PICKUP TRU', 'sanitation', \n",
        "                        'PICKUP', 'STREET SWE', 'Work Van', 'uhaul truc', 'AMAZON SPR','Pumper', 'SANTI', 'EMS', 'D', 'PU', 'Attac', 'picku', \n",
        "                        'BROWN', 'TCR', 'wheel', 'ECONO', 'L1', 'spec-', 'TRIM', 'EMT', 'GAS T', '2 HOR', 'escavator', 'SLINGSHOT', 'SPECIAL PU', 'unk', 'TRACTOR', \n",
        "                        'PICK UP', 'FORKLIFT', 'Stree', 'Work', 'SKATE', 'POSTA', 'PICK-', 'fork', 'APPOR', 'Enclosed Body - Nonremovable Enclosure', 'NYCHA', 'SANITATION', \n",
        "                        'DOLLY', 'POLIC', 'SC', 'Trac', 'ken', 'CO', 'HORSE', 'fire', 'FRHT', 'crane', 'WINNE', 'NV150', 'REP', 'Motor Home', 'LTRL', 'Backh', \n",
        "                        'sanit', 'acces', 'CATER', 'NTTRL', 'st', 'GATOR', 'OIL T', 'BLACK', 'VAV', 'rd/s', 'DOT T', 'Small', 'Liebh', 'speci', 'dp', 'CAMPE',\n",
        "                        'c7c', 'const', 'Other', 'COUPE', 'S/SP', 'delv', 'Log', 'BUCKE', 'horse', 'Tractor', 'PEDIC', 'dsny', 'SELF-', 'rep', 'PSD', 'CONT', 'movin', \n",
        "                        'BROOM', 'cate', 'PCH', 'CEMEN', 'UTLL', 'SWEEP', 'conta', 'mecha', 'HARVE', 'POST', 'Const', 'RESCU', 'trac', 'EXCAV', 'trailer', 'HAUL FOR H', \n",
        "                        'SPC', 'COM.', 'cater', 'Well Driller', 'Pickup with mounted Camper','ND', 'work', '2015', 'J1', 'NV CA', 'FORKL', 'conv', 'Comix', 'COMM', 'Utili', \n",
        "                        'E - B', '52? t', 'SAFET', '12 Pa', 'LMB', 'LTR', 'VMS T', 'SE', 'Elect', 'NAVIG', 'BS', 'TRL', 'excav', 'TIR', 'stree', 'trailor', 'CONST', 'MAIL', \n",
        "                        'TRANS', 'FLAT', 'dump', \"GOV'T\", 'scava', 'santa', 'OML/', 'FORK', 'WAGON', 'ROAD', 'Trl', 'Glass Rack', 'com', 'ARMOR', 'EXPRE', 'forklift', \n",
        "                        'BOBCAT FOR', 'E REVEL SC', 'tow', 'Comm', 'COURI', 'Track', '72000', 'pick', 'trl', 'BOOM', 'OMNIB', 'LIEBH', 'case', 'ELECT', 'TRT', 'US PO', \n",
        "                        'fire truck', 'JLG L', 'Sanit', 'COMMU', 'wagon', 'EMRGN', 'E COM', 'BACK', 'FUEL', 'A', 'usps', 'Bucke', 'Rescu', 'ENCLO', 'FED E', 'TKP', 'prks', \n",
        "                        'Pick', 'Sprin', 'F650', 'WORK', 'SEA', 'CITY', 'comm.', 'axo', 'n\\\\a', 'e com', 'U-Hau', 'RAM', '16M', 'CMS-T', 'rv', 'G COM', 'PKUP', 'Wh Ford co', \n",
        "                        'commercial', 'ASTRO', 'City', 'MOVIN', 'ROAD SWEEP', 'TKTR', 'Hrse', 'te', 'tk', 'St', 'CHURC', 'CONCR', 'Tr', 'TRA/R', 'APURP', 'city', 'Mail', \n",
        "                        'SWT', 'posta', 'TOWIN', 'DSNY', 'Station Wagon/Sport Utility Vehicle', 'Convertible', 'Tractor Truck Diesel', 'Carry All', 'PSH', 'COM', \n",
        "                        'Concrete Mixer', 'TRAILOR', 'TRAILER', 'Lift Boom', 'USPS', 'gator', 'Snow Plow', 'TRLR', 'van', 'TRAIL', 'EMS B', 'SPRIN', 'FEDER', 'Trailer', \n",
        "                        'Crane', 'Flat Rack', '3-Door', 'FIRE', 'Tow Truck', 'TRK', 'tr', 'HINO', 'CASE', 'JOHN', 'TRACK', 'TOW T', 'REFG', 'Grain', 'P/SH', 'FIRE TRUCK', \n",
        "                        'IP', 'Hopper', 'tour', 'TRACT', 'UTIL', 'Jeep', 'Forkl', 'DELIV', 'COMME', 'SANIT', 'NYPD', 'Trail', 'UT', 'power', 'US Po', 'NYC F', 'Tow t', \n",
        "                        'STREE', 'Tow', 'BULLD', 'Train', 'LIMOU', 'PICKU', 'PAS', 'POWER', 'STAK', 'NYS A', 'Livestock Rack', 'hrse', 'TOWER', 'Fire', 'front', 'OMS', \n",
        "                        '\\x7fomm', 'C1', 'Tow T', '38AB-', 'Deliv', 'Pallet', 'tract', 'Comme', 'comme', 'FRONT', 'ICE C', 'Refri', 'UHAUL', 'D1', 'WORKH', 'tow t', \n",
        "                        'Pedicab', 'Fire Truck', 'TOWTR', 'CRANE', 'utili', 'SKID', 'OMR', 'BOB C', 'track', 'Pickup', 'comm', 'EMS A', 'back', 'CMIX', 'Lunch Wagon'],'SPORT UTILITY VEHICLE')"
      ],
      "metadata": {
        "id": "6Mqhs8nMr6d1"
      },
      "execution_count": 83,
      "outputs": []
    },
    {
      "cell_type": "code",
      "source": [
        "data['VEHICLE_TYPE'] = data['VEHICLE_TYPE'].replace(['4 dr sedan', 'F150XL PIC', 'Sedan', 'CHEVROLET', 'ORION', 'Chevy','sedan', 'E450', 'sedan', '2 dr sedan', 'Sedan','4 dr sedan','E450'],'SEDAN')"
      ],
      "metadata": {
        "id": "s3i2ExusyYdI"
      },
      "execution_count": 84,
      "outputs": []
    },
    {
      "cell_type": "code",
      "source": [
        "data['VEHICLE_TYPE'].value_counts()"
      ],
      "metadata": {
        "colab": {
          "base_uri": "https://localhost:8080/"
        },
        "id": "FRAG_ll75msZ",
        "outputId": "ba26145b-e9dd-424d-ba65-146c634c23fc"
      },
      "execution_count": 85,
      "outputs": [
        {
          "output_type": "execute_result",
          "data": {
            "text/plain": [
              "SEDAN                    296860\n",
              "SPORT UTILITY VEHICLE    257926\n",
              "TRUCK                     42894\n",
              "TAXI                      29501\n",
              "BUS                        9936\n",
              "VAN                        4193\n",
              "MOTORCYCLE                 3367\n",
              "PASSENGER VEHICLE          2190\n",
              "BIKE                        839\n",
              "UNKNOWN                      15\n",
              "BICYCLE                      10\n",
              "Name: VEHICLE_TYPE, dtype: int64"
            ]
          },
          "metadata": {},
          "execution_count": 85
        }
      ]
    },
    {
      "cell_type": "code",
      "source": [
        "# Now we can remove all the data with unknown VEHICLE_TYPE.\n",
        "data.drop(data[data['VEHICLE_TYPE'] == 'UNKNOWN'].index, inplace = True)\n"
      ],
      "metadata": {
        "id": "jMCpjKqt5lJs"
      },
      "execution_count": 86,
      "outputs": []
    },
    {
      "cell_type": "code",
      "source": [
        "data['VEHICLE_TYPE'].value_counts()\n",
        "#Now it's clean and we can use this for Analysis 3. ie, Analysis of VEHICLE TYPE and the frequency of their accidents."
      ],
      "metadata": {
        "colab": {
          "base_uri": "https://localhost:8080/"
        },
        "id": "Yx1ux4SAAJ4I",
        "outputId": "aabcd221-cecd-4681-c1c8-5855c4aa8580"
      },
      "execution_count": 87,
      "outputs": [
        {
          "output_type": "execute_result",
          "data": {
            "text/plain": [
              "SEDAN                    296860\n",
              "SPORT UTILITY VEHICLE    257926\n",
              "TRUCK                     42894\n",
              "TAXI                      29501\n",
              "BUS                        9936\n",
              "VAN                        4193\n",
              "MOTORCYCLE                 3367\n",
              "PASSENGER VEHICLE          2190\n",
              "BIKE                        839\n",
              "BICYCLE                      10\n",
              "Name: VEHICLE_TYPE, dtype: int64"
            ]
          },
          "metadata": {},
          "execution_count": 87
        }
      ]
    },
    {
      "cell_type": "markdown",
      "source": [
        "##Taking the sample for sample Analysis."
      ],
      "metadata": {
        "id": "JxQH5ytNI_L2"
      }
    },
    {
      "cell_type": "code",
      "source": [
        "sample_data = data.sample(100, random_state= 7301998) # Date of Birth is 30/0/1998"
      ],
      "metadata": {
        "id": "jAjGIusjQFx1"
      },
      "execution_count": 88,
      "outputs": []
    },
    {
      "cell_type": "code",
      "source": [
        "sample_data['VEHICLE_MAKE'].unique()"
      ],
      "metadata": {
        "colab": {
          "base_uri": "https://localhost:8080/"
        },
        "id": "RuNkAP-Jl1nM",
        "outputId": "434b012a-9e8e-48e3-fca5-d7a68c53a27c"
      },
      "execution_count": 89,
      "outputs": [
        {
          "output_type": "execute_result",
          "data": {
            "text/plain": [
              "array(['VOLK', 'TOYT', 'FORD', 'MAC', 'YAMA', 'NISSAN', 'MITS', 'HONDA',\n",
              "       'JEEP', 'GREYHOUND', 'MERZ', 'VOLV', 'LINC', 'GMC', 'INFI',\n",
              "       'DODGE', 'CHEVROLET', 'AUDI', 'HINO', 'CHRY', 'BMW', 'NIU', 'SUBA',\n",
              "       'LEXS', 'bus', 'hino', 'LNDR', 'ORION'], dtype=object)"
            ]
          },
          "metadata": {},
          "execution_count": 89
        }
      ]
    },
    {
      "cell_type": "code",
      "source": [
        "sample_data['VEHICLE_MAKE'].value_counts()"
      ],
      "metadata": {
        "colab": {
          "base_uri": "https://localhost:8080/"
        },
        "id": "8ejMOVWCrssy",
        "outputId": "c25c97e1-3f2f-4ade-fd4a-bb25ce649556"
      },
      "execution_count": 90,
      "outputs": [
        {
          "output_type": "execute_result",
          "data": {
            "text/plain": [
              "TOYT         17\n",
              "HONDA        14\n",
              "NISSAN       12\n",
              "FORD         10\n",
              "CHEVROLET     5\n",
              "INFI          4\n",
              "DODGE         4\n",
              "MERZ          3\n",
              "GMC           3\n",
              "VOLK          3\n",
              "MAC           3\n",
              "CHRY          2\n",
              "LNDR          2\n",
              "JEEP          2\n",
              "HINO          2\n",
              "BMW           2\n",
              "NIU           1\n",
              "hino          1\n",
              "bus           1\n",
              "LEXS          1\n",
              "SUBA          1\n",
              "GREYHOUND     1\n",
              "VOLV          1\n",
              "AUDI          1\n",
              "YAMA          1\n",
              "MITS          1\n",
              "LINC          1\n",
              "ORION         1\n",
              "Name: VEHICLE_MAKE, dtype: int64"
            ]
          },
          "metadata": {},
          "execution_count": 90
        }
      ]
    },
    {
      "cell_type": "markdown",
      "source": [
        "#**Analysis 1 ( Vechile Make vs Accidents in year 2018, 2019, 2020) for sample data.**"
      ],
      "metadata": {
        "id": "WlObrboLfuOL"
      }
    },
    {
      "cell_type": "code",
      "source": [
        "# Converting the data into 3 groups according to the year in which the accident happened.\n",
        "# sample data of 2018 is represented by sd_2018 and similarly for other years.\n",
        "sd_2018 = sample_data[sample_data['YEAR'] == 2018]\n",
        "sd_2019 = sample_data[sample_data['YEAR'] == 2019]\n",
        "sd_2020 = sample_data[sample_data['YEAR'] == 2020]\n",
        "sd_2018.shape,sd_2019.shape, sd_2020.shape"
      ],
      "metadata": {
        "colab": {
          "base_uri": "https://localhost:8080/"
        },
        "id": "oDKBS54Qq3Yq",
        "outputId": "3e648882-bbd2-4606-a758-a86408c9f800"
      },
      "execution_count": 91,
      "outputs": [
        {
          "output_type": "execute_result",
          "data": {
            "text/plain": [
              "((15, 26), (66, 26), (19, 26))"
            ]
          },
          "metadata": {},
          "execution_count": 91
        }
      ]
    },
    {
      "cell_type": "code",
      "source": [
        "X = ['TOYT', 'CADI', 'GMC', 'SUBA'] # labels of to be plotted.\n",
        "no_of_accidents_2018 = [sd_2018[sd_2018['VEHICLE_MAKE'] =='TOYT'].shape[0],\n",
        "                        sd_2018[sd_2018['VEHICLE_MAKE'] =='CADI'].shape[0],\n",
        "                        sd_2018[sd_2018['VEHICLE_MAKE'] =='GMC'].shape[0],\n",
        "                        sd_2018[sd_2018['VEHICLE_MAKE'] =='SUBA'].shape[0]]\n",
        "no_of_accidents_2019 = [sd_2019[sd_2019['VEHICLE_MAKE'] =='TOYT'].shape[0],\n",
        "                        sd_2019[sd_2019['VEHICLE_MAKE'] =='CADI'].shape[0],\n",
        "                        sd_2019[sd_2019['VEHICLE_MAKE'] =='GMC'].shape[0],\n",
        "                        sd_2019[sd_2019['VEHICLE_MAKE'] =='SUBA'].shape[0]]\n",
        "no_of_accidents_2020 = [sd_2020[sd_2020['VEHICLE_MAKE'] =='TOYT'].shape[0],\n",
        "                        sd_2020[sd_2020['VEHICLE_MAKE'] =='CADI'].shape[0],\n",
        "                        sd_2020[sd_2020['VEHICLE_MAKE'] =='GMC'].shape[0],\n",
        "                        sd_2020[sd_2020['VEHICLE_MAKE'] =='SUBA'].shape[0]]\n",
        " \n",
        "X_axis = np.arange( len(X))\n",
        " \n",
        "plt.bar(X_axis-0.2, no_of_accidents_2018, 0.2, label = '2018')\n",
        "plt.bar(X_axis, no_of_accidents_2019, 0.2, label = '2019')\n",
        "plt.bar(X_axis + 0.2, no_of_accidents_2020, 0.2, label = '2020')\n",
        " \n",
        "plt.xticks(X_axis, X)\n",
        "plt.xlabel(\"Vehicle Make\")\n",
        "plt.ylabel(\"Number of Accidents\" )\n",
        "plt.title(\"Vechile Make of of TOYT, CADI, GMC, SUBA in years 2018, 2019, 2020\")\n",
        "plt.legend()\n",
        "plt.show()"
      ],
      "metadata": {
        "colab": {
          "base_uri": "https://localhost:8080/",
          "height": 350
        },
        "id": "JA59RvH3LS6c",
        "outputId": "e7225862-7aac-4b26-d654-b6e05aa7ee7a"
      },
      "execution_count": 92,
      "outputs": [
        {
          "output_type": "display_data",
          "data": {
            "text/plain": [
              "<Figure size 1296x360 with 1 Axes>"
            ],
            "image/png": "[encoded data removed]"
          },
          "metadata": {
            "needs_background": "light"
          }
        }
      ]
    },
    {
      "cell_type": "code",
      "source": [
        "sd_2020[sd_2020['VEHICLE_MAKE'] =='GMC'].shape[0] #1\n",
        "sd_2019[sd_2019['VEHICLE_MAKE'] =='GMC'].shape[0] #\n",
        "#Hence our graph is correct since we are getting the same results as of value_counts of the sample data GMC = 3 which is distributed among 2 in 2019 and 1 in 2020."
      ],
      "metadata": {
        "colab": {
          "base_uri": "https://localhost:8080/"
        },
        "id": "op5k2cTsrCPQ",
        "outputId": "7802ce62-a04a-4ce6-a66f-73aec903aee3"
      },
      "execution_count": 93,
      "outputs": [
        {
          "output_type": "execute_result",
          "data": {
            "text/plain": [
              "2"
            ]
          },
          "metadata": {},
          "execution_count": 93
        }
      ]
    },
    {
      "cell_type": "markdown",
      "source": [
        "## when we are comparing the value_counts of sample data with the data that we obtained from the graph we can understand that it is correct."
      ],
      "metadata": {
        "id": "QwV9MZcLs8kE"
      }
    },
    {
      "cell_type": "markdown",
      "source": [
        "#**Analysis 1 ( Vechile Make vs Accidents in year 2018, 2019, 2020) for the Orginal data.**"
      ],
      "metadata": {
        "id": "xnM4C075qJAF"
      }
    },
    {
      "cell_type": "code",
      "source": [
        "# Converting the data into 3 groups according to the year in which the accident happened.\n",
        "df_2018 = data[data['YEAR'] == 2018]\n",
        "df_2019 = data[data['YEAR'] == 2019]\n",
        "df_2020 = data[data['YEAR'] == 2020]\n",
        "df_2018.shape,df_2019.shape, df_2020.shape"
      ],
      "metadata": {
        "colab": {
          "base_uri": "https://localhost:8080/"
        },
        "id": "7kDmLuIRqe4D",
        "outputId": "a2fc7f77-a7ea-4e1e-f216-ad969e01d26e"
      },
      "execution_count": 94,
      "outputs": [
        {
          "output_type": "execute_result",
          "data": {
            "text/plain": [
              "((141351, 26), (377495, 26), (128870, 26))"
            ]
          },
          "metadata": {},
          "execution_count": 94
        }
      ]
    },
    {
      "cell_type": "code",
      "source": [
        "X = ['TOYT', 'CADI', 'GMC', 'SUBA'] # labels of to be plotted.\n",
        "no_of_accidents_2018 = [df_2018[df_2018['VEHICLE_MAKE'] =='TOYT'].shape[0],\n",
        "                        df_2018[df_2018['VEHICLE_MAKE'] =='CADI'].shape[0],\n",
        "                        df_2018[df_2018['VEHICLE_MAKE'] =='GMC'].shape[0],\n",
        "                        df_2018[df_2018['VEHICLE_MAKE'] =='SUBA'].shape[0]]\n",
        "no_of_accidents_2019 = [df_2019[df_2019['VEHICLE_MAKE'] =='TOYT'].shape[0],\n",
        "                        df_2019[df_2019['VEHICLE_MAKE'] =='CADI'].shape[0],\n",
        "                        df_2019[df_2019['VEHICLE_MAKE'] =='GMC'].shape[0],\n",
        "                        df_2019[df_2019['VEHICLE_MAKE'] =='SUBA'].shape[0]]\n",
        "no_of_accidents_2020 = [df_2020[df_2020['VEHICLE_MAKE'] =='TOYT'].shape[0],\n",
        "                        df_2020[df_2020['VEHICLE_MAKE'] =='CADI'].shape[0],\n",
        "                        df_2020[df_2020['VEHICLE_MAKE'] =='GMC'].shape[0],\n",
        "                        df_2020[df_2020['VEHICLE_MAKE'] =='SUBA'].shape[0]]\n",
        " \n",
        "X_axis = np.arange( len(X))\n",
        " \n",
        "plt.bar(X_axis-0.2, no_of_accidents_2018, 0.2, label = '2018')\n",
        "plt.bar(X_axis, no_of_accidents_2019, 0.2, label = '2019')\n",
        "plt.bar(X_axis + 0.2, no_of_accidents_2020, 0.2, label = '2020')\n",
        " \n",
        "plt.xticks(X_axis, X)\n",
        "plt.xlabel(\"VEHICLE MAKE\")\n",
        "plt.ylabel(\"FREQUENCY OF ACCIDENTS\" )\n",
        "plt.title(\"VEHICLE MAKE of TOYT, CADI, GMC, SUBA in years 2018, 2019, 2020\")\n",
        "plt.legend()\n",
        "plt.show()"
      ],
      "metadata": {
        "colab": {
          "base_uri": "https://localhost:8080/",
          "height": 350
        },
        "id": "1deP1k2Brt74",
        "outputId": "72e8c632-7909-41e1-b779-829c01320e12"
      },
      "execution_count": 95,
      "outputs": [
        {
          "output_type": "display_data",
          "data": {
            "text/plain": [
              "<Figure size 1296x360 with 1 Axes>"
            ],
            "image/png": "[encoded data removed]"
          },
          "metadata": {
            "needs_background": "light"
          }
        }
      ]
    },
    {
      "cell_type": "markdown",
      "source": [
        "# The accidents for TOYOTA is maximum in 2019 but we can't say since we only took 4 months of data of 2018 and 8 months for 2020. The conclusion that we can get is that TOYOTA is the vehicle that got into accidents mostly when compared with CADI, GMC and SUBA with a high margin."
      ],
      "metadata": {
        "id": "q3nnhTzW6nEy"
      }
    },
    {
      "cell_type": "markdown",
      "source": [
        "#**Analysis 2 ( Vechile Make vs Months) for sample data.**"
      ],
      "metadata": {
        "id": "3X0sKx_4qmnV"
      }
    },
    {
      "cell_type": "code",
      "source": [
        "sample_data['VEHICLE_MAKE'].value_counts()"
      ],
      "metadata": {
        "colab": {
          "base_uri": "https://localhost:8080/"
        },
        "id": "hqprD2t8weqi",
        "outputId": "db630ccd-e34b-4528-d947-a45467ad350e"
      },
      "execution_count": 96,
      "outputs": [
        {
          "output_type": "execute_result",
          "data": {
            "text/plain": [
              "TOYT         17\n",
              "HONDA        14\n",
              "NISSAN       12\n",
              "FORD         10\n",
              "CHEVROLET     5\n",
              "INFI          4\n",
              "DODGE         4\n",
              "MERZ          3\n",
              "GMC           3\n",
              "VOLK          3\n",
              "MAC           3\n",
              "CHRY          2\n",
              "LNDR          2\n",
              "JEEP          2\n",
              "HINO          2\n",
              "BMW           2\n",
              "NIU           1\n",
              "hino          1\n",
              "bus           1\n",
              "LEXS          1\n",
              "SUBA          1\n",
              "GREYHOUND     1\n",
              "VOLV          1\n",
              "AUDI          1\n",
              "YAMA          1\n",
              "MITS          1\n",
              "LINC          1\n",
              "ORION         1\n",
              "Name: VEHICLE_MAKE, dtype: int64"
            ]
          },
          "metadata": {},
          "execution_count": 96
        }
      ]
    },
    {
      "cell_type": "code",
      "source": [
        "# Split the dataframe into 4 dataframe using the vehicle make condition and then take the value_counts for the analysis.\n",
        "sd_TOYT = sample_data[sample_data['VEHICLE_MAKE'] == 'TOYT']\n",
        "sd_CADI = sample_data[sample_data['VEHICLE_MAKE'] == 'CADI']\n",
        "sd_GMC = sample_data[sample_data['VEHICLE_MAKE'] == 'GMC']\n",
        "sd_SUBA = sample_data[sample_data['VEHICLE_MAKE'] == 'SUBA']"
      ],
      "metadata": {
        "id": "yHiPcz887oue"
      },
      "execution_count": 97,
      "outputs": []
    },
    {
      "cell_type": "code",
      "source": [
        "sd_TOYT['MONTH'].value_counts()"
      ],
      "metadata": {
        "colab": {
          "base_uri": "https://localhost:8080/"
        },
        "id": "oj5UrGyEUvsm",
        "outputId": "1da4d7b5-1c7d-4a50-e4a5-364bf6d7cd65"
      },
      "execution_count": 98,
      "outputs": [
        {
          "output_type": "execute_result",
          "data": {
            "text/plain": [
              "1     3\n",
              "2     3\n",
              "6     3\n",
              "11    2\n",
              "12    2\n",
              "10    1\n",
              "7     1\n",
              "3     1\n",
              "5     1\n",
              "Name: MONTH, dtype: int64"
            ]
          },
          "metadata": {},
          "execution_count": 98
        }
      ]
    },
    {
      "cell_type": "code",
      "source": [
        "a = sd_TOYT['MONTH'].value_counts().to_dict()\n",
        "print(a)"
      ],
      "metadata": {
        "colab": {
          "base_uri": "https://localhost:8080/"
        },
        "id": "VzGauGPPww4_",
        "outputId": "bb76cb91-a041-4a82-d2bc-630465bc2bfe"
      },
      "execution_count": 99,
      "outputs": [
        {
          "output_type": "stream",
          "name": "stdout",
          "text": [
            "{1: 3, 2: 3, 6: 3, 11: 2, 12: 2, 10: 1, 7: 1, 3: 1, 5: 1}\n"
          ]
        }
      ]
    },
    {
      "cell_type": "code",
      "source": [
        "x = [1, 2, 3, 4, 5, 6 ,7 ,8, 9, 10, 11, 12]\n",
        "m ={k: 0 for v, k in enumerate(x)}\n",
        "# Making a dictionary with keys as months and values as 0 which are going to be updated."
      ],
      "metadata": {
        "id": "zDKOQpnvXz4b"
      },
      "execution_count": 100,
      "outputs": []
    },
    {
      "cell_type": "code",
      "source": [
        "m.update(a)\n",
        "print(m)"
      ],
      "metadata": {
        "colab": {
          "base_uri": "https://localhost:8080/"
        },
        "id": "Uy2uM5c3YEVA",
        "outputId": "9dcdcd7a-afe0-40c3-9761-b8d644d2e5b3"
      },
      "execution_count": 101,
      "outputs": [
        {
          "output_type": "stream",
          "name": "stdout",
          "text": [
            "{1: 3, 2: 3, 3: 1, 4: 0, 5: 1, 6: 3, 7: 1, 8: 0, 9: 0, 10: 1, 11: 2, 12: 2}\n"
          ]
        }
      ]
    },
    {
      "cell_type": "code",
      "source": [
        "# Function to return the frequency of accidents in each month with zero as values for months in which there is no accidents.\n",
        "def monthly_accidents(Vehile_column):\n",
        "  a = Vehile_column.value_counts().to_dict()\n",
        "  x = [1, 2, 3, 4, 5, 6 ,7 ,8, 9, 10, 11, 12]\n",
        "  m = {k: 0 for v, k in enumerate(x)}\n",
        "  m.update(a)\n",
        "  return list(m.values())\n",
        "\n",
        "print(monthly_accidents(sd_TOYT['MONTH']))"
      ],
      "metadata": {
        "colab": {
          "base_uri": "https://localhost:8080/"
        },
        "id": "ss03Lntk-4pn",
        "outputId": "06449305-ec85-4b9e-fef4-31b2494c2c1b"
      },
      "execution_count": 102,
      "outputs": [
        {
          "output_type": "stream",
          "name": "stdout",
          "text": [
            "[3, 3, 1, 0, 1, 3, 1, 0, 0, 1, 2, 2]\n"
          ]
        }
      ]
    },
    {
      "cell_type": "code",
      "source": [
        "a = sd_CADI['MONTH'].value_counts().to_dict()\n",
        "print(a)\n",
        "# There is no value for CADI in the graph too as well as other values are plotted correctly thus the graph is correct."
      ],
      "metadata": {
        "colab": {
          "base_uri": "https://localhost:8080/"
        },
        "id": "z6MS1eIpyaV-",
        "outputId": "0a9be5e8-7210-4260-8f58-216bf6199c0c"
      },
      "execution_count": 104,
      "outputs": [
        {
          "output_type": "stream",
          "name": "stdout",
          "text": [
            "{}\n"
          ]
        }
      ]
    },
    {
      "cell_type": "code",
      "source": [
        "X = [1, 2, 3, 4, 5, 6 ,7 ,8, 9, 10, 11, 12]\n",
        "TOYT = monthly_accidents(sd_TOYT['MONTH'])\n",
        "CADI = monthly_accidents(sd_CADI['MONTH'])\n",
        "GMC = monthly_accidents(sd_GMC['MONTH'])\n",
        "SUBA = monthly_accidents(sd_SUBA['MONTH'])\n",
        "\n",
        "\n",
        "plot1, = plt.plot(X, TOYT, color='green', marker='o')\n",
        "plot2, = plt.plot(X, CADI, color='red', marker='o')\n",
        "plot3, = plt.plot(X, GMC, color='yellow', marker='o')\n",
        "plot4, = plt.plot(X, SUBA, color='blue', marker='o')\n",
        "plt.rcParams[\"figure.figsize\"] = (18,10)\n",
        "plt.xticks(ticks =X, labels = ['Jan', 'Feb', 'Mar', 'April', 'May', 'Jun', 'Jul', 'Aug', 'Sep', 'Oct', 'Nov', 'Dec'])\n",
        "plt.title('Vehicle Make of TOYT, CADI, GMC, SUBA for different Months', fontsize=14)\n",
        "plt.xlabel('Months in Years', fontsize=14)\n",
        "plt.ylabel('Vehicle Make Count', fontsize=14)\n",
        "plt.legend([plot1, plot2, plot3, plot4], ['TOYOTA', 'CADI', 'GMC', 'SUBA'])\n",
        "plt.grid(True)\n",
        "plt.show()"
      ],
      "metadata": {
        "colab": {
          "base_uri": "https://localhost:8080/",
          "height": 355
        },
        "id": "3q0s-zjbYapJ",
        "outputId": "a75f6a48-f04a-4e8d-bc9b-53e4557441e7"
      },
      "execution_count": 110,
      "outputs": [
        {
          "output_type": "display_data",
          "data": {
            "text/plain": [
              "<Figure size 1296x360 with 1 Axes>"
            ],
            "image/png": "[encoded data removed]"
          },
          "metadata": {
            "needs_background": "light"
          }
        }
      ]
    },
    {
      "cell_type": "markdown",
      "source": [
        "#**Analysis 2 ( Vechile Make vs Months) for Orginal data.**"
      ],
      "metadata": {
        "id": "jSEN9mnqAyXj"
      }
    },
    {
      "cell_type": "code",
      "source": [
        "# Split the dataframe into 4 dataframe using the vehicle make condition and then take the value_counts for th eanalysis.\n",
        "df_TOYT = data[data['VEHICLE_MAKE'] == 'TOYT']\n",
        "df_CADI = data[data['VEHICLE_MAKE'] == 'CADI']\n",
        "df_GMC = data[data['VEHICLE_MAKE'] == 'GMC']\n",
        "df_SUBA = data[data['VEHICLE_MAKE'] == 'SUBA']"
      ],
      "metadata": {
        "id": "t8vjsW-kA21K"
      },
      "execution_count": 111,
      "outputs": []
    },
    {
      "cell_type": "code",
      "source": [
        "df_TOYT['MONTH'].value_counts()"
      ],
      "metadata": {
        "colab": {
          "base_uri": "https://localhost:8080/"
        },
        "id": "j_U69AwaWIOU",
        "outputId": "b2e5c867-8856-4c18-effc-d87a15d87948"
      },
      "execution_count": 112,
      "outputs": [
        {
          "output_type": "execute_result",
          "data": {
            "text/plain": [
              "10    12360\n",
              "12    12275\n",
              "11    12068\n",
              "9     11731\n",
              "1     10304\n",
              "2      9853\n",
              "3      9051\n",
              "6      8112\n",
              "7      7949\n",
              "5      7743\n",
              "8      7734\n",
              "4      6488\n",
              "Name: MONTH, dtype: int64"
            ]
          },
          "metadata": {},
          "execution_count": 112
        }
      ]
    },
    {
      "cell_type": "code",
      "source": [
        "X = [1, 2, 3, 4, 5, 6 ,7 ,8, 9, 10, 11, 12]\n",
        "TOYT = monthly_accidents(df_TOYT['MONTH'])\n",
        "CADI = monthly_accidents(df_CADI['MONTH'])\n",
        "GMC = monthly_accidents(df_GMC['MONTH'])\n",
        "SUBA = monthly_accidents(df_SUBA['MONTH'])\n",
        "\n",
        "\n",
        "plot1, = plt.plot(X, TOYT, color='green', marker='o')\n",
        "plot2, = plt.plot(X, CADI, color='red', marker='o')\n",
        "plot3, = plt.plot(X, GMC, color='yellow', marker='o')\n",
        "plot4, = plt.plot(X, SUBA, color='blue', marker='o')\n",
        "plt.rcParams[\"figure.figsize\"] = (18,10)\n",
        "plt.xticks(ticks =X, labels = ['Jan', 'Feb', 'Mar', 'April', 'May', 'Jun', 'Jul', 'Aug', 'Sep', 'Oct', 'Nov', 'Dec'])\n",
        "plt.title('Vehicle Make of TOYT, CADI, GMC, SUBA for different Months', fontsize=14)\n",
        "plt.xlabel('Months in Years', fontsize=14)\n",
        "plt.ylabel('Vehicle Make Count', fontsize=14)\n",
        "plt.legend([plot1, plot2, plot3, plot4], ['TOYOTA', 'CADI', 'GMC', 'SUBA'])\n",
        "plt.grid(True)\n",
        "plt.show()"
      ],
      "metadata": {
        "colab": {
          "base_uri": "https://localhost:8080/",
          "height": 627
        },
        "id": "PCbBTkjZBQU0",
        "outputId": "3fd5cda6-9924-49d7-8875-72e7f86be3f6"
      },
      "execution_count": 114,
      "outputs": [
        {
          "output_type": "display_data",
          "data": {
            "text/plain": [
              "<Figure size 1296x720 with 1 Axes>"
            ],
            "image/png": "[encoded data removed]"
          },
          "metadata": {
            "needs_background": "light"
          }
        }
      ]
    },
    {
      "cell_type": "markdown",
      "source": [
        "## We can identify from the line graph that VEHICLE MAKE TOYATA has the maximum no of accidents in this period and other VEHICLE MAKE are almost similar. VEHICLE MAKE CADI is the one which has least accidents. We are not able to properly tell which month has more accidents since the data interval we took contains 4 months from 2018, All the months of 2019, and 8 months of 2020. So we need to plot year wise monthly analysis."
      ],
      "metadata": {
        "id": "4xFMkyRRkwUq"
      }
    },
    {
      "cell_type": "code",
      "source": [
        "df_2018_TOYT = df_2018[df_2018['VEHICLE_MAKE'] == 'TOYT']\n",
        "df_2018_CADI = df_2018[df_2018['VEHICLE_MAKE'] == 'CADI']\n",
        "df_2018_GMC = df_2018[df_2018['VEHICLE_MAKE'] == 'GMC']\n",
        "df_2018_SUBA = df_2018[df_2018['VEHICLE_MAKE'] == 'SUBA']\n",
        "\n",
        "X = [1, 2, 3, 4, 5, 6 ,7 ,8, 9, 10, 11, 12]\n",
        "TOYT = monthly_accidents(df_2018_TOYT['MONTH'])\n",
        "CADI = monthly_accidents(df_2018_CADI['MONTH'])\n",
        "GMC = monthly_accidents(df_2018_GMC['MONTH'])\n",
        "SUBA = monthly_accidents(df_2018_SUBA['MONTH'])\n",
        "\n",
        "\n",
        "plot1, = plt.plot(X, TOYT, color='green', marker='o')\n",
        "plot2, = plt.plot(X, CADI, color='red', marker='o')\n",
        "plot3, = plt.plot(X, GMC, color='yellow', marker='o')\n",
        "plot4, = plt.plot(X, SUBA, color='blue', marker='o')\n",
        "plt.rcParams[\"figure.figsize\"] = (18,10)\n",
        "plt.xticks(ticks =X, labels = ['Jan', 'Feb', 'Mar', 'April', 'May', 'Jun', 'Jul', 'Aug', 'Sep', 'Oct', 'Nov', 'Dec'])\n",
        "plt.title('Vehicle Make of TOYT, CADI, GMC, SUBA for different Months in 2018', fontsize=14)\n",
        "plt.xlabel('Months in 2018', fontsize=14)\n",
        "plt.ylabel('Vehicle Make Count', fontsize=14)\n",
        "plt.legend([plot1, plot2, plot3, plot4], ['TOYOTA', 'CADI', 'GMC', 'SUBA'])\n",
        "plt.grid(True)\n",
        "plt.show()"
      ],
      "metadata": {
        "colab": {
          "base_uri": "https://localhost:8080/",
          "height": 627
        },
        "id": "n0LFBY_1tiyW",
        "outputId": "05435a65-be08-4a54-e402-4a30ac762994"
      },
      "execution_count": 115,
      "outputs": [
        {
          "output_type": "display_data",
          "data": {
            "text/plain": [
              "<Figure size 1296x720 with 1 Axes>"
            ],
            "image/png": "[encoded data removed]"
          },
          "metadata": {
            "needs_background": "light"
          }
        }
      ]
    },
    {
      "cell_type": "markdown",
      "source": [
        "# Toyota is the VEHICLE MAKE that got into accidents mostly in the months of 2018. \n",
        "\n",
        "\n"
      ],
      "metadata": {
        "id": "gFb4o0W-qKxy"
      }
    },
    {
      "cell_type": "code",
      "source": [
        "df_2019_TOYT =df_2019[df_2019['VEHICLE_MAKE'] == 'TOYT']\n",
        "df_2019_CADI =df_2019[df_2019['VEHICLE_MAKE'] == 'CADI']\n",
        "df_2019_GMC =df_2019[df_2019['VEHICLE_MAKE'] == 'GMC']\n",
        "df_2019_SUBA =df_2019[df_2019['VEHICLE_MAKE'] == 'SUBA']\n",
        "\n",
        "X = [1, 2, 3, 4, 5, 6 ,7 ,8, 9, 10, 11, 12]\n",
        "TOYT = monthly_accidents(df_2019_TOYT['MONTH'])\n",
        "CADI = monthly_accidents(df_2019_CADI['MONTH'])\n",
        "GMC = monthly_accidents(df_2019_GMC['MONTH'])\n",
        "SUBA = monthly_accidents(df_2019_SUBA['MONTH'])\n",
        "\n",
        "\n",
        "plot1, = plt.plot(X, TOYT, color='green', marker='o')\n",
        "plot2, = plt.plot(X, CADI, color='red', marker='o')\n",
        "plot3, = plt.plot(X, GMC, color='yellow', marker='o')\n",
        "plot4, = plt.plot(X, SUBA, color='blue', marker='o')\n",
        "plt.rcParams[\"figure.figsize\"] = (18,10)\n",
        "plt.xticks(ticks =X, labels = ['Jan', 'Feb', 'Mar', 'April', 'May', 'Jun', 'Jul', 'Aug', 'Sep', 'Oct', 'Nov', 'Dec'])\n",
        "plt.title('Vehicle Make of TOYT, CADI, GMC, SUBA for different Months in 2019', fontsize=14)\n",
        "plt.xlabel('Months in 2019', fontsize=14)\n",
        "plt.ylabel('Vehicle Make Count', fontsize=14)\n",
        "plt.legend([plot1, plot2, plot3, plot4], ['TOYOTA', 'CADI', 'GMC', 'SUBA'])\n",
        "plt.grid(True)\n",
        "plt.show()"
      ],
      "metadata": {
        "colab": {
          "base_uri": "https://localhost:8080/",
          "height": 627
        },
        "id": "WuFMqnwft-Cd",
        "outputId": "d9e23992-4215-48e7-faf6-ef5c565ae765"
      },
      "execution_count": 116,
      "outputs": [
        {
          "output_type": "display_data",
          "data": {
            "text/plain": [
              "<Figure size 1296x720 with 1 Axes>"
            ],
            "image/png": "[encoded data removed]"
          },
          "metadata": {
            "needs_background": "light"
          }
        }
      ]
    },
    {
      "cell_type": "markdown",
      "source": [
        "## Maximum accidents occured in the month of May in 2019 for TOYOTA, But for all the months the accidents of TOYOTA is very high compared to all other VEHICLE MAKE."
      ],
      "metadata": {
        "id": "U_fVoqXuqR91"
      }
    },
    {
      "cell_type": "code",
      "source": [
        "df_2020_TOYT =df_2020[df_2020['VEHICLE_MAKE'] == 'TOYT']\n",
        "df_2020_CADI =df_2020[df_2020['VEHICLE_MAKE'] == 'CADI']\n",
        "df_2020_GMC =df_2020[df_2020['VEHICLE_MAKE'] == 'GMC']\n",
        "df_2020_SUBA =df_2020[df_2020['VEHICLE_MAKE'] == 'SUBA']\n",
        "\n",
        "X = [1, 2, 3, 4, 5, 6 ,7 ,8, 9, 10, 11, 12]\n",
        "TOYT = monthly_accidents(df_2020_TOYT['MONTH']) # Returns a list of values of 12 months.\n",
        "CADI = monthly_accidents(df_2020_CADI['MONTH'])\n",
        "GMC = monthly_accidents(df_2020_GMC['MONTH'])\n",
        "SUBA = monthly_accidents(df_2020_SUBA['MONTH'])\n",
        "\n",
        "\n",
        "plot1, = plt.plot(X, TOYT, color='green', marker='o')\n",
        "plot2, = plt.plot(X, CADI, color='red', marker='o')\n",
        "plot3, = plt.plot(X, GMC, color='yellow', marker='o')\n",
        "plot4, = plt.plot(X, SUBA, color='blue', marker='o')\n",
        "plt.rcParams[\"figure.figsize\"] = (18,10)\n",
        "plt.xticks(ticks =X, labels = ['Jan', 'Feb', 'Mar', 'April', 'May', 'Jun', 'Jul', 'Aug', 'Sep', 'Oct', 'Nov', 'Dec'])\n",
        "plt.title('Vehicle Make of TOYT, CADI, GMC, SUBA for different Months in 2020', fontsize=14)\n",
        "plt.xlabel('Months in 2020', fontsize=14)\n",
        "plt.ylabel('Vehicle Make Count', fontsize=14)\n",
        "plt.legend([plot1, plot2, plot3, plot4], ['TOYOTA', 'CADI', 'GMC', 'SUBA'])\n",
        "plt.grid(True)\n",
        "plt.show()"
      ],
      "metadata": {
        "colab": {
          "base_uri": "https://localhost:8080/",
          "height": 627
        },
        "id": "QYAy2zTrublI",
        "outputId": "a65c6ec5-ad85-47bf-bbc2-06c2c3670d7a"
      },
      "execution_count": 117,
      "outputs": [
        {
          "output_type": "display_data",
          "data": {
            "text/plain": [
              "<Figure size 1296x720 with 1 Axes>"
            ],
            "image/png": "[encoded data removed]"
          },
          "metadata": {
            "needs_background": "light"
          }
        }
      ]
    },
    {
      "cell_type": "markdown",
      "source": [
        "https://www.driversautomart.com/why-is-the-toyota-brand-so-popular-among-consumers/\n",
        "\n",
        "1.   Toyota is very popular vehicle in usa as it builds solid, efficient, and reliable vehicles as per consumer reports. This can be the main reason for increased no of accidents as the VEHICLE MAKE 'TOYATA' is used by a major population. Thus, our analysis of the data is valid."
      ],
      "metadata": {
        "id": "PqgUAwTj6AGm"
      }
    },
    {
      "cell_type": "markdown",
      "source": [
        "## In initial months of 2020, we can see that all the VEHICLE MAKE accidents got declined rapidly. This decline in accidents is due to impact of COVID-19 pandemic. We can see from the above graph that, the accidents started declining from January and reached a bottom threshold at April. \n",
        "\n",
        "https://en.wikipedia.org/wiki/COVID-19_pandemic_in_New_York_City\n",
        "\n",
        "\n",
        "According to the data from internet we can see that the coronavirus has been spreading in newyork city from january.\n",
        " \n",
        "\n",
        "1.   **By March 29, over 30,000 cases were confirmed** \n",
        "2.   **Starting March 16, New York City schools were closed.**\n",
        "3.   **On March 20, the New York State governor's office issued an executive order closing \"non-essential\" businesses.**\n",
        "\n",
        "These were the reasons for maximum rate of decline in accidents in the month of March and April, people started to go out only for survival needs.\n",
        "\n",
        "\n",
        "\n",
        "\n"
      ],
      "metadata": {
        "id": "01UZl1fxsE4F"
      }
    },
    {
      "cell_type": "markdown",
      "source": [
        "#**Analysis 3 ( Vechile TYPE vs Accidents Frequency) for sample data.**"
      ],
      "metadata": {
        "id": "cAWEVNGAqkQ-"
      }
    },
    {
      "cell_type": "code",
      "source": [
        "sample_data['VEHICLE_TYPE'].value_counts()"
      ],
      "metadata": {
        "colab": {
          "base_uri": "https://localhost:8080/"
        },
        "id": "Ws6Ntr_kRC65",
        "outputId": "df1c1c75-b750-4392-ab48-4942ef0bf72e"
      },
      "execution_count": 118,
      "outputs": [
        {
          "output_type": "execute_result",
          "data": {
            "text/plain": [
              "SEDAN                    45\n",
              "SPORT UTILITY VEHICLE    35\n",
              "TRUCK                    10\n",
              "TAXI                      5\n",
              "BUS                       3\n",
              "BIKE                      2\n",
              "Name: VEHICLE_TYPE, dtype: int64"
            ]
          },
          "metadata": {},
          "execution_count": 118
        }
      ]
    },
    {
      "cell_type": "code",
      "source": [
        "data_dict = sample_data['VEHICLE_TYPE'].value_counts().to_dict() # Converting the value counts of VEHICLE TYPE into a dictionary.\n",
        "labels = [] \n",
        "sizes = []\n",
        "K = int(input('Enter the no of portion of the pie chart to be exploded out ')) # We can give input to k so that the smallest frequency of vehicle type will be exploded out.\n",
        "p = float(input('The width in which exploding to happen (0.1-0.5)'))\n",
        "for x, y in data_dict.items():\n",
        "    labels.append(x)\n",
        "    sizes.append(y)\n",
        "explode = list(np.zeros(len(sizes))) # Made a list of 0 for explode equal to the size of sizes.\n",
        "small_indexes = sorted(range(len(sizes)), key = lambda sub: sizes[sub])[:K] # An algorithm to return out the smallest k indices from the sizes list.\n",
        "for count, ele in enumerate(small_indexes[::-1], 1):\n",
        "  explode[ele] = p* count # Respective index values of the explode gets replace by the p.\n",
        "\n",
        "fig1, ax1 = plt.subplots()\n",
        "ax1.pie(sizes, explode=explode, labels=labels, autopct='%1.1f%%', shadow=False, startangle=200) # pie chart syntax with different parameters.\n",
        "ax1.axis('equal')  # Equal aspect ratio ensures that pie is drawn as a circle.\n",
        "\n",
        "plt.show()"
      ],
      "metadata": {
        "colab": {
          "base_uri": "https://localhost:8080/",
          "height": 610
        },
        "id": "b1qaFdoufZQM",
        "outputId": "c291158d-2247-402f-86cf-564fa685c1f7"
      },
      "execution_count": 123,
      "outputs": [
        {
          "name": "stdout",
          "output_type": "stream",
          "text": [
            "Enter the no of portion of the pie chart to be exploded out 3\n",
            "The width in which exploding to happen (0.1-0.5).2\n"
          ]
        },
        {
          "output_type": "display_data",
          "data": {
            "text/plain": [
              "<Figure size 1296x720 with 1 Axes>"
            ],
            "image/png": "[encoded data removed]"
          },
          "metadata": {}
        }
      ]
    },
    {
      "cell_type": "markdown",
      "source": [
        "#**Analysis 3 ( Vechile TYPE vs Accidents Frequency) for the data between 1st September 2018 to 31st August 2020.**"
      ],
      "metadata": {
        "id": "ZDR1_DCVZtph"
      }
    },
    {
      "cell_type": "code",
      "source": [
        "data['VEHICLE_TYPE'].value_counts()"
      ],
      "metadata": {
        "colab": {
          "base_uri": "https://localhost:8080/"
        },
        "id": "SgFigBrHOpUv",
        "outputId": "f5b3aa70-0b88-4748-a816-49da7787c6de"
      },
      "execution_count": 124,
      "outputs": [
        {
          "output_type": "execute_result",
          "data": {
            "text/plain": [
              "SEDAN                    296860\n",
              "SPORT UTILITY VEHICLE    257926\n",
              "TRUCK                     42894\n",
              "TAXI                      29501\n",
              "BUS                        9936\n",
              "VAN                        4193\n",
              "MOTORCYCLE                 3367\n",
              "PASSENGER VEHICLE          2190\n",
              "BIKE                        839\n",
              "BICYCLE                      10\n",
              "Name: VEHICLE_TYPE, dtype: int64"
            ]
          },
          "metadata": {},
          "execution_count": 124
        }
      ]
    },
    {
      "cell_type": "code",
      "source": [
        "data_dict = data['VEHICLE_TYPE'].value_counts().to_dict() # Converting the value counts of VEHICLE TYPE into a dictionary.\n",
        "\n",
        "labels = [] \n",
        "sizes = []\n",
        "\n",
        "K = int(input('Enter the no of portion of the pie chart to be exploded out ')) # We can give input to k so that the smallest frequency of vehicle type will be exploded out.\n",
        "p = float(input('The width in which exploding to happen (0.1-1)'))\n",
        "for x, y in data_dict.items():\n",
        "    labels.append(x)\n",
        "    sizes.append(y)\n",
        "explode = list(np.zeros(len(sizes))) # Made a list of 0 for explode equal to the size of sizes.\n",
        "small_indexes = sorted(range(len(sizes)), key = lambda sub: sizes[sub])[:K] # An algorithm to return out the smallest k indices from the sizes list.\n",
        "for count, ele in enumerate(small_indexes[::-1], 1):\n",
        "  explode[ele] = p* count # Respective index values of the explode gets replace by the p.\n",
        "plt.rcParams[\"figure.figsize\"] = (18, 17) # Increasing the size of the pie chart.\n",
        "\n",
        "fig1, ax1 = plt.subplots()\n",
        "pie = ax1.pie(sizes, explode=explode, labels=labels, autopct='%1.1f%%', shadow=False, startangle=200) # pie chart syntax with different parameters.\n",
        "\n",
        "ax1.axis('equal')  # Equal aspect ratio ensures that pie is drawn as a circle.\n",
        "\n",
        "plt.title(label='ACCIDENTS FREQUENCY OF DIFFERENT VEHICLE TYPES', fontsize=20)\n",
        "plt.legend(pie[0],labels, bbox_to_anchor=(1,0), loc='best')\n",
        "plt.show()"
      ],
      "metadata": {
        "colab": {
          "base_uri": "https://localhost:8080/",
          "height": 1000
        },
        "id": "JjnqxPVdatj6",
        "outputId": "cd740186-5bf8-4582-8e23-10f87e2f10c6"
      },
      "execution_count": 126,
      "outputs": [
        {
          "name": "stdout",
          "output_type": "stream",
          "text": [
            "Enter the no of portion of the pie chart to be exploded out 7\n",
            "The width in which exploding to happen (0.1-1).1\n"
          ]
        },
        {
          "output_type": "display_data",
          "data": {
            "text/plain": [
              "<Figure size 1296x1224 with 1 Axes>"
            ],
            "image/png": "[encoded data removed]"
          },
          "metadata": {}
        }
      ]
    },
    {
      "cell_type": "markdown",
      "source": [
        "## From the pie chart we can see that the maximum accidents were occured by SEDAN and the least by BICYCLE."
      ],
      "metadata": {
        "id": "Vdow9z--fphr"
      }
    },
    {
      "cell_type": "code",
      "source": [
        "cleaned_data = data.to_csv('/content/drive/MyDrive/Cleaned_data.csv')"
      ],
      "metadata": {
        "id": "3qcgXmrTjPI_"
      },
      "execution_count": 128,
      "outputs": []
    },
    {
      "cell_type": "code",
      "source": [],
      "metadata": {
        "id": "kifhdGnljNez"
      },
      "execution_count": null,
      "outputs": []
    }
  ]
}